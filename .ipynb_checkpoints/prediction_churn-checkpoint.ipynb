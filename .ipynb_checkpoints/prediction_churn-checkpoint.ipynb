{
 "cells": [
  {
   "cell_type": "code",
   "execution_count": 2,
   "metadata": {
    "ExecuteTime": {
     "end_time": "2021-04-12T15:23:27.891502Z",
     "start_time": "2021-04-12T15:23:27.874548Z"
    },
    "executionInfo": {
     "elapsed": 4146,
     "status": "ok",
     "timestamp": 1617875047590,
     "user": {
      "displayName": "Jordan Yew",
      "photoUrl": "https://lh3.googleusercontent.com/a-/AOh14GgwpEx4k9brsKgMmLEvzOk6fZnaqtVUqztWKK1qGA=s64",
      "userId": "04296311432662961392"
     },
     "user_tz": -480
    },
    "id": "-j8zGCca3Afo"
   },
   "outputs": [],
   "source": [
    "%matplotlib inline\n",
    "import pandas as pd\n",
    "import numpy as np\n",
    "import matplotlib.pyplot as plt\n",
    "import seaborn as sns\n",
    "\n",
    "from sklearn.preprocessing import OneHotEncoder\n",
    "from sklearn.preprocessing import LabelEncoder\n",
    "\n",
    "pd.set_option('display.max_columns', None)\n",
    "# pd.set_option('display.max_rows', None)\n",
    "pd.set_option('precision', 3)\n",
    "np.set_printoptions(suppress=True, precision = 3)"
   ]
  },
  {
   "cell_type": "code",
   "execution_count": 3,
   "metadata": {
    "ExecuteTime": {
     "end_time": "2021-04-12T15:23:28.330980Z",
     "start_time": "2021-04-12T15:23:27.892499Z"
    },
    "executionInfo": {
     "elapsed": 2196,
     "status": "ok",
     "timestamp": 1617876508781,
     "user": {
      "displayName": "Jordan Yew",
      "photoUrl": "https://lh3.googleusercontent.com/a-/AOh14GgwpEx4k9brsKgMmLEvzOk6fZnaqtVUqztWKK1qGA=s64",
      "userId": "04296311432662961392"
     },
     "user_tz": -480
    },
    "id": "rAxhjSm43dSW"
   },
   "outputs": [],
   "source": [
    "training_data = pd.read_csv('./Data/cell2celltrain.csv')\n",
    "testting_data = pd.read_csv('./Data/cell2cellholdout.csv')"
   ]
  },
  {
   "cell_type": "code",
   "execution_count": 4,
   "metadata": {
    "ExecuteTime": {
     "end_time": "2021-04-12T15:23:28.424712Z",
     "start_time": "2021-04-12T15:23:28.332933Z"
    },
    "colab": {
     "base_uri": "https://localhost:8080/",
     "height": 224
    },
    "executionInfo": {
     "elapsed": 850,
     "status": "ok",
     "timestamp": 1617876543498,
     "user": {
      "displayName": "Jordan Yew",
      "photoUrl": "https://lh3.googleusercontent.com/a-/AOh14GgwpEx4k9brsKgMmLEvzOk6fZnaqtVUqztWKK1qGA=s64",
      "userId": "04296311432662961392"
     },
     "user_tz": -480
    },
    "id": "Z0Au3hS35qFA",
    "outputId": "836b1fd9-8ce3-400b-df9c-10bb6cb160cf"
   },
   "outputs": [
    {
     "name": "stdout",
     "output_type": "stream",
     "text": [
      "<class 'pandas.core.frame.DataFrame'>\n",
      "RangeIndex: 51047 entries, 0 to 51046\n",
      "Data columns (total 58 columns):\n",
      " #   Column                     Non-Null Count  Dtype  \n",
      "---  ------                     --------------  -----  \n",
      " 0   CustomerID                 51047 non-null  int64  \n",
      " 1   Churn                      51047 non-null  object \n",
      " 2   MonthlyRevenue             50891 non-null  float64\n",
      " 3   MonthlyMinutes             50891 non-null  float64\n",
      " 4   TotalRecurringCharge       50891 non-null  float64\n",
      " 5   DirectorAssistedCalls      50891 non-null  float64\n",
      " 6   OverageMinutes             50891 non-null  float64\n",
      " 7   RoamingCalls               50891 non-null  float64\n",
      " 8   PercChangeMinutes          50680 non-null  float64\n",
      " 9   PercChangeRevenues         50680 non-null  float64\n",
      " 10  DroppedCalls               51047 non-null  float64\n",
      " 11  BlockedCalls               51047 non-null  float64\n",
      " 12  UnansweredCalls            51047 non-null  float64\n",
      " 13  CustomerCareCalls          51047 non-null  float64\n",
      " 14  ThreewayCalls              51047 non-null  float64\n",
      " 15  ReceivedCalls              51047 non-null  float64\n",
      " 16  OutboundCalls              51047 non-null  float64\n",
      " 17  InboundCalls               51047 non-null  float64\n",
      " 18  PeakCallsInOut             51047 non-null  float64\n",
      " 19  OffPeakCallsInOut          51047 non-null  float64\n",
      " 20  DroppedBlockedCalls        51047 non-null  float64\n",
      " 21  CallForwardingCalls        51047 non-null  float64\n",
      " 22  CallWaitingCalls           51047 non-null  float64\n",
      " 23  MonthsInService            51047 non-null  int64  \n",
      " 24  UniqueSubs                 51047 non-null  int64  \n",
      " 25  ActiveSubs                 51047 non-null  int64  \n",
      " 26  ServiceArea                51023 non-null  object \n",
      " 27  Handsets                   51046 non-null  float64\n",
      " 28  HandsetModels              51046 non-null  float64\n",
      " 29  CurrentEquipmentDays       51046 non-null  float64\n",
      " 30  AgeHH1                     50138 non-null  float64\n",
      " 31  AgeHH2                     50138 non-null  float64\n",
      " 32  ChildrenInHH               51047 non-null  object \n",
      " 33  HandsetRefurbished         51047 non-null  object \n",
      " 34  HandsetWebCapable          51047 non-null  object \n",
      " 35  TruckOwner                 51047 non-null  object \n",
      " 36  RVOwner                    51047 non-null  object \n",
      " 37  Homeownership              51047 non-null  object \n",
      " 38  BuysViaMailOrder           51047 non-null  object \n",
      " 39  RespondsToMailOffers       51047 non-null  object \n",
      " 40  OptOutMailings             51047 non-null  object \n",
      " 41  NonUSTravel                51047 non-null  object \n",
      " 42  OwnsComputer               51047 non-null  object \n",
      " 43  HasCreditCard              51047 non-null  object \n",
      " 44  RetentionCalls             51047 non-null  int64  \n",
      " 45  RetentionOffersAccepted    51047 non-null  int64  \n",
      " 46  NewCellphoneUser           51047 non-null  object \n",
      " 47  NotNewCellphoneUser        51047 non-null  object \n",
      " 48  ReferralsMadeBySubscriber  51047 non-null  int64  \n",
      " 49  IncomeGroup                51047 non-null  int64  \n",
      " 50  OwnsMotorcycle             51047 non-null  object \n",
      " 51  AdjustmentsToCreditRating  51047 non-null  int64  \n",
      " 52  HandsetPrice               51047 non-null  object \n",
      " 53  MadeCallToRetentionTeam    51047 non-null  object \n",
      " 54  CreditRating               51047 non-null  object \n",
      " 55  PrizmCode                  51047 non-null  object \n",
      " 56  Occupation                 51047 non-null  object \n",
      " 57  MaritalStatus              51047 non-null  object \n",
      "dtypes: float64(26), int64(9), object(23)\n",
      "memory usage: 22.6+ MB\n"
     ]
    }
   ],
   "source": [
    "df = training_data.copy()\n",
    "df.info()"
   ]
  },
  {
   "cell_type": "markdown",
   "metadata": {},
   "source": [
    "We have 51k rows of data here and 57 columns!"
   ]
  },
  {
   "cell_type": "code",
   "execution_count": 5,
   "metadata": {
    "ExecuteTime": {
     "end_time": "2021-04-12T15:23:28.488545Z",
     "start_time": "2021-04-12T15:23:28.426707Z"
    }
   },
   "outputs": [
    {
     "data": {
      "text/html": [
       "<div>\n",
       "<style scoped>\n",
       "    .dataframe tbody tr th:only-of-type {\n",
       "        vertical-align: middle;\n",
       "    }\n",
       "\n",
       "    .dataframe tbody tr th {\n",
       "        vertical-align: top;\n",
       "    }\n",
       "\n",
       "    .dataframe thead th {\n",
       "        text-align: right;\n",
       "    }\n",
       "</style>\n",
       "<table border=\"1\" class=\"dataframe\">\n",
       "  <thead>\n",
       "    <tr style=\"text-align: right;\">\n",
       "      <th></th>\n",
       "      <th>CustomerID</th>\n",
       "      <th>Churn</th>\n",
       "      <th>MonthlyRevenue</th>\n",
       "      <th>MonthlyMinutes</th>\n",
       "      <th>TotalRecurringCharge</th>\n",
       "      <th>DirectorAssistedCalls</th>\n",
       "      <th>OverageMinutes</th>\n",
       "      <th>RoamingCalls</th>\n",
       "      <th>PercChangeMinutes</th>\n",
       "      <th>PercChangeRevenues</th>\n",
       "      <th>DroppedCalls</th>\n",
       "      <th>BlockedCalls</th>\n",
       "      <th>UnansweredCalls</th>\n",
       "      <th>CustomerCareCalls</th>\n",
       "      <th>ThreewayCalls</th>\n",
       "      <th>ReceivedCalls</th>\n",
       "      <th>OutboundCalls</th>\n",
       "      <th>InboundCalls</th>\n",
       "      <th>PeakCallsInOut</th>\n",
       "      <th>OffPeakCallsInOut</th>\n",
       "      <th>DroppedBlockedCalls</th>\n",
       "      <th>CallForwardingCalls</th>\n",
       "      <th>CallWaitingCalls</th>\n",
       "      <th>MonthsInService</th>\n",
       "      <th>UniqueSubs</th>\n",
       "      <th>ActiveSubs</th>\n",
       "      <th>ServiceArea</th>\n",
       "      <th>Handsets</th>\n",
       "      <th>HandsetModels</th>\n",
       "      <th>CurrentEquipmentDays</th>\n",
       "      <th>AgeHH1</th>\n",
       "      <th>AgeHH2</th>\n",
       "      <th>ChildrenInHH</th>\n",
       "      <th>HandsetRefurbished</th>\n",
       "      <th>HandsetWebCapable</th>\n",
       "      <th>TruckOwner</th>\n",
       "      <th>RVOwner</th>\n",
       "      <th>Homeownership</th>\n",
       "      <th>BuysViaMailOrder</th>\n",
       "      <th>RespondsToMailOffers</th>\n",
       "      <th>OptOutMailings</th>\n",
       "      <th>NonUSTravel</th>\n",
       "      <th>OwnsComputer</th>\n",
       "      <th>HasCreditCard</th>\n",
       "      <th>RetentionCalls</th>\n",
       "      <th>RetentionOffersAccepted</th>\n",
       "      <th>NewCellphoneUser</th>\n",
       "      <th>NotNewCellphoneUser</th>\n",
       "      <th>ReferralsMadeBySubscriber</th>\n",
       "      <th>IncomeGroup</th>\n",
       "      <th>OwnsMotorcycle</th>\n",
       "      <th>AdjustmentsToCreditRating</th>\n",
       "      <th>HandsetPrice</th>\n",
       "      <th>MadeCallToRetentionTeam</th>\n",
       "      <th>CreditRating</th>\n",
       "      <th>PrizmCode</th>\n",
       "      <th>Occupation</th>\n",
       "      <th>MaritalStatus</th>\n",
       "    </tr>\n",
       "  </thead>\n",
       "  <tbody>\n",
       "    <tr>\n",
       "      <th>0</th>\n",
       "      <td>3000002</td>\n",
       "      <td>Yes</td>\n",
       "      <td>24.00</td>\n",
       "      <td>219.0</td>\n",
       "      <td>22.0</td>\n",
       "      <td>0.25</td>\n",
       "      <td>0.0</td>\n",
       "      <td>0.0</td>\n",
       "      <td>-157.0</td>\n",
       "      <td>-19.0</td>\n",
       "      <td>0.7</td>\n",
       "      <td>0.7</td>\n",
       "      <td>6.3</td>\n",
       "      <td>0.0</td>\n",
       "      <td>0.0</td>\n",
       "      <td>97.2</td>\n",
       "      <td>0.0</td>\n",
       "      <td>0.0</td>\n",
       "      <td>58.0</td>\n",
       "      <td>24.0</td>\n",
       "      <td>1.3</td>\n",
       "      <td>0.0</td>\n",
       "      <td>0.3</td>\n",
       "      <td>61</td>\n",
       "      <td>2</td>\n",
       "      <td>1</td>\n",
       "      <td>SEAPOR503</td>\n",
       "      <td>2.0</td>\n",
       "      <td>2.0</td>\n",
       "      <td>361.0</td>\n",
       "      <td>62.0</td>\n",
       "      <td>0.0</td>\n",
       "      <td>No</td>\n",
       "      <td>No</td>\n",
       "      <td>Yes</td>\n",
       "      <td>No</td>\n",
       "      <td>No</td>\n",
       "      <td>Known</td>\n",
       "      <td>Yes</td>\n",
       "      <td>Yes</td>\n",
       "      <td>No</td>\n",
       "      <td>No</td>\n",
       "      <td>Yes</td>\n",
       "      <td>Yes</td>\n",
       "      <td>1</td>\n",
       "      <td>0</td>\n",
       "      <td>No</td>\n",
       "      <td>No</td>\n",
       "      <td>0</td>\n",
       "      <td>4</td>\n",
       "      <td>No</td>\n",
       "      <td>0</td>\n",
       "      <td>30</td>\n",
       "      <td>Yes</td>\n",
       "      <td>1-Highest</td>\n",
       "      <td>Suburban</td>\n",
       "      <td>Professional</td>\n",
       "      <td>No</td>\n",
       "    </tr>\n",
       "    <tr>\n",
       "      <th>1</th>\n",
       "      <td>3000010</td>\n",
       "      <td>Yes</td>\n",
       "      <td>16.99</td>\n",
       "      <td>10.0</td>\n",
       "      <td>17.0</td>\n",
       "      <td>0.00</td>\n",
       "      <td>0.0</td>\n",
       "      <td>0.0</td>\n",
       "      <td>-4.0</td>\n",
       "      <td>0.0</td>\n",
       "      <td>0.3</td>\n",
       "      <td>0.0</td>\n",
       "      <td>2.7</td>\n",
       "      <td>0.0</td>\n",
       "      <td>0.0</td>\n",
       "      <td>0.0</td>\n",
       "      <td>0.0</td>\n",
       "      <td>0.0</td>\n",
       "      <td>5.0</td>\n",
       "      <td>1.0</td>\n",
       "      <td>0.3</td>\n",
       "      <td>0.0</td>\n",
       "      <td>0.0</td>\n",
       "      <td>58</td>\n",
       "      <td>1</td>\n",
       "      <td>1</td>\n",
       "      <td>PITHOM412</td>\n",
       "      <td>2.0</td>\n",
       "      <td>1.0</td>\n",
       "      <td>1504.0</td>\n",
       "      <td>40.0</td>\n",
       "      <td>42.0</td>\n",
       "      <td>Yes</td>\n",
       "      <td>No</td>\n",
       "      <td>No</td>\n",
       "      <td>No</td>\n",
       "      <td>No</td>\n",
       "      <td>Known</td>\n",
       "      <td>Yes</td>\n",
       "      <td>Yes</td>\n",
       "      <td>No</td>\n",
       "      <td>No</td>\n",
       "      <td>Yes</td>\n",
       "      <td>Yes</td>\n",
       "      <td>0</td>\n",
       "      <td>0</td>\n",
       "      <td>Yes</td>\n",
       "      <td>No</td>\n",
       "      <td>0</td>\n",
       "      <td>5</td>\n",
       "      <td>No</td>\n",
       "      <td>0</td>\n",
       "      <td>30</td>\n",
       "      <td>No</td>\n",
       "      <td>4-Medium</td>\n",
       "      <td>Suburban</td>\n",
       "      <td>Professional</td>\n",
       "      <td>Yes</td>\n",
       "    </tr>\n",
       "    <tr>\n",
       "      <th>2</th>\n",
       "      <td>3000014</td>\n",
       "      <td>No</td>\n",
       "      <td>38.00</td>\n",
       "      <td>8.0</td>\n",
       "      <td>38.0</td>\n",
       "      <td>0.00</td>\n",
       "      <td>0.0</td>\n",
       "      <td>0.0</td>\n",
       "      <td>-2.0</td>\n",
       "      <td>0.0</td>\n",
       "      <td>0.0</td>\n",
       "      <td>0.0</td>\n",
       "      <td>0.0</td>\n",
       "      <td>0.0</td>\n",
       "      <td>0.0</td>\n",
       "      <td>0.4</td>\n",
       "      <td>0.3</td>\n",
       "      <td>0.0</td>\n",
       "      <td>1.3</td>\n",
       "      <td>3.7</td>\n",
       "      <td>0.0</td>\n",
       "      <td>0.0</td>\n",
       "      <td>0.0</td>\n",
       "      <td>60</td>\n",
       "      <td>1</td>\n",
       "      <td>1</td>\n",
       "      <td>MILMIL414</td>\n",
       "      <td>1.0</td>\n",
       "      <td>1.0</td>\n",
       "      <td>1812.0</td>\n",
       "      <td>26.0</td>\n",
       "      <td>26.0</td>\n",
       "      <td>Yes</td>\n",
       "      <td>No</td>\n",
       "      <td>No</td>\n",
       "      <td>No</td>\n",
       "      <td>No</td>\n",
       "      <td>Unknown</td>\n",
       "      <td>No</td>\n",
       "      <td>No</td>\n",
       "      <td>No</td>\n",
       "      <td>No</td>\n",
       "      <td>No</td>\n",
       "      <td>Yes</td>\n",
       "      <td>0</td>\n",
       "      <td>0</td>\n",
       "      <td>Yes</td>\n",
       "      <td>No</td>\n",
       "      <td>0</td>\n",
       "      <td>6</td>\n",
       "      <td>No</td>\n",
       "      <td>0</td>\n",
       "      <td>Unknown</td>\n",
       "      <td>No</td>\n",
       "      <td>3-Good</td>\n",
       "      <td>Town</td>\n",
       "      <td>Crafts</td>\n",
       "      <td>Yes</td>\n",
       "    </tr>\n",
       "    <tr>\n",
       "      <th>3</th>\n",
       "      <td>3000022</td>\n",
       "      <td>No</td>\n",
       "      <td>82.28</td>\n",
       "      <td>1312.0</td>\n",
       "      <td>75.0</td>\n",
       "      <td>1.24</td>\n",
       "      <td>0.0</td>\n",
       "      <td>0.0</td>\n",
       "      <td>157.0</td>\n",
       "      <td>8.1</td>\n",
       "      <td>52.0</td>\n",
       "      <td>7.7</td>\n",
       "      <td>76.0</td>\n",
       "      <td>4.3</td>\n",
       "      <td>1.3</td>\n",
       "      <td>200.3</td>\n",
       "      <td>370.3</td>\n",
       "      <td>147.0</td>\n",
       "      <td>555.7</td>\n",
       "      <td>303.7</td>\n",
       "      <td>59.7</td>\n",
       "      <td>0.0</td>\n",
       "      <td>22.7</td>\n",
       "      <td>59</td>\n",
       "      <td>2</td>\n",
       "      <td>2</td>\n",
       "      <td>PITHOM412</td>\n",
       "      <td>9.0</td>\n",
       "      <td>4.0</td>\n",
       "      <td>458.0</td>\n",
       "      <td>30.0</td>\n",
       "      <td>0.0</td>\n",
       "      <td>No</td>\n",
       "      <td>No</td>\n",
       "      <td>Yes</td>\n",
       "      <td>No</td>\n",
       "      <td>No</td>\n",
       "      <td>Known</td>\n",
       "      <td>Yes</td>\n",
       "      <td>Yes</td>\n",
       "      <td>No</td>\n",
       "      <td>No</td>\n",
       "      <td>No</td>\n",
       "      <td>Yes</td>\n",
       "      <td>0</td>\n",
       "      <td>0</td>\n",
       "      <td>Yes</td>\n",
       "      <td>No</td>\n",
       "      <td>0</td>\n",
       "      <td>6</td>\n",
       "      <td>No</td>\n",
       "      <td>0</td>\n",
       "      <td>10</td>\n",
       "      <td>No</td>\n",
       "      <td>4-Medium</td>\n",
       "      <td>Other</td>\n",
       "      <td>Other</td>\n",
       "      <td>No</td>\n",
       "    </tr>\n",
       "    <tr>\n",
       "      <th>4</th>\n",
       "      <td>3000026</td>\n",
       "      <td>Yes</td>\n",
       "      <td>17.14</td>\n",
       "      <td>0.0</td>\n",
       "      <td>17.0</td>\n",
       "      <td>0.00</td>\n",
       "      <td>0.0</td>\n",
       "      <td>0.0</td>\n",
       "      <td>0.0</td>\n",
       "      <td>-0.2</td>\n",
       "      <td>0.0</td>\n",
       "      <td>0.0</td>\n",
       "      <td>0.0</td>\n",
       "      <td>0.0</td>\n",
       "      <td>0.0</td>\n",
       "      <td>0.0</td>\n",
       "      <td>0.0</td>\n",
       "      <td>0.0</td>\n",
       "      <td>0.0</td>\n",
       "      <td>0.0</td>\n",
       "      <td>0.0</td>\n",
       "      <td>0.0</td>\n",
       "      <td>0.0</td>\n",
       "      <td>53</td>\n",
       "      <td>2</td>\n",
       "      <td>2</td>\n",
       "      <td>OKCTUL918</td>\n",
       "      <td>4.0</td>\n",
       "      <td>3.0</td>\n",
       "      <td>852.0</td>\n",
       "      <td>46.0</td>\n",
       "      <td>54.0</td>\n",
       "      <td>No</td>\n",
       "      <td>No</td>\n",
       "      <td>No</td>\n",
       "      <td>No</td>\n",
       "      <td>No</td>\n",
       "      <td>Known</td>\n",
       "      <td>Yes</td>\n",
       "      <td>Yes</td>\n",
       "      <td>No</td>\n",
       "      <td>No</td>\n",
       "      <td>Yes</td>\n",
       "      <td>Yes</td>\n",
       "      <td>0</td>\n",
       "      <td>0</td>\n",
       "      <td>No</td>\n",
       "      <td>Yes</td>\n",
       "      <td>0</td>\n",
       "      <td>9</td>\n",
       "      <td>No</td>\n",
       "      <td>1</td>\n",
       "      <td>10</td>\n",
       "      <td>No</td>\n",
       "      <td>1-Highest</td>\n",
       "      <td>Other</td>\n",
       "      <td>Professional</td>\n",
       "      <td>Yes</td>\n",
       "    </tr>\n",
       "  </tbody>\n",
       "</table>\n",
       "</div>"
      ],
      "text/plain": [
       "   CustomerID Churn  MonthlyRevenue  MonthlyMinutes  TotalRecurringCharge  \\\n",
       "0     3000002   Yes           24.00           219.0                  22.0   \n",
       "1     3000010   Yes           16.99            10.0                  17.0   \n",
       "2     3000014    No           38.00             8.0                  38.0   \n",
       "3     3000022    No           82.28          1312.0                  75.0   \n",
       "4     3000026   Yes           17.14             0.0                  17.0   \n",
       "\n",
       "   DirectorAssistedCalls  OverageMinutes  RoamingCalls  PercChangeMinutes  \\\n",
       "0                   0.25             0.0           0.0             -157.0   \n",
       "1                   0.00             0.0           0.0               -4.0   \n",
       "2                   0.00             0.0           0.0               -2.0   \n",
       "3                   1.24             0.0           0.0              157.0   \n",
       "4                   0.00             0.0           0.0                0.0   \n",
       "\n",
       "   PercChangeRevenues  DroppedCalls  BlockedCalls  UnansweredCalls  \\\n",
       "0               -19.0           0.7           0.7              6.3   \n",
       "1                 0.0           0.3           0.0              2.7   \n",
       "2                 0.0           0.0           0.0              0.0   \n",
       "3                 8.1          52.0           7.7             76.0   \n",
       "4                -0.2           0.0           0.0              0.0   \n",
       "\n",
       "   CustomerCareCalls  ThreewayCalls  ReceivedCalls  OutboundCalls  \\\n",
       "0                0.0            0.0           97.2            0.0   \n",
       "1                0.0            0.0            0.0            0.0   \n",
       "2                0.0            0.0            0.4            0.3   \n",
       "3                4.3            1.3          200.3          370.3   \n",
       "4                0.0            0.0            0.0            0.0   \n",
       "\n",
       "   InboundCalls  PeakCallsInOut  OffPeakCallsInOut  DroppedBlockedCalls  \\\n",
       "0           0.0            58.0               24.0                  1.3   \n",
       "1           0.0             5.0                1.0                  0.3   \n",
       "2           0.0             1.3                3.7                  0.0   \n",
       "3         147.0           555.7              303.7                 59.7   \n",
       "4           0.0             0.0                0.0                  0.0   \n",
       "\n",
       "   CallForwardingCalls  CallWaitingCalls  MonthsInService  UniqueSubs  \\\n",
       "0                  0.0               0.3               61           2   \n",
       "1                  0.0               0.0               58           1   \n",
       "2                  0.0               0.0               60           1   \n",
       "3                  0.0              22.7               59           2   \n",
       "4                  0.0               0.0               53           2   \n",
       "\n",
       "   ActiveSubs ServiceArea  Handsets  HandsetModels  CurrentEquipmentDays  \\\n",
       "0           1   SEAPOR503       2.0            2.0                 361.0   \n",
       "1           1   PITHOM412       2.0            1.0                1504.0   \n",
       "2           1   MILMIL414       1.0            1.0                1812.0   \n",
       "3           2   PITHOM412       9.0            4.0                 458.0   \n",
       "4           2   OKCTUL918       4.0            3.0                 852.0   \n",
       "\n",
       "   AgeHH1  AgeHH2 ChildrenInHH HandsetRefurbished HandsetWebCapable  \\\n",
       "0    62.0     0.0           No                 No               Yes   \n",
       "1    40.0    42.0          Yes                 No                No   \n",
       "2    26.0    26.0          Yes                 No                No   \n",
       "3    30.0     0.0           No                 No               Yes   \n",
       "4    46.0    54.0           No                 No                No   \n",
       "\n",
       "  TruckOwner RVOwner Homeownership BuysViaMailOrder RespondsToMailOffers  \\\n",
       "0         No      No         Known              Yes                  Yes   \n",
       "1         No      No         Known              Yes                  Yes   \n",
       "2         No      No       Unknown               No                   No   \n",
       "3         No      No         Known              Yes                  Yes   \n",
       "4         No      No         Known              Yes                  Yes   \n",
       "\n",
       "  OptOutMailings NonUSTravel OwnsComputer HasCreditCard  RetentionCalls  \\\n",
       "0             No          No          Yes           Yes               1   \n",
       "1             No          No          Yes           Yes               0   \n",
       "2             No          No           No           Yes               0   \n",
       "3             No          No           No           Yes               0   \n",
       "4             No          No          Yes           Yes               0   \n",
       "\n",
       "   RetentionOffersAccepted NewCellphoneUser NotNewCellphoneUser  \\\n",
       "0                        0               No                  No   \n",
       "1                        0              Yes                  No   \n",
       "2                        0              Yes                  No   \n",
       "3                        0              Yes                  No   \n",
       "4                        0               No                 Yes   \n",
       "\n",
       "   ReferralsMadeBySubscriber  IncomeGroup OwnsMotorcycle  \\\n",
       "0                          0            4             No   \n",
       "1                          0            5             No   \n",
       "2                          0            6             No   \n",
       "3                          0            6             No   \n",
       "4                          0            9             No   \n",
       "\n",
       "   AdjustmentsToCreditRating HandsetPrice MadeCallToRetentionTeam  \\\n",
       "0                          0           30                     Yes   \n",
       "1                          0           30                      No   \n",
       "2                          0      Unknown                      No   \n",
       "3                          0           10                      No   \n",
       "4                          1           10                      No   \n",
       "\n",
       "  CreditRating PrizmCode    Occupation MaritalStatus  \n",
       "0    1-Highest  Suburban  Professional            No  \n",
       "1     4-Medium  Suburban  Professional           Yes  \n",
       "2       3-Good      Town        Crafts           Yes  \n",
       "3     4-Medium     Other         Other            No  \n",
       "4    1-Highest     Other  Professional           Yes  "
      ]
     },
     "execution_count": 5,
     "metadata": {},
     "output_type": "execute_result"
    }
   ],
   "source": [
    "df.head()"
   ]
  },
  {
   "cell_type": "code",
   "execution_count": 6,
   "metadata": {
    "ExecuteTime": {
     "end_time": "2021-04-12T15:23:28.642205Z",
     "start_time": "2021-04-12T15:23:28.490500Z"
    },
    "colab": {
     "base_uri": "https://localhost:8080/",
     "height": 317
    },
    "executionInfo": {
     "elapsed": 765,
     "status": "ok",
     "timestamp": 1617876708257,
     "user": {
      "displayName": "Jordan Yew",
      "photoUrl": "https://lh3.googleusercontent.com/a-/AOh14GgwpEx4k9brsKgMmLEvzOk6fZnaqtVUqztWKK1qGA=s64",
      "userId": "04296311432662961392"
     },
     "user_tz": -480
    },
    "id": "5hnWm20s9IfT",
    "outputId": "33bf8ea1-10e3-49f8-ec7b-223ecd265443"
   },
   "outputs": [
    {
     "data": {
      "text/html": [
       "<div>\n",
       "<style scoped>\n",
       "    .dataframe tbody tr th:only-of-type {\n",
       "        vertical-align: middle;\n",
       "    }\n",
       "\n",
       "    .dataframe tbody tr th {\n",
       "        vertical-align: top;\n",
       "    }\n",
       "\n",
       "    .dataframe thead th {\n",
       "        text-align: right;\n",
       "    }\n",
       "</style>\n",
       "<table border=\"1\" class=\"dataframe\">\n",
       "  <thead>\n",
       "    <tr style=\"text-align: right;\">\n",
       "      <th></th>\n",
       "      <th>CustomerID</th>\n",
       "      <th>MonthlyRevenue</th>\n",
       "      <th>MonthlyMinutes</th>\n",
       "      <th>TotalRecurringCharge</th>\n",
       "      <th>DirectorAssistedCalls</th>\n",
       "      <th>OverageMinutes</th>\n",
       "      <th>RoamingCalls</th>\n",
       "      <th>PercChangeMinutes</th>\n",
       "      <th>PercChangeRevenues</th>\n",
       "      <th>DroppedCalls</th>\n",
       "      <th>BlockedCalls</th>\n",
       "      <th>UnansweredCalls</th>\n",
       "      <th>CustomerCareCalls</th>\n",
       "      <th>ThreewayCalls</th>\n",
       "      <th>ReceivedCalls</th>\n",
       "      <th>OutboundCalls</th>\n",
       "      <th>InboundCalls</th>\n",
       "      <th>PeakCallsInOut</th>\n",
       "      <th>OffPeakCallsInOut</th>\n",
       "      <th>DroppedBlockedCalls</th>\n",
       "      <th>CallForwardingCalls</th>\n",
       "      <th>CallWaitingCalls</th>\n",
       "      <th>MonthsInService</th>\n",
       "      <th>UniqueSubs</th>\n",
       "      <th>ActiveSubs</th>\n",
       "      <th>Handsets</th>\n",
       "      <th>HandsetModels</th>\n",
       "      <th>CurrentEquipmentDays</th>\n",
       "      <th>AgeHH1</th>\n",
       "      <th>AgeHH2</th>\n",
       "      <th>RetentionCalls</th>\n",
       "      <th>RetentionOffersAccepted</th>\n",
       "      <th>ReferralsMadeBySubscriber</th>\n",
       "      <th>IncomeGroup</th>\n",
       "      <th>AdjustmentsToCreditRating</th>\n",
       "    </tr>\n",
       "  </thead>\n",
       "  <tbody>\n",
       "    <tr>\n",
       "      <th>count</th>\n",
       "      <td>5.105e+04</td>\n",
       "      <td>50891.000</td>\n",
       "      <td>50891.000</td>\n",
       "      <td>50891.000</td>\n",
       "      <td>50891.000</td>\n",
       "      <td>50891.000</td>\n",
       "      <td>50891.000</td>\n",
       "      <td>50680.000</td>\n",
       "      <td>50680.000</td>\n",
       "      <td>51047.000</td>\n",
       "      <td>51047.000</td>\n",
       "      <td>51047.000</td>\n",
       "      <td>51047.000</td>\n",
       "      <td>51047.000</td>\n",
       "      <td>51047.000</td>\n",
       "      <td>51047.000</td>\n",
       "      <td>51047.000</td>\n",
       "      <td>51047.000</td>\n",
       "      <td>51047.000</td>\n",
       "      <td>51047.000</td>\n",
       "      <td>51047.000</td>\n",
       "      <td>51047.000</td>\n",
       "      <td>51047.000</td>\n",
       "      <td>51047.000</td>\n",
       "      <td>51047.000</td>\n",
       "      <td>51046.000</td>\n",
       "      <td>51046.000</td>\n",
       "      <td>51046.000</td>\n",
       "      <td>50138.000</td>\n",
       "      <td>50138.000</td>\n",
       "      <td>51047.000</td>\n",
       "      <td>51047.000</td>\n",
       "      <td>51047.000</td>\n",
       "      <td>51047.000</td>\n",
       "      <td>51047.000</td>\n",
       "    </tr>\n",
       "    <tr>\n",
       "      <th>mean</th>\n",
       "      <td>3.202e+06</td>\n",
       "      <td>58.834</td>\n",
       "      <td>525.653</td>\n",
       "      <td>46.830</td>\n",
       "      <td>0.895</td>\n",
       "      <td>40.028</td>\n",
       "      <td>1.236</td>\n",
       "      <td>-11.548</td>\n",
       "      <td>-1.192</td>\n",
       "      <td>6.011</td>\n",
       "      <td>4.086</td>\n",
       "      <td>28.289</td>\n",
       "      <td>1.869</td>\n",
       "      <td>0.299</td>\n",
       "      <td>114.800</td>\n",
       "      <td>25.378</td>\n",
       "      <td>8.178</td>\n",
       "      <td>90.550</td>\n",
       "      <td>67.651</td>\n",
       "      <td>10.158</td>\n",
       "      <td>0.012</td>\n",
       "      <td>1.841</td>\n",
       "      <td>18.756</td>\n",
       "      <td>1.532</td>\n",
       "      <td>1.354</td>\n",
       "      <td>1.806</td>\n",
       "      <td>1.559</td>\n",
       "      <td>380.546</td>\n",
       "      <td>31.338</td>\n",
       "      <td>21.144</td>\n",
       "      <td>0.037</td>\n",
       "      <td>0.018</td>\n",
       "      <td>0.052</td>\n",
       "      <td>4.325</td>\n",
       "      <td>0.054</td>\n",
       "    </tr>\n",
       "    <tr>\n",
       "      <th>std</th>\n",
       "      <td>1.169e+05</td>\n",
       "      <td>44.507</td>\n",
       "      <td>529.871</td>\n",
       "      <td>23.849</td>\n",
       "      <td>2.229</td>\n",
       "      <td>96.588</td>\n",
       "      <td>9.818</td>\n",
       "      <td>257.515</td>\n",
       "      <td>39.575</td>\n",
       "      <td>9.044</td>\n",
       "      <td>10.947</td>\n",
       "      <td>38.876</td>\n",
       "      <td>5.096</td>\n",
       "      <td>1.168</td>\n",
       "      <td>166.486</td>\n",
       "      <td>35.209</td>\n",
       "      <td>16.666</td>\n",
       "      <td>104.947</td>\n",
       "      <td>92.753</td>\n",
       "      <td>15.555</td>\n",
       "      <td>0.594</td>\n",
       "      <td>5.585</td>\n",
       "      <td>9.800</td>\n",
       "      <td>1.223</td>\n",
       "      <td>0.675</td>\n",
       "      <td>1.331</td>\n",
       "      <td>0.906</td>\n",
       "      <td>253.802</td>\n",
       "      <td>22.095</td>\n",
       "      <td>23.931</td>\n",
       "      <td>0.206</td>\n",
       "      <td>0.142</td>\n",
       "      <td>0.308</td>\n",
       "      <td>3.138</td>\n",
       "      <td>0.383</td>\n",
       "    </tr>\n",
       "    <tr>\n",
       "      <th>min</th>\n",
       "      <td>3.000e+06</td>\n",
       "      <td>-6.170</td>\n",
       "      <td>0.000</td>\n",
       "      <td>-11.000</td>\n",
       "      <td>0.000</td>\n",
       "      <td>0.000</td>\n",
       "      <td>0.000</td>\n",
       "      <td>-3875.000</td>\n",
       "      <td>-1107.700</td>\n",
       "      <td>0.000</td>\n",
       "      <td>0.000</td>\n",
       "      <td>0.000</td>\n",
       "      <td>0.000</td>\n",
       "      <td>0.000</td>\n",
       "      <td>0.000</td>\n",
       "      <td>0.000</td>\n",
       "      <td>0.000</td>\n",
       "      <td>0.000</td>\n",
       "      <td>0.000</td>\n",
       "      <td>0.000</td>\n",
       "      <td>0.000</td>\n",
       "      <td>0.000</td>\n",
       "      <td>6.000</td>\n",
       "      <td>1.000</td>\n",
       "      <td>0.000</td>\n",
       "      <td>1.000</td>\n",
       "      <td>1.000</td>\n",
       "      <td>-5.000</td>\n",
       "      <td>0.000</td>\n",
       "      <td>0.000</td>\n",
       "      <td>0.000</td>\n",
       "      <td>0.000</td>\n",
       "      <td>0.000</td>\n",
       "      <td>0.000</td>\n",
       "      <td>0.000</td>\n",
       "    </tr>\n",
       "    <tr>\n",
       "      <th>25%</th>\n",
       "      <td>3.101e+06</td>\n",
       "      <td>33.610</td>\n",
       "      <td>158.000</td>\n",
       "      <td>30.000</td>\n",
       "      <td>0.000</td>\n",
       "      <td>0.000</td>\n",
       "      <td>0.000</td>\n",
       "      <td>-83.000</td>\n",
       "      <td>-7.100</td>\n",
       "      <td>0.700</td>\n",
       "      <td>0.000</td>\n",
       "      <td>5.300</td>\n",
       "      <td>0.000</td>\n",
       "      <td>0.000</td>\n",
       "      <td>8.300</td>\n",
       "      <td>3.300</td>\n",
       "      <td>0.000</td>\n",
       "      <td>23.000</td>\n",
       "      <td>11.000</td>\n",
       "      <td>1.700</td>\n",
       "      <td>0.000</td>\n",
       "      <td>0.000</td>\n",
       "      <td>11.000</td>\n",
       "      <td>1.000</td>\n",
       "      <td>1.000</td>\n",
       "      <td>1.000</td>\n",
       "      <td>1.000</td>\n",
       "      <td>205.000</td>\n",
       "      <td>0.000</td>\n",
       "      <td>0.000</td>\n",
       "      <td>0.000</td>\n",
       "      <td>0.000</td>\n",
       "      <td>0.000</td>\n",
       "      <td>0.000</td>\n",
       "      <td>0.000</td>\n",
       "    </tr>\n",
       "    <tr>\n",
       "      <th>50%</th>\n",
       "      <td>3.202e+06</td>\n",
       "      <td>48.460</td>\n",
       "      <td>366.000</td>\n",
       "      <td>45.000</td>\n",
       "      <td>0.250</td>\n",
       "      <td>3.000</td>\n",
       "      <td>0.000</td>\n",
       "      <td>-5.000</td>\n",
       "      <td>-0.300</td>\n",
       "      <td>3.000</td>\n",
       "      <td>1.000</td>\n",
       "      <td>16.300</td>\n",
       "      <td>0.000</td>\n",
       "      <td>0.000</td>\n",
       "      <td>52.800</td>\n",
       "      <td>13.700</td>\n",
       "      <td>2.000</td>\n",
       "      <td>62.000</td>\n",
       "      <td>35.700</td>\n",
       "      <td>5.300</td>\n",
       "      <td>0.000</td>\n",
       "      <td>0.300</td>\n",
       "      <td>16.000</td>\n",
       "      <td>1.000</td>\n",
       "      <td>1.000</td>\n",
       "      <td>1.000</td>\n",
       "      <td>1.000</td>\n",
       "      <td>329.000</td>\n",
       "      <td>36.000</td>\n",
       "      <td>0.000</td>\n",
       "      <td>0.000</td>\n",
       "      <td>0.000</td>\n",
       "      <td>0.000</td>\n",
       "      <td>5.000</td>\n",
       "      <td>0.000</td>\n",
       "    </tr>\n",
       "    <tr>\n",
       "      <th>75%</th>\n",
       "      <td>3.305e+06</td>\n",
       "      <td>71.065</td>\n",
       "      <td>723.000</td>\n",
       "      <td>60.000</td>\n",
       "      <td>0.990</td>\n",
       "      <td>41.000</td>\n",
       "      <td>0.300</td>\n",
       "      <td>66.000</td>\n",
       "      <td>1.600</td>\n",
       "      <td>7.700</td>\n",
       "      <td>3.700</td>\n",
       "      <td>36.300</td>\n",
       "      <td>1.700</td>\n",
       "      <td>0.300</td>\n",
       "      <td>153.500</td>\n",
       "      <td>34.000</td>\n",
       "      <td>9.300</td>\n",
       "      <td>121.300</td>\n",
       "      <td>88.700</td>\n",
       "      <td>12.300</td>\n",
       "      <td>0.000</td>\n",
       "      <td>1.300</td>\n",
       "      <td>24.000</td>\n",
       "      <td>2.000</td>\n",
       "      <td>2.000</td>\n",
       "      <td>2.000</td>\n",
       "      <td>2.000</td>\n",
       "      <td>515.000</td>\n",
       "      <td>48.000</td>\n",
       "      <td>42.000</td>\n",
       "      <td>0.000</td>\n",
       "      <td>0.000</td>\n",
       "      <td>0.000</td>\n",
       "      <td>7.000</td>\n",
       "      <td>0.000</td>\n",
       "    </tr>\n",
       "    <tr>\n",
       "      <th>max</th>\n",
       "      <td>3.400e+06</td>\n",
       "      <td>1223.380</td>\n",
       "      <td>7359.000</td>\n",
       "      <td>400.000</td>\n",
       "      <td>159.390</td>\n",
       "      <td>4321.000</td>\n",
       "      <td>1112.400</td>\n",
       "      <td>5192.000</td>\n",
       "      <td>2483.500</td>\n",
       "      <td>221.700</td>\n",
       "      <td>384.300</td>\n",
       "      <td>848.700</td>\n",
       "      <td>327.300</td>\n",
       "      <td>66.000</td>\n",
       "      <td>2692.400</td>\n",
       "      <td>644.300</td>\n",
       "      <td>519.300</td>\n",
       "      <td>2090.700</td>\n",
       "      <td>1474.700</td>\n",
       "      <td>411.700</td>\n",
       "      <td>81.300</td>\n",
       "      <td>212.700</td>\n",
       "      <td>61.000</td>\n",
       "      <td>196.000</td>\n",
       "      <td>53.000</td>\n",
       "      <td>24.000</td>\n",
       "      <td>15.000</td>\n",
       "      <td>1812.000</td>\n",
       "      <td>99.000</td>\n",
       "      <td>99.000</td>\n",
       "      <td>4.000</td>\n",
       "      <td>3.000</td>\n",
       "      <td>35.000</td>\n",
       "      <td>9.000</td>\n",
       "      <td>25.000</td>\n",
       "    </tr>\n",
       "  </tbody>\n",
       "</table>\n",
       "</div>"
      ],
      "text/plain": [
       "       CustomerID  MonthlyRevenue  MonthlyMinutes  TotalRecurringCharge  \\\n",
       "count   5.105e+04       50891.000       50891.000             50891.000   \n",
       "mean    3.202e+06          58.834         525.653                46.830   \n",
       "std     1.169e+05          44.507         529.871                23.849   \n",
       "min     3.000e+06          -6.170           0.000               -11.000   \n",
       "25%     3.101e+06          33.610         158.000                30.000   \n",
       "50%     3.202e+06          48.460         366.000                45.000   \n",
       "75%     3.305e+06          71.065         723.000                60.000   \n",
       "max     3.400e+06        1223.380        7359.000               400.000   \n",
       "\n",
       "       DirectorAssistedCalls  OverageMinutes  RoamingCalls  PercChangeMinutes  \\\n",
       "count              50891.000       50891.000     50891.000          50680.000   \n",
       "mean                   0.895          40.028         1.236            -11.548   \n",
       "std                    2.229          96.588         9.818            257.515   \n",
       "min                    0.000           0.000         0.000          -3875.000   \n",
       "25%                    0.000           0.000         0.000            -83.000   \n",
       "50%                    0.250           3.000         0.000             -5.000   \n",
       "75%                    0.990          41.000         0.300             66.000   \n",
       "max                  159.390        4321.000      1112.400           5192.000   \n",
       "\n",
       "       PercChangeRevenues  DroppedCalls  BlockedCalls  UnansweredCalls  \\\n",
       "count           50680.000     51047.000     51047.000        51047.000   \n",
       "mean               -1.192         6.011         4.086           28.289   \n",
       "std                39.575         9.044        10.947           38.876   \n",
       "min             -1107.700         0.000         0.000            0.000   \n",
       "25%                -7.100         0.700         0.000            5.300   \n",
       "50%                -0.300         3.000         1.000           16.300   \n",
       "75%                 1.600         7.700         3.700           36.300   \n",
       "max              2483.500       221.700       384.300          848.700   \n",
       "\n",
       "       CustomerCareCalls  ThreewayCalls  ReceivedCalls  OutboundCalls  \\\n",
       "count          51047.000      51047.000      51047.000      51047.000   \n",
       "mean               1.869          0.299        114.800         25.378   \n",
       "std                5.096          1.168        166.486         35.209   \n",
       "min                0.000          0.000          0.000          0.000   \n",
       "25%                0.000          0.000          8.300          3.300   \n",
       "50%                0.000          0.000         52.800         13.700   \n",
       "75%                1.700          0.300        153.500         34.000   \n",
       "max              327.300         66.000       2692.400        644.300   \n",
       "\n",
       "       InboundCalls  PeakCallsInOut  OffPeakCallsInOut  DroppedBlockedCalls  \\\n",
       "count     51047.000       51047.000          51047.000            51047.000   \n",
       "mean          8.178          90.550             67.651               10.158   \n",
       "std          16.666         104.947             92.753               15.555   \n",
       "min           0.000           0.000              0.000                0.000   \n",
       "25%           0.000          23.000             11.000                1.700   \n",
       "50%           2.000          62.000             35.700                5.300   \n",
       "75%           9.300         121.300             88.700               12.300   \n",
       "max         519.300        2090.700           1474.700              411.700   \n",
       "\n",
       "       CallForwardingCalls  CallWaitingCalls  MonthsInService  UniqueSubs  \\\n",
       "count            51047.000         51047.000        51047.000   51047.000   \n",
       "mean                 0.012             1.841           18.756       1.532   \n",
       "std                  0.594             5.585            9.800       1.223   \n",
       "min                  0.000             0.000            6.000       1.000   \n",
       "25%                  0.000             0.000           11.000       1.000   \n",
       "50%                  0.000             0.300           16.000       1.000   \n",
       "75%                  0.000             1.300           24.000       2.000   \n",
       "max                 81.300           212.700           61.000     196.000   \n",
       "\n",
       "       ActiveSubs   Handsets  HandsetModels  CurrentEquipmentDays     AgeHH1  \\\n",
       "count   51047.000  51046.000      51046.000             51046.000  50138.000   \n",
       "mean        1.354      1.806          1.559               380.546     31.338   \n",
       "std         0.675      1.331          0.906               253.802     22.095   \n",
       "min         0.000      1.000          1.000                -5.000      0.000   \n",
       "25%         1.000      1.000          1.000               205.000      0.000   \n",
       "50%         1.000      1.000          1.000               329.000     36.000   \n",
       "75%         2.000      2.000          2.000               515.000     48.000   \n",
       "max        53.000     24.000         15.000              1812.000     99.000   \n",
       "\n",
       "          AgeHH2  RetentionCalls  RetentionOffersAccepted  \\\n",
       "count  50138.000       51047.000                51047.000   \n",
       "mean      21.144           0.037                    0.018   \n",
       "std       23.931           0.206                    0.142   \n",
       "min        0.000           0.000                    0.000   \n",
       "25%        0.000           0.000                    0.000   \n",
       "50%        0.000           0.000                    0.000   \n",
       "75%       42.000           0.000                    0.000   \n",
       "max       99.000           4.000                    3.000   \n",
       "\n",
       "       ReferralsMadeBySubscriber  IncomeGroup  AdjustmentsToCreditRating  \n",
       "count                  51047.000    51047.000                  51047.000  \n",
       "mean                       0.052        4.325                      0.054  \n",
       "std                        0.308        3.138                      0.383  \n",
       "min                        0.000        0.000                      0.000  \n",
       "25%                        0.000        0.000                      0.000  \n",
       "50%                        0.000        5.000                      0.000  \n",
       "75%                        0.000        7.000                      0.000  \n",
       "max                       35.000        9.000                     25.000  "
      ]
     },
     "execution_count": 6,
     "metadata": {},
     "output_type": "execute_result"
    }
   ],
   "source": [
    "# let's see summary of the dataset\n",
    "df.describe()"
   ]
  },
  {
   "cell_type": "markdown",
   "metadata": {},
   "source": [
    "# Data Preprocessing"
   ]
  },
  {
   "cell_type": "markdown",
   "metadata": {},
   "source": [
    "## Dealing with Categorical Data"
   ]
  },
  {
   "cell_type": "markdown",
   "metadata": {},
   "source": [
    "### Yes or No transformed to 1 or 0\n",
    "\n",
    "From head(), we can see that some columns are having Yes or No values including our response variable, Churn. One thing we need to do is to transform these columns into having 1 or 0 values instead of Yes or No"
   ]
  },
  {
   "cell_type": "code",
   "execution_count": 7,
   "metadata": {
    "ExecuteTime": {
     "end_time": "2021-04-12T15:23:29.148580Z",
     "start_time": "2021-04-12T15:23:28.643202Z"
    }
   },
   "outputs": [
    {
     "data": {
      "text/html": [
       "<div>\n",
       "<style scoped>\n",
       "    .dataframe tbody tr th:only-of-type {\n",
       "        vertical-align: middle;\n",
       "    }\n",
       "\n",
       "    .dataframe tbody tr th {\n",
       "        vertical-align: top;\n",
       "    }\n",
       "\n",
       "    .dataframe thead th {\n",
       "        text-align: right;\n",
       "    }\n",
       "</style>\n",
       "<table border=\"1\" class=\"dataframe\">\n",
       "  <thead>\n",
       "    <tr style=\"text-align: right;\">\n",
       "      <th></th>\n",
       "      <th>CustomerID</th>\n",
       "      <th>Churn</th>\n",
       "      <th>MonthlyRevenue</th>\n",
       "      <th>MonthlyMinutes</th>\n",
       "      <th>TotalRecurringCharge</th>\n",
       "      <th>DirectorAssistedCalls</th>\n",
       "      <th>OverageMinutes</th>\n",
       "      <th>RoamingCalls</th>\n",
       "      <th>PercChangeMinutes</th>\n",
       "      <th>PercChangeRevenues</th>\n",
       "      <th>DroppedCalls</th>\n",
       "      <th>BlockedCalls</th>\n",
       "      <th>UnansweredCalls</th>\n",
       "      <th>CustomerCareCalls</th>\n",
       "      <th>ThreewayCalls</th>\n",
       "      <th>ReceivedCalls</th>\n",
       "      <th>OutboundCalls</th>\n",
       "      <th>InboundCalls</th>\n",
       "      <th>PeakCallsInOut</th>\n",
       "      <th>OffPeakCallsInOut</th>\n",
       "      <th>DroppedBlockedCalls</th>\n",
       "      <th>CallForwardingCalls</th>\n",
       "      <th>CallWaitingCalls</th>\n",
       "      <th>MonthsInService</th>\n",
       "      <th>UniqueSubs</th>\n",
       "      <th>ActiveSubs</th>\n",
       "      <th>ServiceArea</th>\n",
       "      <th>Handsets</th>\n",
       "      <th>HandsetModels</th>\n",
       "      <th>CurrentEquipmentDays</th>\n",
       "      <th>AgeHH1</th>\n",
       "      <th>AgeHH2</th>\n",
       "      <th>ChildrenInHH</th>\n",
       "      <th>HandsetRefurbished</th>\n",
       "      <th>HandsetWebCapable</th>\n",
       "      <th>TruckOwner</th>\n",
       "      <th>RVOwner</th>\n",
       "      <th>Homeownership</th>\n",
       "      <th>BuysViaMailOrder</th>\n",
       "      <th>RespondsToMailOffers</th>\n",
       "      <th>OptOutMailings</th>\n",
       "      <th>NonUSTravel</th>\n",
       "      <th>OwnsComputer</th>\n",
       "      <th>HasCreditCard</th>\n",
       "      <th>RetentionCalls</th>\n",
       "      <th>RetentionOffersAccepted</th>\n",
       "      <th>NewCellphoneUser</th>\n",
       "      <th>NotNewCellphoneUser</th>\n",
       "      <th>ReferralsMadeBySubscriber</th>\n",
       "      <th>IncomeGroup</th>\n",
       "      <th>OwnsMotorcycle</th>\n",
       "      <th>AdjustmentsToCreditRating</th>\n",
       "      <th>HandsetPrice</th>\n",
       "      <th>MadeCallToRetentionTeam</th>\n",
       "      <th>CreditRating</th>\n",
       "      <th>PrizmCode</th>\n",
       "      <th>Occupation</th>\n",
       "      <th>MaritalStatus</th>\n",
       "    </tr>\n",
       "  </thead>\n",
       "  <tbody>\n",
       "    <tr>\n",
       "      <th>0</th>\n",
       "      <td>3000002</td>\n",
       "      <td>1</td>\n",
       "      <td>24.00</td>\n",
       "      <td>219.0</td>\n",
       "      <td>22.0</td>\n",
       "      <td>0.25</td>\n",
       "      <td>0.0</td>\n",
       "      <td>0.0</td>\n",
       "      <td>-157.0</td>\n",
       "      <td>-19.0</td>\n",
       "      <td>0.7</td>\n",
       "      <td>0.7</td>\n",
       "      <td>6.3</td>\n",
       "      <td>0.0</td>\n",
       "      <td>0.0</td>\n",
       "      <td>97.2</td>\n",
       "      <td>0.0</td>\n",
       "      <td>0.0</td>\n",
       "      <td>58.0</td>\n",
       "      <td>24.0</td>\n",
       "      <td>1.3</td>\n",
       "      <td>0.0</td>\n",
       "      <td>0.3</td>\n",
       "      <td>61</td>\n",
       "      <td>2</td>\n",
       "      <td>1</td>\n",
       "      <td>SEAPOR503</td>\n",
       "      <td>2.0</td>\n",
       "      <td>2.0</td>\n",
       "      <td>361.0</td>\n",
       "      <td>62.0</td>\n",
       "      <td>0.0</td>\n",
       "      <td>0</td>\n",
       "      <td>0</td>\n",
       "      <td>1</td>\n",
       "      <td>0</td>\n",
       "      <td>0</td>\n",
       "      <td>Known</td>\n",
       "      <td>1</td>\n",
       "      <td>1</td>\n",
       "      <td>0</td>\n",
       "      <td>0</td>\n",
       "      <td>1</td>\n",
       "      <td>1</td>\n",
       "      <td>1</td>\n",
       "      <td>0</td>\n",
       "      <td>0</td>\n",
       "      <td>0</td>\n",
       "      <td>0</td>\n",
       "      <td>4</td>\n",
       "      <td>0</td>\n",
       "      <td>0</td>\n",
       "      <td>30</td>\n",
       "      <td>1</td>\n",
       "      <td>1-Highest</td>\n",
       "      <td>Suburban</td>\n",
       "      <td>Professional</td>\n",
       "      <td>0</td>\n",
       "    </tr>\n",
       "    <tr>\n",
       "      <th>1</th>\n",
       "      <td>3000010</td>\n",
       "      <td>1</td>\n",
       "      <td>16.99</td>\n",
       "      <td>10.0</td>\n",
       "      <td>17.0</td>\n",
       "      <td>0.00</td>\n",
       "      <td>0.0</td>\n",
       "      <td>0.0</td>\n",
       "      <td>-4.0</td>\n",
       "      <td>0.0</td>\n",
       "      <td>0.3</td>\n",
       "      <td>0.0</td>\n",
       "      <td>2.7</td>\n",
       "      <td>0.0</td>\n",
       "      <td>0.0</td>\n",
       "      <td>0.0</td>\n",
       "      <td>0.0</td>\n",
       "      <td>0.0</td>\n",
       "      <td>5.0</td>\n",
       "      <td>1.0</td>\n",
       "      <td>0.3</td>\n",
       "      <td>0.0</td>\n",
       "      <td>0.0</td>\n",
       "      <td>58</td>\n",
       "      <td>1</td>\n",
       "      <td>1</td>\n",
       "      <td>PITHOM412</td>\n",
       "      <td>2.0</td>\n",
       "      <td>1.0</td>\n",
       "      <td>1504.0</td>\n",
       "      <td>40.0</td>\n",
       "      <td>42.0</td>\n",
       "      <td>1</td>\n",
       "      <td>0</td>\n",
       "      <td>0</td>\n",
       "      <td>0</td>\n",
       "      <td>0</td>\n",
       "      <td>Known</td>\n",
       "      <td>1</td>\n",
       "      <td>1</td>\n",
       "      <td>0</td>\n",
       "      <td>0</td>\n",
       "      <td>1</td>\n",
       "      <td>1</td>\n",
       "      <td>0</td>\n",
       "      <td>0</td>\n",
       "      <td>1</td>\n",
       "      <td>0</td>\n",
       "      <td>0</td>\n",
       "      <td>5</td>\n",
       "      <td>0</td>\n",
       "      <td>0</td>\n",
       "      <td>30</td>\n",
       "      <td>0</td>\n",
       "      <td>4-Medium</td>\n",
       "      <td>Suburban</td>\n",
       "      <td>Professional</td>\n",
       "      <td>1</td>\n",
       "    </tr>\n",
       "    <tr>\n",
       "      <th>2</th>\n",
       "      <td>3000014</td>\n",
       "      <td>0</td>\n",
       "      <td>38.00</td>\n",
       "      <td>8.0</td>\n",
       "      <td>38.0</td>\n",
       "      <td>0.00</td>\n",
       "      <td>0.0</td>\n",
       "      <td>0.0</td>\n",
       "      <td>-2.0</td>\n",
       "      <td>0.0</td>\n",
       "      <td>0.0</td>\n",
       "      <td>0.0</td>\n",
       "      <td>0.0</td>\n",
       "      <td>0.0</td>\n",
       "      <td>0.0</td>\n",
       "      <td>0.4</td>\n",
       "      <td>0.3</td>\n",
       "      <td>0.0</td>\n",
       "      <td>1.3</td>\n",
       "      <td>3.7</td>\n",
       "      <td>0.0</td>\n",
       "      <td>0.0</td>\n",
       "      <td>0.0</td>\n",
       "      <td>60</td>\n",
       "      <td>1</td>\n",
       "      <td>1</td>\n",
       "      <td>MILMIL414</td>\n",
       "      <td>1.0</td>\n",
       "      <td>1.0</td>\n",
       "      <td>1812.0</td>\n",
       "      <td>26.0</td>\n",
       "      <td>26.0</td>\n",
       "      <td>1</td>\n",
       "      <td>0</td>\n",
       "      <td>0</td>\n",
       "      <td>0</td>\n",
       "      <td>0</td>\n",
       "      <td>Unknown</td>\n",
       "      <td>0</td>\n",
       "      <td>0</td>\n",
       "      <td>0</td>\n",
       "      <td>0</td>\n",
       "      <td>0</td>\n",
       "      <td>1</td>\n",
       "      <td>0</td>\n",
       "      <td>0</td>\n",
       "      <td>1</td>\n",
       "      <td>0</td>\n",
       "      <td>0</td>\n",
       "      <td>6</td>\n",
       "      <td>0</td>\n",
       "      <td>0</td>\n",
       "      <td>Unknown</td>\n",
       "      <td>0</td>\n",
       "      <td>3-Good</td>\n",
       "      <td>Town</td>\n",
       "      <td>Crafts</td>\n",
       "      <td>1</td>\n",
       "    </tr>\n",
       "    <tr>\n",
       "      <th>3</th>\n",
       "      <td>3000022</td>\n",
       "      <td>0</td>\n",
       "      <td>82.28</td>\n",
       "      <td>1312.0</td>\n",
       "      <td>75.0</td>\n",
       "      <td>1.24</td>\n",
       "      <td>0.0</td>\n",
       "      <td>0.0</td>\n",
       "      <td>157.0</td>\n",
       "      <td>8.1</td>\n",
       "      <td>52.0</td>\n",
       "      <td>7.7</td>\n",
       "      <td>76.0</td>\n",
       "      <td>4.3</td>\n",
       "      <td>1.3</td>\n",
       "      <td>200.3</td>\n",
       "      <td>370.3</td>\n",
       "      <td>147.0</td>\n",
       "      <td>555.7</td>\n",
       "      <td>303.7</td>\n",
       "      <td>59.7</td>\n",
       "      <td>0.0</td>\n",
       "      <td>22.7</td>\n",
       "      <td>59</td>\n",
       "      <td>2</td>\n",
       "      <td>2</td>\n",
       "      <td>PITHOM412</td>\n",
       "      <td>9.0</td>\n",
       "      <td>4.0</td>\n",
       "      <td>458.0</td>\n",
       "      <td>30.0</td>\n",
       "      <td>0.0</td>\n",
       "      <td>0</td>\n",
       "      <td>0</td>\n",
       "      <td>1</td>\n",
       "      <td>0</td>\n",
       "      <td>0</td>\n",
       "      <td>Known</td>\n",
       "      <td>1</td>\n",
       "      <td>1</td>\n",
       "      <td>0</td>\n",
       "      <td>0</td>\n",
       "      <td>0</td>\n",
       "      <td>1</td>\n",
       "      <td>0</td>\n",
       "      <td>0</td>\n",
       "      <td>1</td>\n",
       "      <td>0</td>\n",
       "      <td>0</td>\n",
       "      <td>6</td>\n",
       "      <td>0</td>\n",
       "      <td>0</td>\n",
       "      <td>10</td>\n",
       "      <td>0</td>\n",
       "      <td>4-Medium</td>\n",
       "      <td>Other</td>\n",
       "      <td>Other</td>\n",
       "      <td>0</td>\n",
       "    </tr>\n",
       "    <tr>\n",
       "      <th>4</th>\n",
       "      <td>3000026</td>\n",
       "      <td>1</td>\n",
       "      <td>17.14</td>\n",
       "      <td>0.0</td>\n",
       "      <td>17.0</td>\n",
       "      <td>0.00</td>\n",
       "      <td>0.0</td>\n",
       "      <td>0.0</td>\n",
       "      <td>0.0</td>\n",
       "      <td>-0.2</td>\n",
       "      <td>0.0</td>\n",
       "      <td>0.0</td>\n",
       "      <td>0.0</td>\n",
       "      <td>0.0</td>\n",
       "      <td>0.0</td>\n",
       "      <td>0.0</td>\n",
       "      <td>0.0</td>\n",
       "      <td>0.0</td>\n",
       "      <td>0.0</td>\n",
       "      <td>0.0</td>\n",
       "      <td>0.0</td>\n",
       "      <td>0.0</td>\n",
       "      <td>0.0</td>\n",
       "      <td>53</td>\n",
       "      <td>2</td>\n",
       "      <td>2</td>\n",
       "      <td>OKCTUL918</td>\n",
       "      <td>4.0</td>\n",
       "      <td>3.0</td>\n",
       "      <td>852.0</td>\n",
       "      <td>46.0</td>\n",
       "      <td>54.0</td>\n",
       "      <td>0</td>\n",
       "      <td>0</td>\n",
       "      <td>0</td>\n",
       "      <td>0</td>\n",
       "      <td>0</td>\n",
       "      <td>Known</td>\n",
       "      <td>1</td>\n",
       "      <td>1</td>\n",
       "      <td>0</td>\n",
       "      <td>0</td>\n",
       "      <td>1</td>\n",
       "      <td>1</td>\n",
       "      <td>0</td>\n",
       "      <td>0</td>\n",
       "      <td>0</td>\n",
       "      <td>1</td>\n",
       "      <td>0</td>\n",
       "      <td>9</td>\n",
       "      <td>0</td>\n",
       "      <td>1</td>\n",
       "      <td>10</td>\n",
       "      <td>0</td>\n",
       "      <td>1-Highest</td>\n",
       "      <td>Other</td>\n",
       "      <td>Professional</td>\n",
       "      <td>1</td>\n",
       "    </tr>\n",
       "  </tbody>\n",
       "</table>\n",
       "</div>"
      ],
      "text/plain": [
       "   CustomerID  Churn  MonthlyRevenue  MonthlyMinutes  TotalRecurringCharge  \\\n",
       "0     3000002      1           24.00           219.0                  22.0   \n",
       "1     3000010      1           16.99            10.0                  17.0   \n",
       "2     3000014      0           38.00             8.0                  38.0   \n",
       "3     3000022      0           82.28          1312.0                  75.0   \n",
       "4     3000026      1           17.14             0.0                  17.0   \n",
       "\n",
       "   DirectorAssistedCalls  OverageMinutes  RoamingCalls  PercChangeMinutes  \\\n",
       "0                   0.25             0.0           0.0             -157.0   \n",
       "1                   0.00             0.0           0.0               -4.0   \n",
       "2                   0.00             0.0           0.0               -2.0   \n",
       "3                   1.24             0.0           0.0              157.0   \n",
       "4                   0.00             0.0           0.0                0.0   \n",
       "\n",
       "   PercChangeRevenues  DroppedCalls  BlockedCalls  UnansweredCalls  \\\n",
       "0               -19.0           0.7           0.7              6.3   \n",
       "1                 0.0           0.3           0.0              2.7   \n",
       "2                 0.0           0.0           0.0              0.0   \n",
       "3                 8.1          52.0           7.7             76.0   \n",
       "4                -0.2           0.0           0.0              0.0   \n",
       "\n",
       "   CustomerCareCalls  ThreewayCalls  ReceivedCalls  OutboundCalls  \\\n",
       "0                0.0            0.0           97.2            0.0   \n",
       "1                0.0            0.0            0.0            0.0   \n",
       "2                0.0            0.0            0.4            0.3   \n",
       "3                4.3            1.3          200.3          370.3   \n",
       "4                0.0            0.0            0.0            0.0   \n",
       "\n",
       "   InboundCalls  PeakCallsInOut  OffPeakCallsInOut  DroppedBlockedCalls  \\\n",
       "0           0.0            58.0               24.0                  1.3   \n",
       "1           0.0             5.0                1.0                  0.3   \n",
       "2           0.0             1.3                3.7                  0.0   \n",
       "3         147.0           555.7              303.7                 59.7   \n",
       "4           0.0             0.0                0.0                  0.0   \n",
       "\n",
       "   CallForwardingCalls  CallWaitingCalls  MonthsInService  UniqueSubs  \\\n",
       "0                  0.0               0.3               61           2   \n",
       "1                  0.0               0.0               58           1   \n",
       "2                  0.0               0.0               60           1   \n",
       "3                  0.0              22.7               59           2   \n",
       "4                  0.0               0.0               53           2   \n",
       "\n",
       "   ActiveSubs ServiceArea  Handsets  HandsetModels  CurrentEquipmentDays  \\\n",
       "0           1   SEAPOR503       2.0            2.0                 361.0   \n",
       "1           1   PITHOM412       2.0            1.0                1504.0   \n",
       "2           1   MILMIL414       1.0            1.0                1812.0   \n",
       "3           2   PITHOM412       9.0            4.0                 458.0   \n",
       "4           2   OKCTUL918       4.0            3.0                 852.0   \n",
       "\n",
       "   AgeHH1  AgeHH2  ChildrenInHH  HandsetRefurbished  HandsetWebCapable  \\\n",
       "0    62.0     0.0             0                   0                  1   \n",
       "1    40.0    42.0             1                   0                  0   \n",
       "2    26.0    26.0             1                   0                  0   \n",
       "3    30.0     0.0             0                   0                  1   \n",
       "4    46.0    54.0             0                   0                  0   \n",
       "\n",
       "   TruckOwner  RVOwner Homeownership  BuysViaMailOrder  RespondsToMailOffers  \\\n",
       "0           0        0         Known                 1                     1   \n",
       "1           0        0         Known                 1                     1   \n",
       "2           0        0       Unknown                 0                     0   \n",
       "3           0        0         Known                 1                     1   \n",
       "4           0        0         Known                 1                     1   \n",
       "\n",
       "   OptOutMailings  NonUSTravel  OwnsComputer  HasCreditCard  RetentionCalls  \\\n",
       "0               0            0             1              1               1   \n",
       "1               0            0             1              1               0   \n",
       "2               0            0             0              1               0   \n",
       "3               0            0             0              1               0   \n",
       "4               0            0             1              1               0   \n",
       "\n",
       "   RetentionOffersAccepted  NewCellphoneUser  NotNewCellphoneUser  \\\n",
       "0                        0                 0                    0   \n",
       "1                        0                 1                    0   \n",
       "2                        0                 1                    0   \n",
       "3                        0                 1                    0   \n",
       "4                        0                 0                    1   \n",
       "\n",
       "   ReferralsMadeBySubscriber  IncomeGroup  OwnsMotorcycle  \\\n",
       "0                          0            4               0   \n",
       "1                          0            5               0   \n",
       "2                          0            6               0   \n",
       "3                          0            6               0   \n",
       "4                          0            9               0   \n",
       "\n",
       "   AdjustmentsToCreditRating HandsetPrice  MadeCallToRetentionTeam  \\\n",
       "0                          0           30                        1   \n",
       "1                          0           30                        0   \n",
       "2                          0      Unknown                        0   \n",
       "3                          0           10                        0   \n",
       "4                          1           10                        0   \n",
       "\n",
       "  CreditRating PrizmCode    Occupation MaritalStatus  \n",
       "0    1-Highest  Suburban  Professional             0  \n",
       "1     4-Medium  Suburban  Professional             1  \n",
       "2       3-Good      Town        Crafts             1  \n",
       "3     4-Medium     Other         Other             0  \n",
       "4    1-Highest     Other  Professional             1  "
      ]
     },
     "execution_count": 7,
     "metadata": {},
     "output_type": "execute_result"
    }
   ],
   "source": [
    "df = df.replace({'Yes': 1, 'No': 0})\n",
    "df.head()"
   ]
  },
  {
   "cell_type": "code",
   "execution_count": 8,
   "metadata": {
    "ExecuteTime": {
     "end_time": "2021-04-12T15:23:29.194457Z",
     "start_time": "2021-04-12T15:23:29.149576Z"
    }
   },
   "outputs": [
    {
     "name": "stdout",
     "output_type": "stream",
     "text": [
      "<class 'pandas.core.frame.DataFrame'>\n",
      "RangeIndex: 51047 entries, 0 to 51046\n",
      "Data columns (total 58 columns):\n",
      " #   Column                     Non-Null Count  Dtype  \n",
      "---  ------                     --------------  -----  \n",
      " 0   CustomerID                 51047 non-null  int64  \n",
      " 1   Churn                      51047 non-null  int64  \n",
      " 2   MonthlyRevenue             50891 non-null  float64\n",
      " 3   MonthlyMinutes             50891 non-null  float64\n",
      " 4   TotalRecurringCharge       50891 non-null  float64\n",
      " 5   DirectorAssistedCalls      50891 non-null  float64\n",
      " 6   OverageMinutes             50891 non-null  float64\n",
      " 7   RoamingCalls               50891 non-null  float64\n",
      " 8   PercChangeMinutes          50680 non-null  float64\n",
      " 9   PercChangeRevenues         50680 non-null  float64\n",
      " 10  DroppedCalls               51047 non-null  float64\n",
      " 11  BlockedCalls               51047 non-null  float64\n",
      " 12  UnansweredCalls            51047 non-null  float64\n",
      " 13  CustomerCareCalls          51047 non-null  float64\n",
      " 14  ThreewayCalls              51047 non-null  float64\n",
      " 15  ReceivedCalls              51047 non-null  float64\n",
      " 16  OutboundCalls              51047 non-null  float64\n",
      " 17  InboundCalls               51047 non-null  float64\n",
      " 18  PeakCallsInOut             51047 non-null  float64\n",
      " 19  OffPeakCallsInOut          51047 non-null  float64\n",
      " 20  DroppedBlockedCalls        51047 non-null  float64\n",
      " 21  CallForwardingCalls        51047 non-null  float64\n",
      " 22  CallWaitingCalls           51047 non-null  float64\n",
      " 23  MonthsInService            51047 non-null  int64  \n",
      " 24  UniqueSubs                 51047 non-null  int64  \n",
      " 25  ActiveSubs                 51047 non-null  int64  \n",
      " 26  ServiceArea                51023 non-null  object \n",
      " 27  Handsets                   51046 non-null  float64\n",
      " 28  HandsetModels              51046 non-null  float64\n",
      " 29  CurrentEquipmentDays       51046 non-null  float64\n",
      " 30  AgeHH1                     50138 non-null  float64\n",
      " 31  AgeHH2                     50138 non-null  float64\n",
      " 32  ChildrenInHH               51047 non-null  int64  \n",
      " 33  HandsetRefurbished         51047 non-null  int64  \n",
      " 34  HandsetWebCapable          51047 non-null  int64  \n",
      " 35  TruckOwner                 51047 non-null  int64  \n",
      " 36  RVOwner                    51047 non-null  int64  \n",
      " 37  Homeownership              51047 non-null  object \n",
      " 38  BuysViaMailOrder           51047 non-null  int64  \n",
      " 39  RespondsToMailOffers       51047 non-null  int64  \n",
      " 40  OptOutMailings             51047 non-null  int64  \n",
      " 41  NonUSTravel                51047 non-null  int64  \n",
      " 42  OwnsComputer               51047 non-null  int64  \n",
      " 43  HasCreditCard              51047 non-null  int64  \n",
      " 44  RetentionCalls             51047 non-null  int64  \n",
      " 45  RetentionOffersAccepted    51047 non-null  int64  \n",
      " 46  NewCellphoneUser           51047 non-null  int64  \n",
      " 47  NotNewCellphoneUser        51047 non-null  int64  \n",
      " 48  ReferralsMadeBySubscriber  51047 non-null  int64  \n",
      " 49  IncomeGroup                51047 non-null  int64  \n",
      " 50  OwnsMotorcycle             51047 non-null  int64  \n",
      " 51  AdjustmentsToCreditRating  51047 non-null  int64  \n",
      " 52  HandsetPrice               51047 non-null  object \n",
      " 53  MadeCallToRetentionTeam    51047 non-null  int64  \n",
      " 54  CreditRating               51047 non-null  object \n",
      " 55  PrizmCode                  51047 non-null  object \n",
      " 56  Occupation                 51047 non-null  object \n",
      " 57  MaritalStatus              51047 non-null  object \n",
      "dtypes: float64(26), int64(25), object(7)\n",
      "memory usage: 22.6+ MB\n"
     ]
    }
   ],
   "source": [
    "df.info()"
   ]
  },
  {
   "cell_type": "markdown",
   "metadata": {},
   "source": [
    "There are some object columns left. Let's check what they are and how to transform them"
   ]
  },
  {
   "cell_type": "code",
   "execution_count": 9,
   "metadata": {
    "ExecuteTime": {
     "end_time": "2021-04-12T15:23:29.225376Z",
     "start_time": "2021-04-12T15:23:29.196452Z"
    }
   },
   "outputs": [
    {
     "data": {
      "text/html": [
       "<div>\n",
       "<style scoped>\n",
       "    .dataframe tbody tr th:only-of-type {\n",
       "        vertical-align: middle;\n",
       "    }\n",
       "\n",
       "    .dataframe tbody tr th {\n",
       "        vertical-align: top;\n",
       "    }\n",
       "\n",
       "    .dataframe thead th {\n",
       "        text-align: right;\n",
       "    }\n",
       "</style>\n",
       "<table border=\"1\" class=\"dataframe\">\n",
       "  <thead>\n",
       "    <tr style=\"text-align: right;\">\n",
       "      <th></th>\n",
       "      <th>CreditRating</th>\n",
       "      <th>PrizmCode</th>\n",
       "      <th>Occupation</th>\n",
       "      <th>MaritalStatus</th>\n",
       "      <th>HandsetPrice</th>\n",
       "      <th>Homeownership</th>\n",
       "      <th>ServiceArea</th>\n",
       "    </tr>\n",
       "  </thead>\n",
       "  <tbody>\n",
       "    <tr>\n",
       "      <th>0</th>\n",
       "      <td>1-Highest</td>\n",
       "      <td>Suburban</td>\n",
       "      <td>Professional</td>\n",
       "      <td>0</td>\n",
       "      <td>30</td>\n",
       "      <td>Known</td>\n",
       "      <td>SEAPOR503</td>\n",
       "    </tr>\n",
       "    <tr>\n",
       "      <th>1</th>\n",
       "      <td>4-Medium</td>\n",
       "      <td>Suburban</td>\n",
       "      <td>Professional</td>\n",
       "      <td>1</td>\n",
       "      <td>30</td>\n",
       "      <td>Known</td>\n",
       "      <td>PITHOM412</td>\n",
       "    </tr>\n",
       "    <tr>\n",
       "      <th>2</th>\n",
       "      <td>3-Good</td>\n",
       "      <td>Town</td>\n",
       "      <td>Crafts</td>\n",
       "      <td>1</td>\n",
       "      <td>Unknown</td>\n",
       "      <td>Unknown</td>\n",
       "      <td>MILMIL414</td>\n",
       "    </tr>\n",
       "    <tr>\n",
       "      <th>3</th>\n",
       "      <td>4-Medium</td>\n",
       "      <td>Other</td>\n",
       "      <td>Other</td>\n",
       "      <td>0</td>\n",
       "      <td>10</td>\n",
       "      <td>Known</td>\n",
       "      <td>PITHOM412</td>\n",
       "    </tr>\n",
       "    <tr>\n",
       "      <th>4</th>\n",
       "      <td>1-Highest</td>\n",
       "      <td>Other</td>\n",
       "      <td>Professional</td>\n",
       "      <td>1</td>\n",
       "      <td>10</td>\n",
       "      <td>Known</td>\n",
       "      <td>OKCTUL918</td>\n",
       "    </tr>\n",
       "    <tr>\n",
       "      <th>...</th>\n",
       "      <td>...</td>\n",
       "      <td>...</td>\n",
       "      <td>...</td>\n",
       "      <td>...</td>\n",
       "      <td>...</td>\n",
       "      <td>...</td>\n",
       "      <td>...</td>\n",
       "    </tr>\n",
       "    <tr>\n",
       "      <th>51042</th>\n",
       "      <td>1-Highest</td>\n",
       "      <td>Suburban</td>\n",
       "      <td>Other</td>\n",
       "      <td>1</td>\n",
       "      <td>60</td>\n",
       "      <td>Known</td>\n",
       "      <td>LAXSFN818</td>\n",
       "    </tr>\n",
       "    <tr>\n",
       "      <th>51043</th>\n",
       "      <td>3-Good</td>\n",
       "      <td>Other</td>\n",
       "      <td>Other</td>\n",
       "      <td>0</td>\n",
       "      <td>60</td>\n",
       "      <td>Known</td>\n",
       "      <td>LAXCDG310</td>\n",
       "    </tr>\n",
       "    <tr>\n",
       "      <th>51044</th>\n",
       "      <td>5-Low</td>\n",
       "      <td>Other</td>\n",
       "      <td>Clerical</td>\n",
       "      <td>0</td>\n",
       "      <td>80</td>\n",
       "      <td>Known</td>\n",
       "      <td>LAXCDG310</td>\n",
       "    </tr>\n",
       "    <tr>\n",
       "      <th>51045</th>\n",
       "      <td>5-Low</td>\n",
       "      <td>Other</td>\n",
       "      <td>Other</td>\n",
       "      <td>0</td>\n",
       "      <td>30</td>\n",
       "      <td>Unknown</td>\n",
       "      <td>NEVPOW619</td>\n",
       "    </tr>\n",
       "    <tr>\n",
       "      <th>51046</th>\n",
       "      <td>5-Low</td>\n",
       "      <td>Other</td>\n",
       "      <td>Other</td>\n",
       "      <td>Unknown</td>\n",
       "      <td>60</td>\n",
       "      <td>Unknown</td>\n",
       "      <td>NEVPOW619</td>\n",
       "    </tr>\n",
       "  </tbody>\n",
       "</table>\n",
       "<p>51047 rows × 7 columns</p>\n",
       "</div>"
      ],
      "text/plain": [
       "      CreditRating PrizmCode    Occupation MaritalStatus HandsetPrice  \\\n",
       "0        1-Highest  Suburban  Professional             0           30   \n",
       "1         4-Medium  Suburban  Professional             1           30   \n",
       "2           3-Good      Town        Crafts             1      Unknown   \n",
       "3         4-Medium     Other         Other             0           10   \n",
       "4        1-Highest     Other  Professional             1           10   \n",
       "...            ...       ...           ...           ...          ...   \n",
       "51042    1-Highest  Suburban         Other             1           60   \n",
       "51043       3-Good     Other         Other             0           60   \n",
       "51044        5-Low     Other      Clerical             0           80   \n",
       "51045        5-Low     Other         Other             0           30   \n",
       "51046        5-Low     Other         Other       Unknown           60   \n",
       "\n",
       "      Homeownership ServiceArea  \n",
       "0             Known   SEAPOR503  \n",
       "1             Known   PITHOM412  \n",
       "2           Unknown   MILMIL414  \n",
       "3             Known   PITHOM412  \n",
       "4             Known   OKCTUL918  \n",
       "...             ...         ...  \n",
       "51042         Known   LAXSFN818  \n",
       "51043         Known   LAXCDG310  \n",
       "51044         Known   LAXCDG310  \n",
       "51045       Unknown   NEVPOW619  \n",
       "51046       Unknown   NEVPOW619  \n",
       "\n",
       "[51047 rows x 7 columns]"
      ]
     },
     "execution_count": 9,
     "metadata": {},
     "output_type": "execute_result"
    }
   ],
   "source": [
    "df[['CreditRating', 'PrizmCode', 'Occupation', 'MaritalStatus', \n",
    "        'HandsetPrice', 'Homeownership', 'ServiceArea']]"
   ]
  },
  {
   "cell_type": "code",
   "execution_count": 10,
   "metadata": {
    "ExecuteTime": {
     "end_time": "2021-04-12T15:23:29.460562Z",
     "start_time": "2021-04-12T15:23:29.229365Z"
    }
   },
   "outputs": [
    {
     "data": {
      "text/plain": [
       "<AxesSubplot:>"
      ]
     },
     "execution_count": 10,
     "metadata": {},
     "output_type": "execute_result"
    },
    {
     "data": {
      "image/png": "[encoded data removed]",
      "text/plain": [
       "<Figure size 432x288 with 1 Axes>"
      ]
     },
     "metadata": {
      "needs_background": "light"
     },
     "output_type": "display_data"
    }
   ],
   "source": [
    "df['CreditRating'].sort_values().hist()"
   ]
  },
  {
   "cell_type": "markdown",
   "metadata": {},
   "source": [
    "Credit rating already has the numerical representation of the rating. The smaller the value, the better is the credit"
   ]
  },
  {
   "cell_type": "code",
   "execution_count": 11,
   "metadata": {
    "ExecuteTime": {
     "end_time": "2021-04-12T15:23:29.506475Z",
     "start_time": "2021-04-12T15:23:29.465544Z"
    },
    "colab": {
     "base_uri": "https://localhost:8080/"
    },
    "executionInfo": {
     "elapsed": 763,
     "status": "ok",
     "timestamp": 1617876729350,
     "user": {
      "displayName": "Jordan Yew",
      "photoUrl": "https://lh3.googleusercontent.com/a-/AOh14GgwpEx4k9brsKgMmLEvzOk6fZnaqtVUqztWKK1qGA=s64",
      "userId": "04296311432662961392"
     },
     "user_tz": -480
    },
    "id": "BFX9mVaD9qvR",
    "outputId": "8d297ea0-5b56-4e34-f116-76489dd91500"
   },
   "outputs": [
    {
     "data": {
      "text/plain": [
       "0    1.0\n",
       "1    4.0\n",
       "2    3.0\n",
       "3    4.0\n",
       "4    1.0\n",
       "Name: CreditRating, dtype: float64"
      ]
     },
     "execution_count": 11,
     "metadata": {},
     "output_type": "execute_result"
    }
   ],
   "source": [
    "df['CreditRating'] = df['CreditRating'].apply(lambda x: x.split('-')[0]).astype(float)\n",
    "df['CreditRating'].head()"
   ]
  },
  {
   "cell_type": "code",
   "execution_count": 12,
   "metadata": {
    "ExecuteTime": {
     "end_time": "2021-04-12T15:23:29.648453Z",
     "start_time": "2021-04-12T15:23:29.508431Z"
    }
   },
   "outputs": [
    {
     "data": {
      "text/plain": [
       "<AxesSubplot:>"
      ]
     },
     "execution_count": 12,
     "metadata": {},
     "output_type": "execute_result"
    },
    {
     "data": {
      "image/png": "[encoded data removed]",
      "text/plain": [
       "<Figure size 432x288 with 1 Axes>"
      ]
     },
     "metadata": {
      "needs_background": "light"
     },
     "output_type": "display_data"
    }
   ],
   "source": [
    "df['PrizmCode'].hist()"
   ]
  },
  {
   "cell_type": "markdown",
   "metadata": {},
   "source": [
    "If we were to rank these values, we should rank town > Suburban > rural > other. Hence we would transform data in such an order"
   ]
  },
  {
   "cell_type": "code",
   "execution_count": 13,
   "metadata": {
    "ExecuteTime": {
     "end_time": "2021-04-12T15:23:29.680457Z",
     "start_time": "2021-04-12T15:23:29.649426Z"
    }
   },
   "outputs": [],
   "source": [
    "df['PrizmCode'] = df['PrizmCode'].replace({'Town': 1, 'Suburban': 2, 'Rural': 3, 'Other': 4})"
   ]
  },
  {
   "cell_type": "code",
   "execution_count": 14,
   "metadata": {
    "ExecuteTime": {
     "end_time": "2021-04-12T15:23:29.696369Z",
     "start_time": "2021-04-12T15:23:29.681409Z"
    }
   },
   "outputs": [
    {
     "data": {
      "text/plain": [
       "Other           37637\n",
       "Professional     8755\n",
       "Crafts           1519\n",
       "Clerical          986\n",
       "Self              879\n",
       "Retired           733\n",
       "Student           381\n",
       "Homemaker         157\n",
       "Name: Occupation, dtype: int64"
      ]
     },
     "execution_count": 14,
     "metadata": {},
     "output_type": "execute_result"
    }
   ],
   "source": [
    "df['Occupation'].value_counts()"
   ]
  },
  {
   "cell_type": "markdown",
   "metadata": {
    "ExecuteTime": {
     "end_time": "2021-04-10T04:36:06.209568Z",
     "start_time": "2021-04-10T04:36:06.202591Z"
    }
   },
   "source": [
    "We will use one-hot encoding here since we don't want to confuse our model with ordinality of the occupations"
   ]
  },
  {
   "cell_type": "code",
   "execution_count": 15,
   "metadata": {
    "ExecuteTime": {
     "end_time": "2021-04-12T15:23:29.792112Z",
     "start_time": "2021-04-12T15:23:29.698365Z"
    }
   },
   "outputs": [
    {
     "data": {
      "text/html": [
       "<div>\n",
       "<style scoped>\n",
       "    .dataframe tbody tr th:only-of-type {\n",
       "        vertical-align: middle;\n",
       "    }\n",
       "\n",
       "    .dataframe tbody tr th {\n",
       "        vertical-align: top;\n",
       "    }\n",
       "\n",
       "    .dataframe thead th {\n",
       "        text-align: right;\n",
       "    }\n",
       "</style>\n",
       "<table border=\"1\" class=\"dataframe\">\n",
       "  <thead>\n",
       "    <tr style=\"text-align: right;\">\n",
       "      <th></th>\n",
       "      <th>Job_is_Clerical</th>\n",
       "      <th>Job_is_Crafts</th>\n",
       "      <th>Job_is_Homemaker</th>\n",
       "      <th>Job_is_Other</th>\n",
       "      <th>Job_is_Professional</th>\n",
       "      <th>Job_is_Retired</th>\n",
       "      <th>Job_is_Self</th>\n",
       "      <th>Job_is_Student</th>\n",
       "    </tr>\n",
       "  </thead>\n",
       "  <tbody>\n",
       "    <tr>\n",
       "      <th>51042</th>\n",
       "      <td>0</td>\n",
       "      <td>0</td>\n",
       "      <td>0</td>\n",
       "      <td>1</td>\n",
       "      <td>0</td>\n",
       "      <td>0</td>\n",
       "      <td>0</td>\n",
       "      <td>0</td>\n",
       "    </tr>\n",
       "    <tr>\n",
       "      <th>51043</th>\n",
       "      <td>0</td>\n",
       "      <td>0</td>\n",
       "      <td>0</td>\n",
       "      <td>1</td>\n",
       "      <td>0</td>\n",
       "      <td>0</td>\n",
       "      <td>0</td>\n",
       "      <td>0</td>\n",
       "    </tr>\n",
       "    <tr>\n",
       "      <th>51044</th>\n",
       "      <td>1</td>\n",
       "      <td>0</td>\n",
       "      <td>0</td>\n",
       "      <td>0</td>\n",
       "      <td>0</td>\n",
       "      <td>0</td>\n",
       "      <td>0</td>\n",
       "      <td>0</td>\n",
       "    </tr>\n",
       "    <tr>\n",
       "      <th>51045</th>\n",
       "      <td>0</td>\n",
       "      <td>0</td>\n",
       "      <td>0</td>\n",
       "      <td>1</td>\n",
       "      <td>0</td>\n",
       "      <td>0</td>\n",
       "      <td>0</td>\n",
       "      <td>0</td>\n",
       "    </tr>\n",
       "    <tr>\n",
       "      <th>51046</th>\n",
       "      <td>0</td>\n",
       "      <td>0</td>\n",
       "      <td>0</td>\n",
       "      <td>1</td>\n",
       "      <td>0</td>\n",
       "      <td>0</td>\n",
       "      <td>0</td>\n",
       "      <td>0</td>\n",
       "    </tr>\n",
       "  </tbody>\n",
       "</table>\n",
       "</div>"
      ],
      "text/plain": [
       "       Job_is_Clerical  Job_is_Crafts  Job_is_Homemaker  Job_is_Other  \\\n",
       "51042                0              0                 0             1   \n",
       "51043                0              0                 0             1   \n",
       "51044                1              0                 0             0   \n",
       "51045                0              0                 0             1   \n",
       "51046                0              0                 0             1   \n",
       "\n",
       "       Job_is_Professional  Job_is_Retired  Job_is_Self  Job_is_Student  \n",
       "51042                    0               0            0               0  \n",
       "51043                    0               0            0               0  \n",
       "51044                    0               0            0               0  \n",
       "51045                    0               0            0               0  \n",
       "51046                    0               0            0               0  "
      ]
     },
     "execution_count": 15,
     "metadata": {},
     "output_type": "execute_result"
    }
   ],
   "source": [
    "# one-hot encode occupation columns\n",
    "df = pd.get_dummies(df, columns=[\"Occupation\"], prefix=[\"Job_is\"] )\n",
    "df[['Job_is_Clerical', 'Job_is_Crafts', 'Job_is_Homemaker',\n",
    "   'Job_is_Other', 'Job_is_Professional', 'Job_is_Retired', \n",
    "   'Job_is_Self', 'Job_is_Student']].tail()"
   ]
  },
  {
   "cell_type": "code",
   "execution_count": 16,
   "metadata": {
    "ExecuteTime": {
     "end_time": "2021-04-12T15:23:29.808069Z",
     "start_time": "2021-04-12T15:23:29.793110Z"
    }
   },
   "outputs": [
    {
     "data": {
      "text/plain": [
       "Unknown    19700\n",
       "1          18651\n",
       "0          12696\n",
       "Name: MaritalStatus, dtype: int64"
      ]
     },
     "execution_count": 16,
     "metadata": {},
     "output_type": "execute_result"
    }
   ],
   "source": [
    "df['MaritalStatus'].value_counts()"
   ]
  },
  {
   "cell_type": "markdown",
   "metadata": {},
   "source": [
    "It seems like unknown status is the only non-numerical value here. We are going to assume unknown = Single or unmarried, which is 0"
   ]
  },
  {
   "cell_type": "code",
   "execution_count": 17,
   "metadata": {
    "ExecuteTime": {
     "end_time": "2021-04-12T15:23:29.839985Z",
     "start_time": "2021-04-12T15:23:29.810065Z"
    }
   },
   "outputs": [],
   "source": [
    "df['MaritalStatus'] = df['MaritalStatus'].replace({'Unknown': 0})"
   ]
  },
  {
   "cell_type": "markdown",
   "metadata": {
    "id": "SWGbdDl8-KwC"
   },
   "source": [
    "'HandsetPrice', 'Homeownership', 'ServiceArea'"
   ]
  },
  {
   "cell_type": "code",
   "execution_count": 18,
   "metadata": {
    "ExecuteTime": {
     "end_time": "2021-04-12T15:23:29.855957Z",
     "start_time": "2021-04-12T15:23:29.840982Z"
    }
   },
   "outputs": [
    {
     "data": {
      "text/plain": [
       "Unknown    28982\n",
       "30          7328\n",
       "150         4115\n",
       "130         2105\n",
       "80          1960\n",
       "10          1928\n",
       "60          1776\n",
       "200         1266\n",
       "100         1235\n",
       "40           249\n",
       "400           46\n",
       "250           20\n",
       "300           13\n",
       "180           10\n",
       "500            8\n",
       "240            6\n",
       "Name: HandsetPrice, dtype: int64"
      ]
     },
     "execution_count": 18,
     "metadata": {},
     "output_type": "execute_result"
    }
   ],
   "source": [
    "df['HandsetPrice'].value_counts()"
   ]
  },
  {
   "cell_type": "markdown",
   "metadata": {},
   "source": [
    "Because the number of unknown here is quite a lot. We can't simply drop the rows that have unknown values. For now we will make the values become nan first and deal with them later. At feature selection part, we might not even use this column due to high amount of missing values and low predictive"
   ]
  },
  {
   "cell_type": "code",
   "execution_count": 19,
   "metadata": {
    "ExecuteTime": {
     "end_time": "2021-04-12T15:23:29.885862Z",
     "start_time": "2021-04-12T15:23:29.857937Z"
    }
   },
   "outputs": [],
   "source": [
    "df['HandsetPrice'] = df['HandsetPrice'].replace({'Unknown': np.nan}).astype(float)"
   ]
  },
  {
   "cell_type": "code",
   "execution_count": 20,
   "metadata": {
    "ExecuteTime": {
     "end_time": "2021-04-12T15:23:29.900823Z",
     "start_time": "2021-04-12T15:23:29.887857Z"
    }
   },
   "outputs": [
    {
     "data": {
      "text/plain": [
       "Known      33987\n",
       "Unknown    17060\n",
       "Name: Homeownership, dtype: int64"
      ]
     },
     "execution_count": 20,
     "metadata": {},
     "output_type": "execute_result"
    }
   ],
   "source": [
    "df['Homeownership'].value_counts()"
   ]
  },
  {
   "cell_type": "markdown",
   "metadata": {},
   "source": [
    "Homeownership values are just binary. So we will convert values into 1 or 0"
   ]
  },
  {
   "cell_type": "code",
   "execution_count": 21,
   "metadata": {
    "ExecuteTime": {
     "end_time": "2021-04-12T15:23:29.931740Z",
     "start_time": "2021-04-12T15:23:29.902820Z"
    }
   },
   "outputs": [],
   "source": [
    "df['Homeownership'] = df['Homeownership'].replace({'Unknown': 0, 'Known': 1})"
   ]
  },
  {
   "cell_type": "code",
   "execution_count": 22,
   "metadata": {
    "ExecuteTime": {
     "end_time": "2021-04-12T15:23:29.947671Z",
     "start_time": "2021-04-12T15:23:29.932737Z"
    }
   },
   "outputs": [
    {
     "data": {
      "text/plain": [
       "NYCBRO917    1684\n",
       "HOUHOU281    1510\n",
       "DALDAL214    1498\n",
       "NYCMAN917    1182\n",
       "APCFCH703     783\n",
       "             ... \n",
       "PHISCR717       1\n",
       "SFRWTV831       1\n",
       "SFRRCM510       1\n",
       "OHIOXF513       1\n",
       "OMANEW515       1\n",
       "Name: ServiceArea, Length: 747, dtype: int64"
      ]
     },
     "execution_count": 22,
     "metadata": {},
     "output_type": "execute_result"
    }
   ],
   "source": [
    "df['ServiceArea'].value_counts()"
   ]
  },
  {
   "cell_type": "markdown",
   "metadata": {},
   "source": [
    "Due to the high diversity of data in service area, we can't use onehotencoder here. Label encoder is a better choice"
   ]
  },
  {
   "cell_type": "code",
   "execution_count": 23,
   "metadata": {
    "ExecuteTime": {
     "end_time": "2021-04-12T15:23:29.979586Z",
     "start_time": "2021-04-12T15:23:29.949666Z"
    }
   },
   "outputs": [
    {
     "data": {
      "text/plain": [
       "459    1684\n",
       "229    1510\n",
       "129    1498\n",
       "465    1182\n",
       "39      783\n",
       "       ... \n",
       "439       1\n",
       "375       1\n",
       "261       1\n",
       "23        1\n",
       "527       1\n",
       "Name: ServiceArea, Length: 748, dtype: int64"
      ]
     },
     "execution_count": 23,
     "metadata": {},
     "output_type": "execute_result"
    }
   ],
   "source": [
    "le = LabelEncoder()\n",
    "df['ServiceArea'] = le.fit_transform(df['ServiceArea'])\n",
    "df['ServiceArea'].value_counts()"
   ]
  },
  {
   "cell_type": "code",
   "execution_count": 24,
   "metadata": {
    "ExecuteTime": {
     "end_time": "2021-04-12T15:23:30.041451Z",
     "start_time": "2021-04-12T15:23:29.983574Z"
    },
    "colab": {
     "base_uri": "https://localhost:8080/"
    },
    "executionInfo": {
     "elapsed": 1147,
     "status": "ok",
     "timestamp": 1617877152154,
     "user": {
      "displayName": "Jordan Yew",
      "photoUrl": "https://lh3.googleusercontent.com/a-/AOh14GgwpEx4k9brsKgMmLEvzOk6fZnaqtVUqztWKK1qGA=s64",
      "userId": "04296311432662961392"
     },
     "user_tz": -480
    },
    "id": "9hrHl7AO_bhI",
    "outputId": "3f881ca5-c305-44a4-8dcd-777fcaa6d143"
   },
   "outputs": [
    {
     "name": "stdout",
     "output_type": "stream",
     "text": [
      "<class 'pandas.core.frame.DataFrame'>\n",
      "RangeIndex: 51047 entries, 0 to 51046\n",
      "Data columns (total 65 columns):\n",
      " #   Column                     Non-Null Count  Dtype  \n",
      "---  ------                     --------------  -----  \n",
      " 0   CustomerID                 51047 non-null  int64  \n",
      " 1   Churn                      51047 non-null  int64  \n",
      " 2   MonthlyRevenue             50891 non-null  float64\n",
      " 3   MonthlyMinutes             50891 non-null  float64\n",
      " 4   TotalRecurringCharge       50891 non-null  float64\n",
      " 5   DirectorAssistedCalls      50891 non-null  float64\n",
      " 6   OverageMinutes             50891 non-null  float64\n",
      " 7   RoamingCalls               50891 non-null  float64\n",
      " 8   PercChangeMinutes          50680 non-null  float64\n",
      " 9   PercChangeRevenues         50680 non-null  float64\n",
      " 10  DroppedCalls               51047 non-null  float64\n",
      " 11  BlockedCalls               51047 non-null  float64\n",
      " 12  UnansweredCalls            51047 non-null  float64\n",
      " 13  CustomerCareCalls          51047 non-null  float64\n",
      " 14  ThreewayCalls              51047 non-null  float64\n",
      " 15  ReceivedCalls              51047 non-null  float64\n",
      " 16  OutboundCalls              51047 non-null  float64\n",
      " 17  InboundCalls               51047 non-null  float64\n",
      " 18  PeakCallsInOut             51047 non-null  float64\n",
      " 19  OffPeakCallsInOut          51047 non-null  float64\n",
      " 20  DroppedBlockedCalls        51047 non-null  float64\n",
      " 21  CallForwardingCalls        51047 non-null  float64\n",
      " 22  CallWaitingCalls           51047 non-null  float64\n",
      " 23  MonthsInService            51047 non-null  int64  \n",
      " 24  UniqueSubs                 51047 non-null  int64  \n",
      " 25  ActiveSubs                 51047 non-null  int64  \n",
      " 26  ServiceArea                51047 non-null  int32  \n",
      " 27  Handsets                   51046 non-null  float64\n",
      " 28  HandsetModels              51046 non-null  float64\n",
      " 29  CurrentEquipmentDays       51046 non-null  float64\n",
      " 30  AgeHH1                     50138 non-null  float64\n",
      " 31  AgeHH2                     50138 non-null  float64\n",
      " 32  ChildrenInHH               51047 non-null  int64  \n",
      " 33  HandsetRefurbished         51047 non-null  int64  \n",
      " 34  HandsetWebCapable          51047 non-null  int64  \n",
      " 35  TruckOwner                 51047 non-null  int64  \n",
      " 36  RVOwner                    51047 non-null  int64  \n",
      " 37  Homeownership              51047 non-null  int64  \n",
      " 38  BuysViaMailOrder           51047 non-null  int64  \n",
      " 39  RespondsToMailOffers       51047 non-null  int64  \n",
      " 40  OptOutMailings             51047 non-null  int64  \n",
      " 41  NonUSTravel                51047 non-null  int64  \n",
      " 42  OwnsComputer               51047 non-null  int64  \n",
      " 43  HasCreditCard              51047 non-null  int64  \n",
      " 44  RetentionCalls             51047 non-null  int64  \n",
      " 45  RetentionOffersAccepted    51047 non-null  int64  \n",
      " 46  NewCellphoneUser           51047 non-null  int64  \n",
      " 47  NotNewCellphoneUser        51047 non-null  int64  \n",
      " 48  ReferralsMadeBySubscriber  51047 non-null  int64  \n",
      " 49  IncomeGroup                51047 non-null  int64  \n",
      " 50  OwnsMotorcycle             51047 non-null  int64  \n",
      " 51  AdjustmentsToCreditRating  51047 non-null  int64  \n",
      " 52  HandsetPrice               22065 non-null  float64\n",
      " 53  MadeCallToRetentionTeam    51047 non-null  int64  \n",
      " 54  CreditRating               51047 non-null  float64\n",
      " 55  PrizmCode                  51047 non-null  int64  \n",
      " 56  MaritalStatus              51047 non-null  int64  \n",
      " 57  Job_is_Clerical            51047 non-null  uint8  \n",
      " 58  Job_is_Crafts              51047 non-null  uint8  \n",
      " 59  Job_is_Homemaker           51047 non-null  uint8  \n",
      " 60  Job_is_Other               51047 non-null  uint8  \n",
      " 61  Job_is_Professional        51047 non-null  uint8  \n",
      " 62  Job_is_Retired             51047 non-null  uint8  \n",
      " 63  Job_is_Self                51047 non-null  uint8  \n",
      " 64  Job_is_Student             51047 non-null  uint8  \n",
      "dtypes: float64(28), int32(1), int64(28), uint8(8)\n",
      "memory usage: 22.4 MB\n"
     ]
    }
   ],
   "source": [
    "df.info()"
   ]
  },
  {
   "cell_type": "markdown",
   "metadata": {
    "colab": {
     "base_uri": "https://localhost:8080/",
     "height": 1000
    },
    "executionInfo": {
     "elapsed": 767,
     "status": "ok",
     "timestamp": 1617877231305,
     "user": {
      "displayName": "Jordan Yew",
      "photoUrl": "https://lh3.googleusercontent.com/a-/AOh14GgwpEx4k9brsKgMmLEvzOk6fZnaqtVUqztWKK1qGA=s64",
      "userId": "04296311432662961392"
     },
     "user_tz": -480
    },
    "id": "T2qmAUEF_iz6",
    "outputId": "07efdf73-27d5-4c40-d66d-b76eb18579c0",
    "scrolled": true
   },
   "source": [
    "All object columns are converted into either float or int"
   ]
  },
  {
   "cell_type": "markdown",
   "metadata": {},
   "source": [
    "## Dealing with Missing Value"
   ]
  },
  {
   "cell_type": "code",
   "execution_count": 25,
   "metadata": {
    "ExecuteTime": {
     "end_time": "2021-04-12T15:23:30.073386Z",
     "start_time": "2021-04-12T15:23:30.043414Z"
    }
   },
   "outputs": [
    {
     "data": {
      "text/plain": [
       "MonthlyRevenue             156\n",
       "MonthlyMinutes             156\n",
       "TotalRecurringCharge       156\n",
       "DirectorAssistedCalls      156\n",
       "OverageMinutes             156\n",
       "RoamingCalls               156\n",
       "PercChangeMinutes          367\n",
       "PercChangeRevenues         367\n",
       "Handsets                     1\n",
       "HandsetModels                1\n",
       "CurrentEquipmentDays         1\n",
       "AgeHH1                     909\n",
       "AgeHH2                     909\n",
       "HandsetPrice             28982\n",
       "dtype: int64"
      ]
     },
     "execution_count": 25,
     "metadata": {},
     "output_type": "execute_result"
    }
   ],
   "source": [
    "df.isnull().sum()[df.isnull().sum() > 0]"
   ]
  },
  {
   "cell_type": "code",
   "execution_count": 26,
   "metadata": {
    "ExecuteTime": {
     "end_time": "2021-04-12T15:23:30.089300Z",
     "start_time": "2021-04-12T15:23:30.074332Z"
    }
   },
   "outputs": [
    {
     "data": {
      "text/plain": [
       "0.017807118929613886"
      ]
     },
     "execution_count": 26,
     "metadata": {},
     "output_type": "execute_result"
    }
   ],
   "source": [
    "909/len(df)"
   ]
  },
  {
   "cell_type": "markdown",
   "metadata": {},
   "source": [
    "Besides HandsetPrice, the second highest missing values' columns are AgeHH1 and AgeHH2. Because we have a fairly large dataset for training this time, dropping 909 or more rows coming from other columns might not matter that much. \n",
    "\n",
    "Whereas for HandsetPrice, we will first drop this column and hypothesize that it's not useful feature for prediction.\n",
    "\n",
    "Also, we might as well drop CustomerID at the same time since it is for sure not helpful in prediction later."
   ]
  },
  {
   "cell_type": "code",
   "execution_count": 27,
   "metadata": {
    "ExecuteTime": {
     "end_time": "2021-04-12T15:23:30.169125Z",
     "start_time": "2021-04-12T15:23:30.090290Z"
    }
   },
   "outputs": [
    {
     "name": "stdout",
     "output_type": "stream",
     "text": [
      "Before dropping, we have 51047 rows\n",
      "After dropping missing values, we have 49776 rows\n"
     ]
    }
   ],
   "source": [
    "print('Before dropping, we have {} rows'.format(len(df)))\n",
    "df2 = df.copy()\n",
    "df2 = df.drop(columns=['HandsetPrice', 'CustomerID'])\n",
    "df2 = df2.dropna()\n",
    "print('After dropping missing values, we have {} rows'.format(len(df2)))"
   ]
  },
  {
   "cell_type": "markdown",
   "metadata": {},
   "source": [
    "We only reduce 1271 rows only, which is still pretty okay in this case."
   ]
  },
  {
   "cell_type": "markdown",
   "metadata": {},
   "source": [
    "# Data Visualization"
   ]
  },
  {
   "cell_type": "code",
   "execution_count": 28,
   "metadata": {
    "ExecuteTime": {
     "end_time": "2021-04-12T15:23:30.184039Z",
     "start_time": "2021-04-12T15:23:30.170076Z"
    }
   },
   "outputs": [
    {
     "data": {
      "text/plain": [
       "(49776, 63)"
      ]
     },
     "execution_count": 28,
     "metadata": {},
     "output_type": "execute_result"
    }
   ],
   "source": [
    "df2.shape"
   ]
  },
  {
   "cell_type": "code",
   "execution_count": 29,
   "metadata": {
    "ExecuteTime": {
     "end_time": "2021-04-12T15:23:30.421405Z",
     "start_time": "2021-04-12T15:23:30.185037Z"
    }
   },
   "outputs": [
    {
     "data": {
      "text/html": [
       "<div>\n",
       "<style scoped>\n",
       "    .dataframe tbody tr th:only-of-type {\n",
       "        vertical-align: middle;\n",
       "    }\n",
       "\n",
       "    .dataframe tbody tr th {\n",
       "        vertical-align: top;\n",
       "    }\n",
       "\n",
       "    .dataframe thead th {\n",
       "        text-align: right;\n",
       "    }\n",
       "</style>\n",
       "<table border=\"1\" class=\"dataframe\">\n",
       "  <thead>\n",
       "    <tr style=\"text-align: right;\">\n",
       "      <th></th>\n",
       "      <th>Churn</th>\n",
       "      <th>MonthlyRevenue</th>\n",
       "      <th>MonthlyMinutes</th>\n",
       "      <th>TotalRecurringCharge</th>\n",
       "      <th>DirectorAssistedCalls</th>\n",
       "      <th>OverageMinutes</th>\n",
       "      <th>RoamingCalls</th>\n",
       "      <th>PercChangeMinutes</th>\n",
       "      <th>PercChangeRevenues</th>\n",
       "      <th>DroppedCalls</th>\n",
       "      <th>BlockedCalls</th>\n",
       "      <th>UnansweredCalls</th>\n",
       "      <th>CustomerCareCalls</th>\n",
       "      <th>ThreewayCalls</th>\n",
       "      <th>ReceivedCalls</th>\n",
       "      <th>OutboundCalls</th>\n",
       "      <th>InboundCalls</th>\n",
       "      <th>PeakCallsInOut</th>\n",
       "      <th>OffPeakCallsInOut</th>\n",
       "      <th>DroppedBlockedCalls</th>\n",
       "      <th>CallForwardingCalls</th>\n",
       "      <th>CallWaitingCalls</th>\n",
       "      <th>MonthsInService</th>\n",
       "      <th>UniqueSubs</th>\n",
       "      <th>ActiveSubs</th>\n",
       "      <th>ServiceArea</th>\n",
       "      <th>Handsets</th>\n",
       "      <th>HandsetModels</th>\n",
       "      <th>CurrentEquipmentDays</th>\n",
       "      <th>AgeHH1</th>\n",
       "      <th>AgeHH2</th>\n",
       "      <th>ChildrenInHH</th>\n",
       "      <th>HandsetRefurbished</th>\n",
       "      <th>HandsetWebCapable</th>\n",
       "      <th>TruckOwner</th>\n",
       "      <th>RVOwner</th>\n",
       "      <th>Homeownership</th>\n",
       "      <th>BuysViaMailOrder</th>\n",
       "      <th>RespondsToMailOffers</th>\n",
       "      <th>OptOutMailings</th>\n",
       "      <th>NonUSTravel</th>\n",
       "      <th>OwnsComputer</th>\n",
       "      <th>HasCreditCard</th>\n",
       "      <th>RetentionCalls</th>\n",
       "      <th>RetentionOffersAccepted</th>\n",
       "      <th>NewCellphoneUser</th>\n",
       "      <th>NotNewCellphoneUser</th>\n",
       "      <th>ReferralsMadeBySubscriber</th>\n",
       "      <th>IncomeGroup</th>\n",
       "      <th>OwnsMotorcycle</th>\n",
       "      <th>AdjustmentsToCreditRating</th>\n",
       "      <th>MadeCallToRetentionTeam</th>\n",
       "      <th>CreditRating</th>\n",
       "      <th>PrizmCode</th>\n",
       "      <th>MaritalStatus</th>\n",
       "      <th>Job_is_Clerical</th>\n",
       "      <th>Job_is_Crafts</th>\n",
       "      <th>Job_is_Homemaker</th>\n",
       "      <th>Job_is_Other</th>\n",
       "      <th>Job_is_Professional</th>\n",
       "      <th>Job_is_Retired</th>\n",
       "      <th>Job_is_Self</th>\n",
       "      <th>Job_is_Student</th>\n",
       "    </tr>\n",
       "  </thead>\n",
       "  <tbody>\n",
       "    <tr>\n",
       "      <th>count</th>\n",
       "      <td>49776.000</td>\n",
       "      <td>49776.000</td>\n",
       "      <td>49776.000</td>\n",
       "      <td>49776.000</td>\n",
       "      <td>49776.000</td>\n",
       "      <td>49776.00</td>\n",
       "      <td>49776.000</td>\n",
       "      <td>49776.000</td>\n",
       "      <td>49776.000</td>\n",
       "      <td>49776.000</td>\n",
       "      <td>49776.000</td>\n",
       "      <td>49776.000</td>\n",
       "      <td>49776.000</td>\n",
       "      <td>49776.000</td>\n",
       "      <td>49776.000</td>\n",
       "      <td>49776.000</td>\n",
       "      <td>49776.000</td>\n",
       "      <td>49776.000</td>\n",
       "      <td>49776.000</td>\n",
       "      <td>49776.000</td>\n",
       "      <td>49776.000</td>\n",
       "      <td>49776.000</td>\n",
       "      <td>49776.000</td>\n",
       "      <td>49776.000</td>\n",
       "      <td>49776.000</td>\n",
       "      <td>49776.000</td>\n",
       "      <td>49776.000</td>\n",
       "      <td>49776.000</td>\n",
       "      <td>49776.000</td>\n",
       "      <td>49776.000</td>\n",
       "      <td>49776.000</td>\n",
       "      <td>49776.000</td>\n",
       "      <td>49776.000</td>\n",
       "      <td>49776.000</td>\n",
       "      <td>49776.000</td>\n",
       "      <td>49776.000</td>\n",
       "      <td>49776.000</td>\n",
       "      <td>49776.000</td>\n",
       "      <td>49776.000</td>\n",
       "      <td>49776.000</td>\n",
       "      <td>49776.000</td>\n",
       "      <td>49776.000</td>\n",
       "      <td>49776.000</td>\n",
       "      <td>49776.000</td>\n",
       "      <td>49776.000</td>\n",
       "      <td>49776.000</td>\n",
       "      <td>49776.000</td>\n",
       "      <td>49776.000</td>\n",
       "      <td>49776.000</td>\n",
       "      <td>49776.000</td>\n",
       "      <td>49776.000</td>\n",
       "      <td>49776.000</td>\n",
       "      <td>49776.000</td>\n",
       "      <td>49776.000</td>\n",
       "      <td>49776.000</td>\n",
       "      <td>49776.000</td>\n",
       "      <td>49776.000</td>\n",
       "      <td>49776.000</td>\n",
       "      <td>49776.000</td>\n",
       "      <td>49776.000</td>\n",
       "      <td>49776.000</td>\n",
       "      <td>49776.000</td>\n",
       "      <td>49776.000</td>\n",
       "    </tr>\n",
       "    <tr>\n",
       "      <th>mean</th>\n",
       "      <td>0.286</td>\n",
       "      <td>58.720</td>\n",
       "      <td>525.078</td>\n",
       "      <td>46.835</td>\n",
       "      <td>0.892</td>\n",
       "      <td>39.76</td>\n",
       "      <td>1.226</td>\n",
       "      <td>-11.622</td>\n",
       "      <td>-1.168</td>\n",
       "      <td>6.011</td>\n",
       "      <td>4.080</td>\n",
       "      <td>28.292</td>\n",
       "      <td>1.876</td>\n",
       "      <td>0.298</td>\n",
       "      <td>114.725</td>\n",
       "      <td>25.357</td>\n",
       "      <td>8.165</td>\n",
       "      <td>90.451</td>\n",
       "      <td>67.728</td>\n",
       "      <td>10.152</td>\n",
       "      <td>0.012</td>\n",
       "      <td>1.837</td>\n",
       "      <td>18.730</td>\n",
       "      <td>1.529</td>\n",
       "      <td>1.351</td>\n",
       "      <td>351.623</td>\n",
       "      <td>1.805</td>\n",
       "      <td>1.559</td>\n",
       "      <td>380.001</td>\n",
       "      <td>31.342</td>\n",
       "      <td>21.151</td>\n",
       "      <td>0.247</td>\n",
       "      <td>0.139</td>\n",
       "      <td>0.903</td>\n",
       "      <td>0.191</td>\n",
       "      <td>0.083</td>\n",
       "      <td>0.678</td>\n",
       "      <td>0.368</td>\n",
       "      <td>0.384</td>\n",
       "      <td>0.015</td>\n",
       "      <td>0.057</td>\n",
       "      <td>0.189</td>\n",
       "      <td>0.688</td>\n",
       "      <td>0.035</td>\n",
       "      <td>0.018</td>\n",
       "      <td>0.193</td>\n",
       "      <td>0.138</td>\n",
       "      <td>0.051</td>\n",
       "      <td>4.403</td>\n",
       "      <td>0.014</td>\n",
       "      <td>0.054</td>\n",
       "      <td>0.033</td>\n",
       "      <td>2.864</td>\n",
       "      <td>2.855</td>\n",
       "      <td>0.372</td>\n",
       "      <td>0.020</td>\n",
       "      <td>0.030</td>\n",
       "      <td>0.003</td>\n",
       "      <td>0.733</td>\n",
       "      <td>0.175</td>\n",
       "      <td>0.015</td>\n",
       "      <td>0.018</td>\n",
       "      <td>0.008</td>\n",
       "    </tr>\n",
       "    <tr>\n",
       "      <th>std</th>\n",
       "      <td>0.452</td>\n",
       "      <td>44.315</td>\n",
       "      <td>528.509</td>\n",
       "      <td>23.759</td>\n",
       "      <td>2.225</td>\n",
       "      <td>96.08</td>\n",
       "      <td>9.846</td>\n",
       "      <td>255.844</td>\n",
       "      <td>39.393</td>\n",
       "      <td>9.036</td>\n",
       "      <td>10.838</td>\n",
       "      <td>38.857</td>\n",
       "      <td>5.121</td>\n",
       "      <td>1.171</td>\n",
       "      <td>166.103</td>\n",
       "      <td>35.031</td>\n",
       "      <td>16.585</td>\n",
       "      <td>104.585</td>\n",
       "      <td>92.744</td>\n",
       "      <td>15.457</td>\n",
       "      <td>0.582</td>\n",
       "      <td>5.590</td>\n",
       "      <td>9.738</td>\n",
       "      <td>1.226</td>\n",
       "      <td>0.668</td>\n",
       "      <td>204.241</td>\n",
       "      <td>1.331</td>\n",
       "      <td>0.906</td>\n",
       "      <td>252.270</td>\n",
       "      <td>22.089</td>\n",
       "      <td>23.926</td>\n",
       "      <td>0.431</td>\n",
       "      <td>0.346</td>\n",
       "      <td>0.297</td>\n",
       "      <td>0.393</td>\n",
       "      <td>0.276</td>\n",
       "      <td>0.467</td>\n",
       "      <td>0.482</td>\n",
       "      <td>0.486</td>\n",
       "      <td>0.122</td>\n",
       "      <td>0.233</td>\n",
       "      <td>0.391</td>\n",
       "      <td>0.463</td>\n",
       "      <td>0.202</td>\n",
       "      <td>0.143</td>\n",
       "      <td>0.395</td>\n",
       "      <td>0.345</td>\n",
       "      <td>0.266</td>\n",
       "      <td>3.110</td>\n",
       "      <td>0.116</td>\n",
       "      <td>0.383</td>\n",
       "      <td>0.178</td>\n",
       "      <td>1.568</td>\n",
       "      <td>1.176</td>\n",
       "      <td>0.483</td>\n",
       "      <td>0.139</td>\n",
       "      <td>0.171</td>\n",
       "      <td>0.056</td>\n",
       "      <td>0.443</td>\n",
       "      <td>0.380</td>\n",
       "      <td>0.120</td>\n",
       "      <td>0.131</td>\n",
       "      <td>0.087</td>\n",
       "    </tr>\n",
       "    <tr>\n",
       "      <th>min</th>\n",
       "      <td>0.000</td>\n",
       "      <td>-6.170</td>\n",
       "      <td>0.000</td>\n",
       "      <td>-6.000</td>\n",
       "      <td>0.000</td>\n",
       "      <td>0.00</td>\n",
       "      <td>0.000</td>\n",
       "      <td>-3875.000</td>\n",
       "      <td>-1107.700</td>\n",
       "      <td>0.000</td>\n",
       "      <td>0.000</td>\n",
       "      <td>0.000</td>\n",
       "      <td>0.000</td>\n",
       "      <td>0.000</td>\n",
       "      <td>0.000</td>\n",
       "      <td>0.000</td>\n",
       "      <td>0.000</td>\n",
       "      <td>0.000</td>\n",
       "      <td>0.000</td>\n",
       "      <td>0.000</td>\n",
       "      <td>0.000</td>\n",
       "      <td>0.000</td>\n",
       "      <td>6.000</td>\n",
       "      <td>1.000</td>\n",
       "      <td>0.000</td>\n",
       "      <td>0.000</td>\n",
       "      <td>1.000</td>\n",
       "      <td>1.000</td>\n",
       "      <td>-5.000</td>\n",
       "      <td>0.000</td>\n",
       "      <td>0.000</td>\n",
       "      <td>0.000</td>\n",
       "      <td>0.000</td>\n",
       "      <td>0.000</td>\n",
       "      <td>0.000</td>\n",
       "      <td>0.000</td>\n",
       "      <td>0.000</td>\n",
       "      <td>0.000</td>\n",
       "      <td>0.000</td>\n",
       "      <td>0.000</td>\n",
       "      <td>0.000</td>\n",
       "      <td>0.000</td>\n",
       "      <td>0.000</td>\n",
       "      <td>0.000</td>\n",
       "      <td>0.000</td>\n",
       "      <td>0.000</td>\n",
       "      <td>0.000</td>\n",
       "      <td>0.000</td>\n",
       "      <td>0.000</td>\n",
       "      <td>0.000</td>\n",
       "      <td>0.000</td>\n",
       "      <td>0.000</td>\n",
       "      <td>1.000</td>\n",
       "      <td>1.000</td>\n",
       "      <td>0.000</td>\n",
       "      <td>0.000</td>\n",
       "      <td>0.000</td>\n",
       "      <td>0.000</td>\n",
       "      <td>0.000</td>\n",
       "      <td>0.000</td>\n",
       "      <td>0.000</td>\n",
       "      <td>0.000</td>\n",
       "      <td>0.000</td>\n",
       "    </tr>\n",
       "    <tr>\n",
       "      <th>25%</th>\n",
       "      <td>0.000</td>\n",
       "      <td>33.610</td>\n",
       "      <td>158.000</td>\n",
       "      <td>30.000</td>\n",
       "      <td>0.000</td>\n",
       "      <td>0.00</td>\n",
       "      <td>0.000</td>\n",
       "      <td>-83.000</td>\n",
       "      <td>-7.000</td>\n",
       "      <td>0.700</td>\n",
       "      <td>0.000</td>\n",
       "      <td>5.300</td>\n",
       "      <td>0.000</td>\n",
       "      <td>0.000</td>\n",
       "      <td>8.500</td>\n",
       "      <td>3.300</td>\n",
       "      <td>0.000</td>\n",
       "      <td>23.300</td>\n",
       "      <td>11.000</td>\n",
       "      <td>2.000</td>\n",
       "      <td>0.000</td>\n",
       "      <td>0.000</td>\n",
       "      <td>11.000</td>\n",
       "      <td>1.000</td>\n",
       "      <td>1.000</td>\n",
       "      <td>163.000</td>\n",
       "      <td>1.000</td>\n",
       "      <td>1.000</td>\n",
       "      <td>205.000</td>\n",
       "      <td>0.000</td>\n",
       "      <td>0.000</td>\n",
       "      <td>0.000</td>\n",
       "      <td>0.000</td>\n",
       "      <td>1.000</td>\n",
       "      <td>0.000</td>\n",
       "      <td>0.000</td>\n",
       "      <td>0.000</td>\n",
       "      <td>0.000</td>\n",
       "      <td>0.000</td>\n",
       "      <td>0.000</td>\n",
       "      <td>0.000</td>\n",
       "      <td>0.000</td>\n",
       "      <td>0.000</td>\n",
       "      <td>0.000</td>\n",
       "      <td>0.000</td>\n",
       "      <td>0.000</td>\n",
       "      <td>0.000</td>\n",
       "      <td>0.000</td>\n",
       "      <td>1.000</td>\n",
       "      <td>0.000</td>\n",
       "      <td>0.000</td>\n",
       "      <td>0.000</td>\n",
       "      <td>2.000</td>\n",
       "      <td>2.000</td>\n",
       "      <td>0.000</td>\n",
       "      <td>0.000</td>\n",
       "      <td>0.000</td>\n",
       "      <td>0.000</td>\n",
       "      <td>0.000</td>\n",
       "      <td>0.000</td>\n",
       "      <td>0.000</td>\n",
       "      <td>0.000</td>\n",
       "      <td>0.000</td>\n",
       "    </tr>\n",
       "    <tr>\n",
       "      <th>50%</th>\n",
       "      <td>0.000</td>\n",
       "      <td>48.380</td>\n",
       "      <td>366.000</td>\n",
       "      <td>45.000</td>\n",
       "      <td>0.250</td>\n",
       "      <td>3.00</td>\n",
       "      <td>0.000</td>\n",
       "      <td>-5.000</td>\n",
       "      <td>-0.300</td>\n",
       "      <td>3.000</td>\n",
       "      <td>1.000</td>\n",
       "      <td>16.300</td>\n",
       "      <td>0.000</td>\n",
       "      <td>0.000</td>\n",
       "      <td>52.900</td>\n",
       "      <td>13.700</td>\n",
       "      <td>2.000</td>\n",
       "      <td>62.000</td>\n",
       "      <td>35.700</td>\n",
       "      <td>5.300</td>\n",
       "      <td>0.000</td>\n",
       "      <td>0.300</td>\n",
       "      <td>16.000</td>\n",
       "      <td>1.000</td>\n",
       "      <td>1.000</td>\n",
       "      <td>343.000</td>\n",
       "      <td>1.000</td>\n",
       "      <td>1.000</td>\n",
       "      <td>330.000</td>\n",
       "      <td>36.000</td>\n",
       "      <td>0.000</td>\n",
       "      <td>0.000</td>\n",
       "      <td>0.000</td>\n",
       "      <td>1.000</td>\n",
       "      <td>0.000</td>\n",
       "      <td>0.000</td>\n",
       "      <td>1.000</td>\n",
       "      <td>0.000</td>\n",
       "      <td>0.000</td>\n",
       "      <td>0.000</td>\n",
       "      <td>0.000</td>\n",
       "      <td>0.000</td>\n",
       "      <td>1.000</td>\n",
       "      <td>0.000</td>\n",
       "      <td>0.000</td>\n",
       "      <td>0.000</td>\n",
       "      <td>0.000</td>\n",
       "      <td>0.000</td>\n",
       "      <td>5.000</td>\n",
       "      <td>0.000</td>\n",
       "      <td>0.000</td>\n",
       "      <td>0.000</td>\n",
       "      <td>2.000</td>\n",
       "      <td>3.000</td>\n",
       "      <td>0.000</td>\n",
       "      <td>0.000</td>\n",
       "      <td>0.000</td>\n",
       "      <td>0.000</td>\n",
       "      <td>1.000</td>\n",
       "      <td>0.000</td>\n",
       "      <td>0.000</td>\n",
       "      <td>0.000</td>\n",
       "      <td>0.000</td>\n",
       "    </tr>\n",
       "    <tr>\n",
       "      <th>75%</th>\n",
       "      <td>1.000</td>\n",
       "      <td>70.910</td>\n",
       "      <td>722.000</td>\n",
       "      <td>60.000</td>\n",
       "      <td>0.990</td>\n",
       "      <td>40.00</td>\n",
       "      <td>0.300</td>\n",
       "      <td>65.000</td>\n",
       "      <td>1.600</td>\n",
       "      <td>7.700</td>\n",
       "      <td>3.700</td>\n",
       "      <td>36.300</td>\n",
       "      <td>1.700</td>\n",
       "      <td>0.300</td>\n",
       "      <td>153.400</td>\n",
       "      <td>34.000</td>\n",
       "      <td>9.300</td>\n",
       "      <td>121.000</td>\n",
       "      <td>88.700</td>\n",
       "      <td>12.300</td>\n",
       "      <td>0.000</td>\n",
       "      <td>1.300</td>\n",
       "      <td>24.000</td>\n",
       "      <td>2.000</td>\n",
       "      <td>2.000</td>\n",
       "      <td>484.000</td>\n",
       "      <td>2.000</td>\n",
       "      <td>2.000</td>\n",
       "      <td>515.000</td>\n",
       "      <td>48.000</td>\n",
       "      <td>42.000</td>\n",
       "      <td>0.000</td>\n",
       "      <td>0.000</td>\n",
       "      <td>1.000</td>\n",
       "      <td>0.000</td>\n",
       "      <td>0.000</td>\n",
       "      <td>1.000</td>\n",
       "      <td>1.000</td>\n",
       "      <td>1.000</td>\n",
       "      <td>0.000</td>\n",
       "      <td>0.000</td>\n",
       "      <td>0.000</td>\n",
       "      <td>1.000</td>\n",
       "      <td>0.000</td>\n",
       "      <td>0.000</td>\n",
       "      <td>0.000</td>\n",
       "      <td>0.000</td>\n",
       "      <td>0.000</td>\n",
       "      <td>7.000</td>\n",
       "      <td>0.000</td>\n",
       "      <td>0.000</td>\n",
       "      <td>0.000</td>\n",
       "      <td>4.000</td>\n",
       "      <td>4.000</td>\n",
       "      <td>1.000</td>\n",
       "      <td>0.000</td>\n",
       "      <td>0.000</td>\n",
       "      <td>0.000</td>\n",
       "      <td>1.000</td>\n",
       "      <td>0.000</td>\n",
       "      <td>0.000</td>\n",
       "      <td>0.000</td>\n",
       "      <td>0.000</td>\n",
       "    </tr>\n",
       "    <tr>\n",
       "      <th>max</th>\n",
       "      <td>1.000</td>\n",
       "      <td>1223.380</td>\n",
       "      <td>7359.000</td>\n",
       "      <td>400.000</td>\n",
       "      <td>159.390</td>\n",
       "      <td>4321.00</td>\n",
       "      <td>1112.400</td>\n",
       "      <td>5192.000</td>\n",
       "      <td>2483.500</td>\n",
       "      <td>221.700</td>\n",
       "      <td>324.700</td>\n",
       "      <td>848.700</td>\n",
       "      <td>327.300</td>\n",
       "      <td>66.000</td>\n",
       "      <td>2692.400</td>\n",
       "      <td>644.300</td>\n",
       "      <td>519.300</td>\n",
       "      <td>2090.700</td>\n",
       "      <td>1474.700</td>\n",
       "      <td>339.000</td>\n",
       "      <td>81.300</td>\n",
       "      <td>212.700</td>\n",
       "      <td>61.000</td>\n",
       "      <td>196.000</td>\n",
       "      <td>53.000</td>\n",
       "      <td>747.000</td>\n",
       "      <td>24.000</td>\n",
       "      <td>15.000</td>\n",
       "      <td>1812.000</td>\n",
       "      <td>99.000</td>\n",
       "      <td>99.000</td>\n",
       "      <td>1.000</td>\n",
       "      <td>1.000</td>\n",
       "      <td>1.000</td>\n",
       "      <td>1.000</td>\n",
       "      <td>1.000</td>\n",
       "      <td>1.000</td>\n",
       "      <td>1.000</td>\n",
       "      <td>1.000</td>\n",
       "      <td>1.000</td>\n",
       "      <td>1.000</td>\n",
       "      <td>1.000</td>\n",
       "      <td>1.000</td>\n",
       "      <td>4.000</td>\n",
       "      <td>3.000</td>\n",
       "      <td>1.000</td>\n",
       "      <td>1.000</td>\n",
       "      <td>16.000</td>\n",
       "      <td>9.000</td>\n",
       "      <td>1.000</td>\n",
       "      <td>25.000</td>\n",
       "      <td>1.000</td>\n",
       "      <td>7.000</td>\n",
       "      <td>4.000</td>\n",
       "      <td>1.000</td>\n",
       "      <td>1.000</td>\n",
       "      <td>1.000</td>\n",
       "      <td>1.000</td>\n",
       "      <td>1.000</td>\n",
       "      <td>1.000</td>\n",
       "      <td>1.000</td>\n",
       "      <td>1.000</td>\n",
       "      <td>1.000</td>\n",
       "    </tr>\n",
       "  </tbody>\n",
       "</table>\n",
       "</div>"
      ],
      "text/plain": [
       "           Churn  MonthlyRevenue  MonthlyMinutes  TotalRecurringCharge  \\\n",
       "count  49776.000       49776.000       49776.000             49776.000   \n",
       "mean       0.286          58.720         525.078                46.835   \n",
       "std        0.452          44.315         528.509                23.759   \n",
       "min        0.000          -6.170           0.000                -6.000   \n",
       "25%        0.000          33.610         158.000                30.000   \n",
       "50%        0.000          48.380         366.000                45.000   \n",
       "75%        1.000          70.910         722.000                60.000   \n",
       "max        1.000        1223.380        7359.000               400.000   \n",
       "\n",
       "       DirectorAssistedCalls  OverageMinutes  RoamingCalls  PercChangeMinutes  \\\n",
       "count              49776.000        49776.00     49776.000          49776.000   \n",
       "mean                   0.892           39.76         1.226            -11.622   \n",
       "std                    2.225           96.08         9.846            255.844   \n",
       "min                    0.000            0.00         0.000          -3875.000   \n",
       "25%                    0.000            0.00         0.000            -83.000   \n",
       "50%                    0.250            3.00         0.000             -5.000   \n",
       "75%                    0.990           40.00         0.300             65.000   \n",
       "max                  159.390         4321.00      1112.400           5192.000   \n",
       "\n",
       "       PercChangeRevenues  DroppedCalls  BlockedCalls  UnansweredCalls  \\\n",
       "count           49776.000     49776.000     49776.000        49776.000   \n",
       "mean               -1.168         6.011         4.080           28.292   \n",
       "std                39.393         9.036        10.838           38.857   \n",
       "min             -1107.700         0.000         0.000            0.000   \n",
       "25%                -7.000         0.700         0.000            5.300   \n",
       "50%                -0.300         3.000         1.000           16.300   \n",
       "75%                 1.600         7.700         3.700           36.300   \n",
       "max              2483.500       221.700       324.700          848.700   \n",
       "\n",
       "       CustomerCareCalls  ThreewayCalls  ReceivedCalls  OutboundCalls  \\\n",
       "count          49776.000      49776.000      49776.000      49776.000   \n",
       "mean               1.876          0.298        114.725         25.357   \n",
       "std                5.121          1.171        166.103         35.031   \n",
       "min                0.000          0.000          0.000          0.000   \n",
       "25%                0.000          0.000          8.500          3.300   \n",
       "50%                0.000          0.000         52.900         13.700   \n",
       "75%                1.700          0.300        153.400         34.000   \n",
       "max              327.300         66.000       2692.400        644.300   \n",
       "\n",
       "       InboundCalls  PeakCallsInOut  OffPeakCallsInOut  DroppedBlockedCalls  \\\n",
       "count     49776.000       49776.000          49776.000            49776.000   \n",
       "mean          8.165          90.451             67.728               10.152   \n",
       "std          16.585         104.585             92.744               15.457   \n",
       "min           0.000           0.000              0.000                0.000   \n",
       "25%           0.000          23.300             11.000                2.000   \n",
       "50%           2.000          62.000             35.700                5.300   \n",
       "75%           9.300         121.000             88.700               12.300   \n",
       "max         519.300        2090.700           1474.700              339.000   \n",
       "\n",
       "       CallForwardingCalls  CallWaitingCalls  MonthsInService  UniqueSubs  \\\n",
       "count            49776.000         49776.000        49776.000   49776.000   \n",
       "mean                 0.012             1.837           18.730       1.529   \n",
       "std                  0.582             5.590            9.738       1.226   \n",
       "min                  0.000             0.000            6.000       1.000   \n",
       "25%                  0.000             0.000           11.000       1.000   \n",
       "50%                  0.000             0.300           16.000       1.000   \n",
       "75%                  0.000             1.300           24.000       2.000   \n",
       "max                 81.300           212.700           61.000     196.000   \n",
       "\n",
       "       ActiveSubs  ServiceArea   Handsets  HandsetModels  \\\n",
       "count   49776.000    49776.000  49776.000      49776.000   \n",
       "mean        1.351      351.623      1.805          1.559   \n",
       "std         0.668      204.241      1.331          0.906   \n",
       "min         0.000        0.000      1.000          1.000   \n",
       "25%         1.000      163.000      1.000          1.000   \n",
       "50%         1.000      343.000      1.000          1.000   \n",
       "75%         2.000      484.000      2.000          2.000   \n",
       "max        53.000      747.000     24.000         15.000   \n",
       "\n",
       "       CurrentEquipmentDays     AgeHH1     AgeHH2  ChildrenInHH  \\\n",
       "count             49776.000  49776.000  49776.000     49776.000   \n",
       "mean                380.001     31.342     21.151         0.247   \n",
       "std                 252.270     22.089     23.926         0.431   \n",
       "min                  -5.000      0.000      0.000         0.000   \n",
       "25%                 205.000      0.000      0.000         0.000   \n",
       "50%                 330.000     36.000      0.000         0.000   \n",
       "75%                 515.000     48.000     42.000         0.000   \n",
       "max                1812.000     99.000     99.000         1.000   \n",
       "\n",
       "       HandsetRefurbished  HandsetWebCapable  TruckOwner    RVOwner  \\\n",
       "count           49776.000          49776.000   49776.000  49776.000   \n",
       "mean                0.139              0.903       0.191      0.083   \n",
       "std                 0.346              0.297       0.393      0.276   \n",
       "min                 0.000              0.000       0.000      0.000   \n",
       "25%                 0.000              1.000       0.000      0.000   \n",
       "50%                 0.000              1.000       0.000      0.000   \n",
       "75%                 0.000              1.000       0.000      0.000   \n",
       "max                 1.000              1.000       1.000      1.000   \n",
       "\n",
       "       Homeownership  BuysViaMailOrder  RespondsToMailOffers  OptOutMailings  \\\n",
       "count      49776.000         49776.000             49776.000       49776.000   \n",
       "mean           0.678             0.368                 0.384           0.015   \n",
       "std            0.467             0.482                 0.486           0.122   \n",
       "min            0.000             0.000                 0.000           0.000   \n",
       "25%            0.000             0.000                 0.000           0.000   \n",
       "50%            1.000             0.000                 0.000           0.000   \n",
       "75%            1.000             1.000                 1.000           0.000   \n",
       "max            1.000             1.000                 1.000           1.000   \n",
       "\n",
       "       NonUSTravel  OwnsComputer  HasCreditCard  RetentionCalls  \\\n",
       "count    49776.000     49776.000      49776.000       49776.000   \n",
       "mean         0.057         0.189          0.688           0.035   \n",
       "std          0.233         0.391          0.463           0.202   \n",
       "min          0.000         0.000          0.000           0.000   \n",
       "25%          0.000         0.000          0.000           0.000   \n",
       "50%          0.000         0.000          1.000           0.000   \n",
       "75%          0.000         0.000          1.000           0.000   \n",
       "max          1.000         1.000          1.000           4.000   \n",
       "\n",
       "       RetentionOffersAccepted  NewCellphoneUser  NotNewCellphoneUser  \\\n",
       "count                49776.000         49776.000            49776.000   \n",
       "mean                     0.018             0.193                0.138   \n",
       "std                      0.143             0.395                0.345   \n",
       "min                      0.000             0.000                0.000   \n",
       "25%                      0.000             0.000                0.000   \n",
       "50%                      0.000             0.000                0.000   \n",
       "75%                      0.000             0.000                0.000   \n",
       "max                      3.000             1.000                1.000   \n",
       "\n",
       "       ReferralsMadeBySubscriber  IncomeGroup  OwnsMotorcycle  \\\n",
       "count                  49776.000    49776.000       49776.000   \n",
       "mean                       0.051        4.403           0.014   \n",
       "std                        0.266        3.110           0.116   \n",
       "min                        0.000        0.000           0.000   \n",
       "25%                        0.000        1.000           0.000   \n",
       "50%                        0.000        5.000           0.000   \n",
       "75%                        0.000        7.000           0.000   \n",
       "max                       16.000        9.000           1.000   \n",
       "\n",
       "       AdjustmentsToCreditRating  MadeCallToRetentionTeam  CreditRating  \\\n",
       "count                  49776.000                49776.000     49776.000   \n",
       "mean                       0.054                    0.033         2.864   \n",
       "std                        0.383                    0.178         1.568   \n",
       "min                        0.000                    0.000         1.000   \n",
       "25%                        0.000                    0.000         2.000   \n",
       "50%                        0.000                    0.000         2.000   \n",
       "75%                        0.000                    0.000         4.000   \n",
       "max                       25.000                    1.000         7.000   \n",
       "\n",
       "       PrizmCode  MaritalStatus  Job_is_Clerical  Job_is_Crafts  \\\n",
       "count  49776.000      49776.000        49776.000      49776.000   \n",
       "mean       2.855          0.372            0.020          0.030   \n",
       "std        1.176          0.483            0.139          0.171   \n",
       "min        1.000          0.000            0.000          0.000   \n",
       "25%        2.000          0.000            0.000          0.000   \n",
       "50%        3.000          0.000            0.000          0.000   \n",
       "75%        4.000          1.000            0.000          0.000   \n",
       "max        4.000          1.000            1.000          1.000   \n",
       "\n",
       "       Job_is_Homemaker  Job_is_Other  Job_is_Professional  Job_is_Retired  \\\n",
       "count         49776.000     49776.000            49776.000       49776.000   \n",
       "mean              0.003         0.733                0.175           0.015   \n",
       "std               0.056         0.443                0.380           0.120   \n",
       "min               0.000         0.000                0.000           0.000   \n",
       "25%               0.000         0.000                0.000           0.000   \n",
       "50%               0.000         1.000                0.000           0.000   \n",
       "75%               0.000         1.000                0.000           0.000   \n",
       "max               1.000         1.000                1.000           1.000   \n",
       "\n",
       "       Job_is_Self  Job_is_Student  \n",
       "count    49776.000       49776.000  \n",
       "mean         0.018           0.008  \n",
       "std          0.131           0.087  \n",
       "min          0.000           0.000  \n",
       "25%          0.000           0.000  \n",
       "50%          0.000           0.000  \n",
       "75%          0.000           0.000  \n",
       "max          1.000           1.000  "
      ]
     },
     "execution_count": 29,
     "metadata": {},
     "output_type": "execute_result"
    }
   ],
   "source": [
    "df2.describe()"
   ]
  },
  {
   "cell_type": "code",
   "execution_count": 30,
   "metadata": {
    "ExecuteTime": {
     "end_time": "2021-04-12T15:23:30.437361Z",
     "start_time": "2021-04-12T15:23:30.424400Z"
    }
   },
   "outputs": [
    {
     "data": {
      "text/plain": [
       "0    35519\n",
       "1    14257\n",
       "Name: Churn, dtype: int64"
      ]
     },
     "execution_count": 30,
     "metadata": {},
     "output_type": "execute_result"
    }
   ],
   "source": [
    "df2.Churn.value_counts()"
   ]
  },
  {
   "cell_type": "markdown",
   "metadata": {},
   "source": [
    "We can see that non-churn data is a lot more than churn data. We will use undersampler later to deal with the imbalanced dataset"
   ]
  },
  {
   "cell_type": "markdown",
   "metadata": {},
   "source": [
    "## Correlation Analysis\n",
    "Since we have many columns, we will split the features to pair it with churn for correlation analysis"
   ]
  },
  {
   "cell_type": "code",
   "execution_count": 31,
   "metadata": {
    "ExecuteTime": {
     "end_time": "2021-04-12T15:23:30.857309Z",
     "start_time": "2021-04-12T15:23:30.439381Z"
    },
    "scrolled": false
   },
   "outputs": [
    {
     "data": {
      "text/plain": [
       "<AxesSubplot:>"
      ]
     },
     "execution_count": 31,
     "metadata": {},
     "output_type": "execute_result"
    },
    {
     "data": {
      "image/png": "[encoded data removed]",
      "text/plain": [
       "<Figure size 432x288 with 2 Axes>"
      ]
     },
     "metadata": {
      "needs_background": "light"
     },
     "output_type": "display_data"
    }
   ],
   "source": [
    "colors = sns.color_palette(\"bright\", as_cmap=True)\n",
    "sns.heatmap(df2.iloc[:, 0:15].corr(), cmap=colors)"
   ]
  },
  {
   "cell_type": "markdown",
   "metadata": {},
   "source": [
    "Most are having no correlation with churn, but OverageMinutes, RoamingCalls, PercChangeRevenues show some relation with churn"
   ]
  },
  {
   "cell_type": "code",
   "execution_count": 32,
   "metadata": {
    "ExecuteTime": {
     "end_time": "2021-04-12T15:23:31.217970Z",
     "start_time": "2021-04-12T15:23:30.858299Z"
    }
   },
   "outputs": [
    {
     "data": {
      "text/plain": [
       "<AxesSubplot:>"
      ]
     },
     "execution_count": 32,
     "metadata": {},
     "output_type": "execute_result"
    },
    {
     "data": {
      "image/png": "[encoded data removed]",
      "text/plain": [
       "<Figure size 432x288 with 2 Axes>"
      ]
     },
     "metadata": {
      "needs_background": "light"
     },
     "output_type": "display_data"
    }
   ],
   "source": [
    "sns.heatmap(pd.concat([df2.iloc[:, 0], df2.iloc[:, 15:30]], axis=1)\n",
    "            .corr(), cmap=colors)"
   ]
  },
  {
   "cell_type": "markdown",
   "metadata": {},
   "source": [
    "CurrentEquipmentDays shows some correlation with churn"
   ]
  },
  {
   "cell_type": "code",
   "execution_count": 33,
   "metadata": {
    "ExecuteTime": {
     "end_time": "2021-04-12T15:23:31.566015Z",
     "start_time": "2021-04-12T15:23:31.219965Z"
    }
   },
   "outputs": [
    {
     "data": {
      "text/plain": [
       "<AxesSubplot:>"
      ]
     },
     "execution_count": 33,
     "metadata": {},
     "output_type": "execute_result"
    },
    {
     "data": {
      "image/png": "[encoded data removed]",
      "text/plain": [
       "<Figure size 432x288 with 2 Axes>"
      ]
     },
     "metadata": {
      "needs_background": "light"
     },
     "output_type": "display_data"
    }
   ],
   "source": [
    "sns.heatmap(pd.concat([df2.iloc[:, 0], df2.iloc[:, 30:45]], axis=1)\n",
    "            .corr(), cmap=colors)"
   ]
  },
  {
   "cell_type": "markdown",
   "metadata": {
    "ExecuteTime": {
     "end_time": "2021-04-11T06:00:42.928660Z",
     "start_time": "2021-04-11T06:00:42.912703Z"
    }
   },
   "source": [
    "RetentionCalls shows some correlation with churn"
   ]
  },
  {
   "cell_type": "code",
   "execution_count": 34,
   "metadata": {
    "ExecuteTime": {
     "end_time": "2021-04-12T15:23:31.993985Z",
     "start_time": "2021-04-12T15:23:31.568008Z"
    }
   },
   "outputs": [
    {
     "data": {
      "text/plain": [
       "<AxesSubplot:>"
      ]
     },
     "execution_count": 34,
     "metadata": {},
     "output_type": "execute_result"
    },
    {
     "data": {
      "image/png": "[encoded data removed]",
      "text/plain": [
       "<Figure size 432x288 with 2 Axes>"
      ]
     },
     "metadata": {
      "needs_background": "light"
     },
     "output_type": "display_data"
    }
   ],
   "source": [
    "sns.heatmap(pd.concat([df2.iloc[:, 0], df2.iloc[:, 45:63]], axis=1)\n",
    "            .corr(), cmap=colors)"
   ]
  },
  {
   "cell_type": "markdown",
   "metadata": {},
   "source": [
    "No strong relationship identified"
   ]
  },
  {
   "cell_type": "markdown",
   "metadata": {},
   "source": [
    "Overall: OverageMinutes, RoamingCalls, PercChangeRevenues, RetentionCalls, CurrentEquipmentDays show some correlation with churn"
   ]
  },
  {
   "cell_type": "markdown",
   "metadata": {},
   "source": [
    "## Pair Plot\n",
    "Since we have a lot of rows and columns, we will just visualize a few columns with churn for analysis here"
   ]
  },
  {
   "cell_type": "code",
   "execution_count": 35,
   "metadata": {
    "ExecuteTime": {
     "end_time": "2021-04-12T15:25:59.178823Z",
     "start_time": "2021-04-12T15:23:31.995913Z"
    }
   },
   "outputs": [
    {
     "data": {
      "text/plain": [
       "<seaborn.axisgrid.PairGrid at 0x1e1f174de10>"
      ]
     },
     "execution_count": 35,
     "metadata": {},
     "output_type": "execute_result"
    },
    {
     "data": {
      "image/png": "[encoded data removed]",
      "text/plain": [
       "<Figure size 1080x1080 with 42 Axes>"
      ]
     },
     "metadata": {
      "needs_background": "light"
     },
     "output_type": "display_data"
    }
   ],
   "source": [
    "sns.pairplot(df2[['Churn', 'OverageMinutes', 'RoamingCalls', \n",
    "     'PercChangeRevenues', 'RetentionCalls', 'CurrentEquipmentDays']])"
   ]
  },
  {
   "cell_type": "code",
   "execution_count": 36,
   "metadata": {
    "ExecuteTime": {
     "end_time": "2021-04-12T15:26:01.534464Z",
     "start_time": "2021-04-12T15:25:59.180817Z"
    }
   },
   "outputs": [
    {
     "data": {
      "text/plain": [
       "<AxesSubplot:>"
      ]
     },
     "execution_count": 36,
     "metadata": {},
     "output_type": "execute_result"
    },
    {
     "data": {
      "image/png": "[encoded data removed]",
      "text/plain": [
       "<Figure size 960x320 with 1 Axes>"
      ]
     },
     "metadata": {
      "needs_background": "light"
     },
     "output_type": "display_data"
    }
   ],
   "source": [
    "plt.figure(figsize=(12,4), dpi=80)\n",
    "df2[['Churn', 'OverageMinutes', 'RoamingCalls', \n",
    "     'PercChangeRevenues', 'RetentionCalls', 'CurrentEquipmentDays']].boxplot()"
   ]
  },
  {
   "cell_type": "markdown",
   "metadata": {},
   "source": [
    "The ranges of the values of features are pretty large. We will need to transform the data using MinMaxScaler later"
   ]
  },
  {
   "cell_type": "code",
   "execution_count": 37,
   "metadata": {
    "ExecuteTime": {
     "end_time": "2021-04-12T15:26:06.652303Z",
     "start_time": "2021-04-12T15:26:01.537446Z"
    },
    "scrolled": true
   },
   "outputs": [
    {
     "data": {
      "text/plain": [
       "array([[<AxesSubplot:title={'center':'Churn'}>,\n",
       "        <AxesSubplot:title={'center':'MonthlyRevenue'}>,\n",
       "        <AxesSubplot:title={'center':'MonthlyMinutes'}>,\n",
       "        <AxesSubplot:title={'center':'TotalRecurringCharge'}>,\n",
       "        <AxesSubplot:title={'center':'DirectorAssistedCalls'}>,\n",
       "        <AxesSubplot:title={'center':'OverageMinutes'}>,\n",
       "        <AxesSubplot:title={'center':'RoamingCalls'}>,\n",
       "        <AxesSubplot:title={'center':'PercChangeMinutes'}>],\n",
       "       [<AxesSubplot:title={'center':'PercChangeRevenues'}>,\n",
       "        <AxesSubplot:title={'center':'DroppedCalls'}>,\n",
       "        <AxesSubplot:title={'center':'BlockedCalls'}>,\n",
       "        <AxesSubplot:title={'center':'UnansweredCalls'}>,\n",
       "        <AxesSubplot:title={'center':'CustomerCareCalls'}>,\n",
       "        <AxesSubplot:title={'center':'ThreewayCalls'}>,\n",
       "        <AxesSubplot:title={'center':'ReceivedCalls'}>,\n",
       "        <AxesSubplot:title={'center':'OutboundCalls'}>],\n",
       "       [<AxesSubplot:title={'center':'InboundCalls'}>,\n",
       "        <AxesSubplot:title={'center':'PeakCallsInOut'}>,\n",
       "        <AxesSubplot:title={'center':'OffPeakCallsInOut'}>,\n",
       "        <AxesSubplot:title={'center':'DroppedBlockedCalls'}>,\n",
       "        <AxesSubplot:title={'center':'CallForwardingCalls'}>,\n",
       "        <AxesSubplot:title={'center':'CallWaitingCalls'}>,\n",
       "        <AxesSubplot:title={'center':'MonthsInService'}>,\n",
       "        <AxesSubplot:title={'center':'UniqueSubs'}>],\n",
       "       [<AxesSubplot:title={'center':'ActiveSubs'}>,\n",
       "        <AxesSubplot:title={'center':'ServiceArea'}>,\n",
       "        <AxesSubplot:title={'center':'Handsets'}>,\n",
       "        <AxesSubplot:title={'center':'HandsetModels'}>,\n",
       "        <AxesSubplot:title={'center':'CurrentEquipmentDays'}>,\n",
       "        <AxesSubplot:title={'center':'AgeHH1'}>,\n",
       "        <AxesSubplot:title={'center':'AgeHH2'}>,\n",
       "        <AxesSubplot:title={'center':'ChildrenInHH'}>],\n",
       "       [<AxesSubplot:title={'center':'HandsetRefurbished'}>,\n",
       "        <AxesSubplot:title={'center':'HandsetWebCapable'}>,\n",
       "        <AxesSubplot:title={'center':'TruckOwner'}>,\n",
       "        <AxesSubplot:title={'center':'RVOwner'}>,\n",
       "        <AxesSubplot:title={'center':'Homeownership'}>,\n",
       "        <AxesSubplot:title={'center':'BuysViaMailOrder'}>,\n",
       "        <AxesSubplot:title={'center':'RespondsToMailOffers'}>,\n",
       "        <AxesSubplot:title={'center':'OptOutMailings'}>],\n",
       "       [<AxesSubplot:title={'center':'NonUSTravel'}>,\n",
       "        <AxesSubplot:title={'center':'OwnsComputer'}>,\n",
       "        <AxesSubplot:title={'center':'HasCreditCard'}>,\n",
       "        <AxesSubplot:title={'center':'RetentionCalls'}>,\n",
       "        <AxesSubplot:title={'center':'RetentionOffersAccepted'}>,\n",
       "        <AxesSubplot:title={'center':'NewCellphoneUser'}>,\n",
       "        <AxesSubplot:title={'center':'NotNewCellphoneUser'}>,\n",
       "        <AxesSubplot:title={'center':'ReferralsMadeBySubscriber'}>],\n",
       "       [<AxesSubplot:title={'center':'IncomeGroup'}>,\n",
       "        <AxesSubplot:title={'center':'OwnsMotorcycle'}>,\n",
       "        <AxesSubplot:title={'center':'AdjustmentsToCreditRating'}>,\n",
       "        <AxesSubplot:title={'center':'MadeCallToRetentionTeam'}>,\n",
       "        <AxesSubplot:title={'center':'CreditRating'}>,\n",
       "        <AxesSubplot:title={'center':'PrizmCode'}>,\n",
       "        <AxesSubplot:title={'center':'MaritalStatus'}>,\n",
       "        <AxesSubplot:title={'center':'Job_is_Clerical'}>],\n",
       "       [<AxesSubplot:title={'center':'Job_is_Crafts'}>,\n",
       "        <AxesSubplot:title={'center':'Job_is_Homemaker'}>,\n",
       "        <AxesSubplot:title={'center':'Job_is_Other'}>,\n",
       "        <AxesSubplot:title={'center':'Job_is_Professional'}>,\n",
       "        <AxesSubplot:title={'center':'Job_is_Retired'}>,\n",
       "        <AxesSubplot:title={'center':'Job_is_Self'}>,\n",
       "        <AxesSubplot:title={'center':'Job_is_Student'}>, <AxesSubplot:>]],\n",
       "      dtype=object)"
      ]
     },
     "execution_count": 37,
     "metadata": {},
     "output_type": "execute_result"
    },
    {
     "data": {
      "text/plain": [
       "<Figure size 960x640 with 0 Axes>"
      ]
     },
     "metadata": {},
     "output_type": "display_data"
    },
    {
     "data": {
      "image/png": "[encoded data removed]",
      "text/plain": [
       "<Figure size 432x288 with 64 Axes>"
      ]
     },
     "metadata": {
      "needs_background": "light"
     },
     "output_type": "display_data"
    }
   ],
   "source": [
    "plt.figure(figsize=(12,8), dpi=80)\n",
    "df2.hist()"
   ]
  },
  {
   "cell_type": "markdown",
   "metadata": {},
   "source": [
    "# Feature Engineering"
   ]
  },
  {
   "cell_type": "markdown",
   "metadata": {},
   "source": [
    "## Data Transformation"
   ]
  },
  {
   "cell_type": "code",
   "execution_count": 38,
   "metadata": {
    "ExecuteTime": {
     "end_time": "2021-04-12T15:26:06.792931Z",
     "start_time": "2021-04-12T15:26:06.654301Z"
    }
   },
   "outputs": [
    {
     "name": "stdout",
     "output_type": "stream",
     "text": [
      "The transformed data:  [[-0.951 -0.94  -0.862 ... -1.    -1.    -1.   ]\n",
      " [-0.962 -0.997 -0.887 ... -1.    -1.    -1.   ]\n",
      " [-0.928 -0.998 -0.783 ... -1.    -1.    -1.   ]\n",
      " ...\n",
      " [-0.873 -0.803 -0.626 ... -1.    -1.    -1.   ]\n",
      " [-0.799 -0.896 -0.823 ... -1.    -1.    -1.   ]\n",
      " [-0.835 -0.526 -0.552 ... -1.    -1.    -1.   ]]\n"
     ]
    },
    {
     "data": {
      "text/html": [
       "<div>\n",
       "<style scoped>\n",
       "    .dataframe tbody tr th:only-of-type {\n",
       "        vertical-align: middle;\n",
       "    }\n",
       "\n",
       "    .dataframe tbody tr th {\n",
       "        vertical-align: top;\n",
       "    }\n",
       "\n",
       "    .dataframe thead th {\n",
       "        text-align: right;\n",
       "    }\n",
       "</style>\n",
       "<table border=\"1\" class=\"dataframe\">\n",
       "  <thead>\n",
       "    <tr style=\"text-align: right;\">\n",
       "      <th></th>\n",
       "      <th>MonthlyRevenue</th>\n",
       "      <th>MonthlyMinutes</th>\n",
       "      <th>TotalRecurringCharge</th>\n",
       "      <th>DirectorAssistedCalls</th>\n",
       "      <th>OverageMinutes</th>\n",
       "      <th>RoamingCalls</th>\n",
       "      <th>PercChangeMinutes</th>\n",
       "      <th>PercChangeRevenues</th>\n",
       "      <th>DroppedCalls</th>\n",
       "      <th>BlockedCalls</th>\n",
       "      <th>UnansweredCalls</th>\n",
       "      <th>CustomerCareCalls</th>\n",
       "      <th>ThreewayCalls</th>\n",
       "      <th>ReceivedCalls</th>\n",
       "      <th>OutboundCalls</th>\n",
       "      <th>InboundCalls</th>\n",
       "      <th>PeakCallsInOut</th>\n",
       "      <th>OffPeakCallsInOut</th>\n",
       "      <th>DroppedBlockedCalls</th>\n",
       "      <th>CallForwardingCalls</th>\n",
       "      <th>CallWaitingCalls</th>\n",
       "      <th>MonthsInService</th>\n",
       "      <th>UniqueSubs</th>\n",
       "      <th>ActiveSubs</th>\n",
       "      <th>ServiceArea</th>\n",
       "      <th>Handsets</th>\n",
       "      <th>HandsetModels</th>\n",
       "      <th>CurrentEquipmentDays</th>\n",
       "      <th>AgeHH1</th>\n",
       "      <th>AgeHH2</th>\n",
       "      <th>ChildrenInHH</th>\n",
       "      <th>HandsetRefurbished</th>\n",
       "      <th>HandsetWebCapable</th>\n",
       "      <th>TruckOwner</th>\n",
       "      <th>RVOwner</th>\n",
       "      <th>Homeownership</th>\n",
       "      <th>BuysViaMailOrder</th>\n",
       "      <th>RespondsToMailOffers</th>\n",
       "      <th>OptOutMailings</th>\n",
       "      <th>NonUSTravel</th>\n",
       "      <th>OwnsComputer</th>\n",
       "      <th>HasCreditCard</th>\n",
       "      <th>RetentionCalls</th>\n",
       "      <th>RetentionOffersAccepted</th>\n",
       "      <th>NewCellphoneUser</th>\n",
       "      <th>NotNewCellphoneUser</th>\n",
       "      <th>ReferralsMadeBySubscriber</th>\n",
       "      <th>IncomeGroup</th>\n",
       "      <th>OwnsMotorcycle</th>\n",
       "      <th>AdjustmentsToCreditRating</th>\n",
       "      <th>MadeCallToRetentionTeam</th>\n",
       "      <th>CreditRating</th>\n",
       "      <th>PrizmCode</th>\n",
       "      <th>MaritalStatus</th>\n",
       "      <th>Job_is_Clerical</th>\n",
       "      <th>Job_is_Crafts</th>\n",
       "      <th>Job_is_Homemaker</th>\n",
       "      <th>Job_is_Other</th>\n",
       "      <th>Job_is_Professional</th>\n",
       "      <th>Job_is_Retired</th>\n",
       "      <th>Job_is_Self</th>\n",
       "      <th>Job_is_Student</th>\n",
       "    </tr>\n",
       "  </thead>\n",
       "  <tbody>\n",
       "    <tr>\n",
       "      <th>0</th>\n",
       "      <td>-0.951</td>\n",
       "      <td>-0.940</td>\n",
       "      <td>-0.862</td>\n",
       "      <td>-0.997</td>\n",
       "      <td>-1.0</td>\n",
       "      <td>-1.0</td>\n",
       "      <td>-0.180</td>\n",
       "      <td>-0.394</td>\n",
       "      <td>-0.994</td>\n",
       "      <td>-0.996</td>\n",
       "      <td>-0.985</td>\n",
       "      <td>-1.000</td>\n",
       "      <td>-1.000</td>\n",
       "      <td>-0.928</td>\n",
       "      <td>-1.000</td>\n",
       "      <td>-1.000</td>\n",
       "      <td>-0.945</td>\n",
       "      <td>-0.967</td>\n",
       "      <td>-0.992</td>\n",
       "      <td>-1.0</td>\n",
       "      <td>-0.997</td>\n",
       "      <td>1.000</td>\n",
       "      <td>-0.99</td>\n",
       "      <td>-0.962</td>\n",
       "      <td>0.762</td>\n",
       "      <td>-0.913</td>\n",
       "      <td>-0.857</td>\n",
       "      <td>-0.597</td>\n",
       "      <td>0.253</td>\n",
       "      <td>-1.000</td>\n",
       "      <td>-1.0</td>\n",
       "      <td>-1.0</td>\n",
       "      <td>1.0</td>\n",
       "      <td>-1.0</td>\n",
       "      <td>-1.0</td>\n",
       "      <td>1.0</td>\n",
       "      <td>1.0</td>\n",
       "      <td>1.0</td>\n",
       "      <td>-1.0</td>\n",
       "      <td>-1.0</td>\n",
       "      <td>1.0</td>\n",
       "      <td>1.0</td>\n",
       "      <td>-0.5</td>\n",
       "      <td>-1.0</td>\n",
       "      <td>-1.0</td>\n",
       "      <td>-1.0</td>\n",
       "      <td>-1.0</td>\n",
       "      <td>-0.111</td>\n",
       "      <td>-1.0</td>\n",
       "      <td>-1.00</td>\n",
       "      <td>1.0</td>\n",
       "      <td>-1.000</td>\n",
       "      <td>-0.333</td>\n",
       "      <td>-1.0</td>\n",
       "      <td>-1.0</td>\n",
       "      <td>-1.0</td>\n",
       "      <td>-1.0</td>\n",
       "      <td>-1.0</td>\n",
       "      <td>1.0</td>\n",
       "      <td>-1.0</td>\n",
       "      <td>-1.0</td>\n",
       "      <td>-1.0</td>\n",
       "    </tr>\n",
       "    <tr>\n",
       "      <th>1</th>\n",
       "      <td>-0.962</td>\n",
       "      <td>-0.997</td>\n",
       "      <td>-0.887</td>\n",
       "      <td>-1.000</td>\n",
       "      <td>-1.0</td>\n",
       "      <td>-1.0</td>\n",
       "      <td>-0.146</td>\n",
       "      <td>-0.383</td>\n",
       "      <td>-0.997</td>\n",
       "      <td>-1.000</td>\n",
       "      <td>-0.994</td>\n",
       "      <td>-1.000</td>\n",
       "      <td>-1.000</td>\n",
       "      <td>-1.000</td>\n",
       "      <td>-1.000</td>\n",
       "      <td>-1.000</td>\n",
       "      <td>-0.995</td>\n",
       "      <td>-0.999</td>\n",
       "      <td>-0.998</td>\n",
       "      <td>-1.0</td>\n",
       "      <td>-1.000</td>\n",
       "      <td>0.891</td>\n",
       "      <td>-1.00</td>\n",
       "      <td>-0.962</td>\n",
       "      <td>0.633</td>\n",
       "      <td>-0.913</td>\n",
       "      <td>-1.000</td>\n",
       "      <td>0.661</td>\n",
       "      <td>-0.192</td>\n",
       "      <td>-0.152</td>\n",
       "      <td>1.0</td>\n",
       "      <td>-1.0</td>\n",
       "      <td>-1.0</td>\n",
       "      <td>-1.0</td>\n",
       "      <td>-1.0</td>\n",
       "      <td>1.0</td>\n",
       "      <td>1.0</td>\n",
       "      <td>1.0</td>\n",
       "      <td>-1.0</td>\n",
       "      <td>-1.0</td>\n",
       "      <td>1.0</td>\n",
       "      <td>1.0</td>\n",
       "      <td>-1.0</td>\n",
       "      <td>-1.0</td>\n",
       "      <td>1.0</td>\n",
       "      <td>-1.0</td>\n",
       "      <td>-1.0</td>\n",
       "      <td>0.111</td>\n",
       "      <td>-1.0</td>\n",
       "      <td>-1.00</td>\n",
       "      <td>-1.0</td>\n",
       "      <td>0.000</td>\n",
       "      <td>-0.333</td>\n",
       "      <td>1.0</td>\n",
       "      <td>-1.0</td>\n",
       "      <td>-1.0</td>\n",
       "      <td>-1.0</td>\n",
       "      <td>-1.0</td>\n",
       "      <td>1.0</td>\n",
       "      <td>-1.0</td>\n",
       "      <td>-1.0</td>\n",
       "      <td>-1.0</td>\n",
       "    </tr>\n",
       "    <tr>\n",
       "      <th>2</th>\n",
       "      <td>-0.928</td>\n",
       "      <td>-0.998</td>\n",
       "      <td>-0.783</td>\n",
       "      <td>-1.000</td>\n",
       "      <td>-1.0</td>\n",
       "      <td>-1.0</td>\n",
       "      <td>-0.146</td>\n",
       "      <td>-0.383</td>\n",
       "      <td>-1.000</td>\n",
       "      <td>-1.000</td>\n",
       "      <td>-1.000</td>\n",
       "      <td>-1.000</td>\n",
       "      <td>-1.000</td>\n",
       "      <td>-1.000</td>\n",
       "      <td>-0.999</td>\n",
       "      <td>-1.000</td>\n",
       "      <td>-0.999</td>\n",
       "      <td>-0.995</td>\n",
       "      <td>-1.000</td>\n",
       "      <td>-1.0</td>\n",
       "      <td>-1.000</td>\n",
       "      <td>0.964</td>\n",
       "      <td>-1.00</td>\n",
       "      <td>-0.962</td>\n",
       "      <td>-0.058</td>\n",
       "      <td>-1.000</td>\n",
       "      <td>-1.000</td>\n",
       "      <td>1.000</td>\n",
       "      <td>-0.475</td>\n",
       "      <td>-0.475</td>\n",
       "      <td>1.0</td>\n",
       "      <td>-1.0</td>\n",
       "      <td>-1.0</td>\n",
       "      <td>-1.0</td>\n",
       "      <td>-1.0</td>\n",
       "      <td>-1.0</td>\n",
       "      <td>-1.0</td>\n",
       "      <td>-1.0</td>\n",
       "      <td>-1.0</td>\n",
       "      <td>-1.0</td>\n",
       "      <td>-1.0</td>\n",
       "      <td>1.0</td>\n",
       "      <td>-1.0</td>\n",
       "      <td>-1.0</td>\n",
       "      <td>1.0</td>\n",
       "      <td>-1.0</td>\n",
       "      <td>-1.0</td>\n",
       "      <td>0.333</td>\n",
       "      <td>-1.0</td>\n",
       "      <td>-1.00</td>\n",
       "      <td>-1.0</td>\n",
       "      <td>-0.333</td>\n",
       "      <td>-1.000</td>\n",
       "      <td>1.0</td>\n",
       "      <td>-1.0</td>\n",
       "      <td>1.0</td>\n",
       "      <td>-1.0</td>\n",
       "      <td>-1.0</td>\n",
       "      <td>-1.0</td>\n",
       "      <td>-1.0</td>\n",
       "      <td>-1.0</td>\n",
       "      <td>-1.0</td>\n",
       "    </tr>\n",
       "    <tr>\n",
       "      <th>3</th>\n",
       "      <td>-0.856</td>\n",
       "      <td>-0.643</td>\n",
       "      <td>-0.601</td>\n",
       "      <td>-0.984</td>\n",
       "      <td>-1.0</td>\n",
       "      <td>-1.0</td>\n",
       "      <td>-0.111</td>\n",
       "      <td>-0.379</td>\n",
       "      <td>-0.531</td>\n",
       "      <td>-0.953</td>\n",
       "      <td>-0.821</td>\n",
       "      <td>-0.974</td>\n",
       "      <td>-0.961</td>\n",
       "      <td>-0.851</td>\n",
       "      <td>0.149</td>\n",
       "      <td>-0.434</td>\n",
       "      <td>-0.468</td>\n",
       "      <td>-0.588</td>\n",
       "      <td>-0.648</td>\n",
       "      <td>-1.0</td>\n",
       "      <td>-0.787</td>\n",
       "      <td>0.927</td>\n",
       "      <td>-0.99</td>\n",
       "      <td>-0.925</td>\n",
       "      <td>0.633</td>\n",
       "      <td>-0.304</td>\n",
       "      <td>-0.571</td>\n",
       "      <td>-0.490</td>\n",
       "      <td>-0.394</td>\n",
       "      <td>-1.000</td>\n",
       "      <td>-1.0</td>\n",
       "      <td>-1.0</td>\n",
       "      <td>1.0</td>\n",
       "      <td>-1.0</td>\n",
       "      <td>-1.0</td>\n",
       "      <td>1.0</td>\n",
       "      <td>1.0</td>\n",
       "      <td>1.0</td>\n",
       "      <td>-1.0</td>\n",
       "      <td>-1.0</td>\n",
       "      <td>-1.0</td>\n",
       "      <td>1.0</td>\n",
       "      <td>-1.0</td>\n",
       "      <td>-1.0</td>\n",
       "      <td>1.0</td>\n",
       "      <td>-1.0</td>\n",
       "      <td>-1.0</td>\n",
       "      <td>0.333</td>\n",
       "      <td>-1.0</td>\n",
       "      <td>-1.00</td>\n",
       "      <td>-1.0</td>\n",
       "      <td>0.000</td>\n",
       "      <td>1.000</td>\n",
       "      <td>-1.0</td>\n",
       "      <td>-1.0</td>\n",
       "      <td>-1.0</td>\n",
       "      <td>-1.0</td>\n",
       "      <td>1.0</td>\n",
       "      <td>-1.0</td>\n",
       "      <td>-1.0</td>\n",
       "      <td>-1.0</td>\n",
       "      <td>-1.0</td>\n",
       "    </tr>\n",
       "    <tr>\n",
       "      <th>4</th>\n",
       "      <td>-0.962</td>\n",
       "      <td>-1.000</td>\n",
       "      <td>-0.887</td>\n",
       "      <td>-1.000</td>\n",
       "      <td>-1.0</td>\n",
       "      <td>-1.0</td>\n",
       "      <td>-0.145</td>\n",
       "      <td>-0.383</td>\n",
       "      <td>-1.000</td>\n",
       "      <td>-1.000</td>\n",
       "      <td>-1.000</td>\n",
       "      <td>-1.000</td>\n",
       "      <td>-1.000</td>\n",
       "      <td>-1.000</td>\n",
       "      <td>-1.000</td>\n",
       "      <td>-1.000</td>\n",
       "      <td>-1.000</td>\n",
       "      <td>-1.000</td>\n",
       "      <td>-1.000</td>\n",
       "      <td>-1.0</td>\n",
       "      <td>-1.000</td>\n",
       "      <td>0.709</td>\n",
       "      <td>-0.99</td>\n",
       "      <td>-0.925</td>\n",
       "      <td>0.507</td>\n",
       "      <td>-0.739</td>\n",
       "      <td>-0.714</td>\n",
       "      <td>-0.057</td>\n",
       "      <td>-0.071</td>\n",
       "      <td>0.091</td>\n",
       "      <td>-1.0</td>\n",
       "      <td>-1.0</td>\n",
       "      <td>-1.0</td>\n",
       "      <td>-1.0</td>\n",
       "      <td>-1.0</td>\n",
       "      <td>1.0</td>\n",
       "      <td>1.0</td>\n",
       "      <td>1.0</td>\n",
       "      <td>-1.0</td>\n",
       "      <td>-1.0</td>\n",
       "      <td>1.0</td>\n",
       "      <td>1.0</td>\n",
       "      <td>-1.0</td>\n",
       "      <td>-1.0</td>\n",
       "      <td>-1.0</td>\n",
       "      <td>1.0</td>\n",
       "      <td>-1.0</td>\n",
       "      <td>1.000</td>\n",
       "      <td>-1.0</td>\n",
       "      <td>-0.92</td>\n",
       "      <td>-1.0</td>\n",
       "      <td>-1.000</td>\n",
       "      <td>1.000</td>\n",
       "      <td>1.0</td>\n",
       "      <td>-1.0</td>\n",
       "      <td>-1.0</td>\n",
       "      <td>-1.0</td>\n",
       "      <td>-1.0</td>\n",
       "      <td>1.0</td>\n",
       "      <td>-1.0</td>\n",
       "      <td>-1.0</td>\n",
       "      <td>-1.0</td>\n",
       "    </tr>\n",
       "  </tbody>\n",
       "</table>\n",
       "</div>"
      ],
      "text/plain": [
       "   MonthlyRevenue  MonthlyMinutes  TotalRecurringCharge  \\\n",
       "0          -0.951          -0.940                -0.862   \n",
       "1          -0.962          -0.997                -0.887   \n",
       "2          -0.928          -0.998                -0.783   \n",
       "3          -0.856          -0.643                -0.601   \n",
       "4          -0.962          -1.000                -0.887   \n",
       "\n",
       "   DirectorAssistedCalls  OverageMinutes  RoamingCalls  PercChangeMinutes  \\\n",
       "0                 -0.997            -1.0          -1.0             -0.180   \n",
       "1                 -1.000            -1.0          -1.0             -0.146   \n",
       "2                 -1.000            -1.0          -1.0             -0.146   \n",
       "3                 -0.984            -1.0          -1.0             -0.111   \n",
       "4                 -1.000            -1.0          -1.0             -0.145   \n",
       "\n",
       "   PercChangeRevenues  DroppedCalls  BlockedCalls  UnansweredCalls  \\\n",
       "0              -0.394        -0.994        -0.996           -0.985   \n",
       "1              -0.383        -0.997        -1.000           -0.994   \n",
       "2              -0.383        -1.000        -1.000           -1.000   \n",
       "3              -0.379        -0.531        -0.953           -0.821   \n",
       "4              -0.383        -1.000        -1.000           -1.000   \n",
       "\n",
       "   CustomerCareCalls  ThreewayCalls  ReceivedCalls  OutboundCalls  \\\n",
       "0             -1.000         -1.000         -0.928         -1.000   \n",
       "1             -1.000         -1.000         -1.000         -1.000   \n",
       "2             -1.000         -1.000         -1.000         -0.999   \n",
       "3             -0.974         -0.961         -0.851          0.149   \n",
       "4             -1.000         -1.000         -1.000         -1.000   \n",
       "\n",
       "   InboundCalls  PeakCallsInOut  OffPeakCallsInOut  DroppedBlockedCalls  \\\n",
       "0        -1.000          -0.945             -0.967               -0.992   \n",
       "1        -1.000          -0.995             -0.999               -0.998   \n",
       "2        -1.000          -0.999             -0.995               -1.000   \n",
       "3        -0.434          -0.468             -0.588               -0.648   \n",
       "4        -1.000          -1.000             -1.000               -1.000   \n",
       "\n",
       "   CallForwardingCalls  CallWaitingCalls  MonthsInService  UniqueSubs  \\\n",
       "0                 -1.0            -0.997            1.000       -0.99   \n",
       "1                 -1.0            -1.000            0.891       -1.00   \n",
       "2                 -1.0            -1.000            0.964       -1.00   \n",
       "3                 -1.0            -0.787            0.927       -0.99   \n",
       "4                 -1.0            -1.000            0.709       -0.99   \n",
       "\n",
       "   ActiveSubs  ServiceArea  Handsets  HandsetModels  CurrentEquipmentDays  \\\n",
       "0      -0.962        0.762    -0.913         -0.857                -0.597   \n",
       "1      -0.962        0.633    -0.913         -1.000                 0.661   \n",
       "2      -0.962       -0.058    -1.000         -1.000                 1.000   \n",
       "3      -0.925        0.633    -0.304         -0.571                -0.490   \n",
       "4      -0.925        0.507    -0.739         -0.714                -0.057   \n",
       "\n",
       "   AgeHH1  AgeHH2  ChildrenInHH  HandsetRefurbished  HandsetWebCapable  \\\n",
       "0   0.253  -1.000          -1.0                -1.0                1.0   \n",
       "1  -0.192  -0.152           1.0                -1.0               -1.0   \n",
       "2  -0.475  -0.475           1.0                -1.0               -1.0   \n",
       "3  -0.394  -1.000          -1.0                -1.0                1.0   \n",
       "4  -0.071   0.091          -1.0                -1.0               -1.0   \n",
       "\n",
       "   TruckOwner  RVOwner  Homeownership  BuysViaMailOrder  RespondsToMailOffers  \\\n",
       "0        -1.0     -1.0            1.0               1.0                   1.0   \n",
       "1        -1.0     -1.0            1.0               1.0                   1.0   \n",
       "2        -1.0     -1.0           -1.0              -1.0                  -1.0   \n",
       "3        -1.0     -1.0            1.0               1.0                   1.0   \n",
       "4        -1.0     -1.0            1.0               1.0                   1.0   \n",
       "\n",
       "   OptOutMailings  NonUSTravel  OwnsComputer  HasCreditCard  RetentionCalls  \\\n",
       "0            -1.0         -1.0           1.0            1.0            -0.5   \n",
       "1            -1.0         -1.0           1.0            1.0            -1.0   \n",
       "2            -1.0         -1.0          -1.0            1.0            -1.0   \n",
       "3            -1.0         -1.0          -1.0            1.0            -1.0   \n",
       "4            -1.0         -1.0           1.0            1.0            -1.0   \n",
       "\n",
       "   RetentionOffersAccepted  NewCellphoneUser  NotNewCellphoneUser  \\\n",
       "0                     -1.0              -1.0                 -1.0   \n",
       "1                     -1.0               1.0                 -1.0   \n",
       "2                     -1.0               1.0                 -1.0   \n",
       "3                     -1.0               1.0                 -1.0   \n",
       "4                     -1.0              -1.0                  1.0   \n",
       "\n",
       "   ReferralsMadeBySubscriber  IncomeGroup  OwnsMotorcycle  \\\n",
       "0                       -1.0       -0.111            -1.0   \n",
       "1                       -1.0        0.111            -1.0   \n",
       "2                       -1.0        0.333            -1.0   \n",
       "3                       -1.0        0.333            -1.0   \n",
       "4                       -1.0        1.000            -1.0   \n",
       "\n",
       "   AdjustmentsToCreditRating  MadeCallToRetentionTeam  CreditRating  \\\n",
       "0                      -1.00                      1.0        -1.000   \n",
       "1                      -1.00                     -1.0         0.000   \n",
       "2                      -1.00                     -1.0        -0.333   \n",
       "3                      -1.00                     -1.0         0.000   \n",
       "4                      -0.92                     -1.0        -1.000   \n",
       "\n",
       "   PrizmCode  MaritalStatus  Job_is_Clerical  Job_is_Crafts  Job_is_Homemaker  \\\n",
       "0     -0.333           -1.0             -1.0           -1.0              -1.0   \n",
       "1     -0.333            1.0             -1.0           -1.0              -1.0   \n",
       "2     -1.000            1.0             -1.0            1.0              -1.0   \n",
       "3      1.000           -1.0             -1.0           -1.0              -1.0   \n",
       "4      1.000            1.0             -1.0           -1.0              -1.0   \n",
       "\n",
       "   Job_is_Other  Job_is_Professional  Job_is_Retired  Job_is_Self  \\\n",
       "0          -1.0                  1.0            -1.0         -1.0   \n",
       "1          -1.0                  1.0            -1.0         -1.0   \n",
       "2          -1.0                 -1.0            -1.0         -1.0   \n",
       "3           1.0                 -1.0            -1.0         -1.0   \n",
       "4          -1.0                  1.0            -1.0         -1.0   \n",
       "\n",
       "   Job_is_Student  \n",
       "0            -1.0  \n",
       "1            -1.0  \n",
       "2            -1.0  \n",
       "3            -1.0  \n",
       "4            -1.0  "
      ]
     },
     "execution_count": 38,
     "metadata": {},
     "output_type": "execute_result"
    }
   ],
   "source": [
    "# extract features and use min max scaler to rescale the data to the same range\n",
    "features = df2.drop(columns=['Churn'])\n",
    "\n",
    "from sklearn.preprocessing import MinMaxScaler\n",
    "scaler = MinMaxScaler([-1, 1])\n",
    "scaler.fit(features)\n",
    "print(\"The transformed data: \", scaler.transform(features))\n",
    "features = pd.DataFrame(scaler.transform(features), columns=features.columns)\n",
    "features.head()"
   ]
  },
  {
   "cell_type": "markdown",
   "metadata": {},
   "source": [
    "## Dealing with imbalanced data set"
   ]
  },
  {
   "cell_type": "code",
   "execution_count": 39,
   "metadata": {
    "ExecuteTime": {
     "end_time": "2021-04-12T15:26:06.980209Z",
     "start_time": "2021-04-12T15:26:06.793927Z"
    }
   },
   "outputs": [
    {
     "name": "stdout",
     "output_type": "stream",
     "text": [
      "we have imbalanced dataset: 14257 churn vs 35519 non-churn\n"
     ]
    },
    {
     "data": {
      "image/png": "[encoded data removed]",
      "text/plain": [
       "<Figure size 432x288 with 1 Axes>"
      ]
     },
     "metadata": {
      "needs_background": "light"
     },
     "output_type": "display_data"
    }
   ],
   "source": [
    "df2.Churn.hist()\n",
    "print('we have imbalanced dataset: {} churn vs {} non-churn'.format(\n",
    "    len(df2[df2.Churn == 1]), len(df2[df2.Churn == 0])))"
   ]
  },
  {
   "cell_type": "markdown",
   "metadata": {},
   "source": [
    "Again since we have around 14k of data for churn, we can afford to drop additional non-churn data to make the dataset balanced.\n",
    "\n",
    "Why do we need to make dataset balanced? This is to prevent cost function from being optimized towards non-churn data and balanced dataset makes prediction accuracy easier to interpret"
   ]
  },
  {
   "cell_type": "code",
   "execution_count": 40,
   "metadata": {
    "ExecuteTime": {
     "end_time": "2021-04-12T15:26:07.404246Z",
     "start_time": "2021-04-12T15:26:06.981206Z"
    },
    "scrolled": true
   },
   "outputs": [
    {
     "data": {
      "text/plain": [
       "1    14257\n",
       "0    14257\n",
       "Name: Churn, dtype: int64"
      ]
     },
     "execution_count": 40,
     "metadata": {},
     "output_type": "execute_result"
    }
   ],
   "source": [
    "from imblearn.under_sampling import RandomUnderSampler\n",
    "\n",
    "# define undersample strategy\n",
    "rus = RandomUnderSampler(sampling_strategy='majority', random_state=8017)\n",
    "X_resampled, y_resampled = rus.fit_resample(features, df2.Churn)\n",
    "y_resampled.value_counts()"
   ]
  },
  {
   "cell_type": "markdown",
   "metadata": {},
   "source": [
    "## Splitting data into training and testing set"
   ]
  },
  {
   "cell_type": "code",
   "execution_count": 41,
   "metadata": {
    "ExecuteTime": {
     "end_time": "2021-04-12T15:26:07.450432Z",
     "start_time": "2021-04-12T15:26:07.405196Z"
    }
   },
   "outputs": [],
   "source": [
    "from sklearn.model_selection import train_test_split\n",
    "\n",
    "X_train, X_test, y_train, y_test = train_test_split(X_resampled, y_resampled, \n",
    "                                                random_state=8017, stratify=y_resampled,\n",
    "                                                test_size=0.3)"
   ]
  },
  {
   "cell_type": "markdown",
   "metadata": {
    "ExecuteTime": {
     "end_time": "2021-04-11T07:12:18.381530Z",
     "start_time": "2021-04-11T07:12:18.271720Z"
    }
   },
   "source": [
    "## Feature Selection based on feature Importances"
   ]
  },
  {
   "cell_type": "code",
   "execution_count": 43,
   "metadata": {
    "ExecuteTime": {
     "end_time": "2021-04-12T15:27:57.294737Z",
     "start_time": "2021-04-12T15:27:57.206722Z"
    }
   },
   "outputs": [
    {
     "name": "stdout",
     "output_type": "stream",
     "text": [
      "0.06854244725162596 CurrentEquipmentDays\n",
      "0.00841651270217948 HandsetRefurbished\n",
      "-0.01635351837391362 HandsetWebCapable\n",
      "-0.004329412284447082 RespondsToMailOffers\n",
      "0.0241754874220022 MadeCallToRetentionTeam\n",
      "-0.006154647439521429 CreditRating\n"
     ]
    }
   ],
   "source": [
    "from sklearn.linear_model import LinearRegression, Lasso\n",
    "lasso = Lasso(alpha=0.01)\n",
    "lasso.fit(X_train, y_train)\n",
    "\n",
    "for score, feature in zip(lasso.coef_, X_train.columns):\n",
    "    if score != 0:\n",
    "        print(score, feature)"
   ]
  },
  {
   "cell_type": "markdown",
   "metadata": {},
   "source": [
    "According to Lasso, CurrentEquipmentDays, HandsetRefurbished, HandsetWebCapable,\n",
    "RespondsToMailOffers, MadeCallToRetentionTeam, CreditRating are the important features"
   ]
  },
  {
   "cell_type": "code",
   "execution_count": 45,
   "metadata": {
    "ExecuteTime": {
     "end_time": "2021-04-12T15:32:04.691002Z",
     "start_time": "2021-04-12T15:31:59.316831Z"
    }
   },
   "outputs": [
    {
     "data": {
      "image/png": "[encoded data removed]",
      "text/plain": [
       "<Figure size 432x288 with 1 Axes>"
      ]
     },
     "metadata": {
      "needs_background": "light"
     },
     "output_type": "display_data"
    }
   ],
   "source": [
    "from sklearn.tree import DecisionTreeClassifier\n",
    "\n",
    "train_single_scores = []\n",
    "test_single_scores = []\n",
    "for depth in range(2, 11):\n",
    "    clf = DecisionTreeClassifier(\n",
    "        criterion='gini', max_depth=depth, random_state=8017)\n",
    "    clf.fit(X_train, y_train)\n",
    "    train_single_scores.append(clf.score(X_train, y_train))\n",
    "    test_single_scores.append(clf.score(X_test, y_test))\n",
    "\n",
    "plt.plot(train_single_scores, \"go--\", color=\"blue\")\n",
    "plt.plot(test_single_scores, \"go-\")\n",
    "plt.ylim(0, 1)\n",
    "plt.xticks(range(9), range(2, 11))\n",
    "plt.legend([\"DT training score\", \"DT test score\"])\n",
    "plt.axvline(np.argmax(test_single_scores), linestyle=\"dotted\", color=\"red\")\n",
    "plt.annotate(np.max(test_single_scores).round(4), (np.argmax(test_single_scores), np.max(test_single_scores)), xycoords=\"data\",\n",
    "             xytext=(50, 25), textcoords=\"offset pixels\", arrowprops=dict(facecolor=\"black\", shrink=0.1), fontsize=10,\n",
    "             horizontalalignment=\"center\", verticalalignment=\"bottom\")\n",
    "plt.show()"
   ]
  },
  {
   "cell_type": "code",
   "execution_count": 47,
   "metadata": {
    "ExecuteTime": {
     "end_time": "2021-04-12T15:33:22.983341Z",
     "start_time": "2021-04-12T15:33:22.715338Z"
    }
   },
   "outputs": [
    {
     "name": "stdout",
     "output_type": "stream",
     "text": [
      "0.06042224793374392 MonthlyMinutes\n",
      "0.04545211442462974 TotalRecurringCharge\n",
      "0.3311806895707951 MonthsInService\n",
      "0.5629449480708312 CurrentEquipmentDays\n"
     ]
    }
   ],
   "source": [
    "classification_tree = DecisionTreeClassifier(\n",
    "    criterion='gini', max_depth=3, random_state=8017)\n",
    "classification_tree.fit(X_train, y_train)\n",
    "classification_tree.score(X_train, y_train)\n",
    "pred_train_dtc = classification_tree.predict_proba(X_train)\n",
    "pred_test_dtc = classification_tree.predict_proba(X_test)\n",
    "\n",
    "# print the `feature_importances_`\n",
    "for score, feature in zip(classification_tree.feature_importances_, X_train.columns):\n",
    "    if score != 0:\n",
    "        print(score, feature)"
   ]
  },
  {
   "cell_type": "markdown",
   "metadata": {},
   "source": [
    "According to decision tree with max_depth=3, MonthlyMinutes, TotalRecurringCharge, MonthsInService,\n",
    "CurrentEquipmentDays are important features"
   ]
  },
  {
   "cell_type": "code",
   "execution_count": null,
   "metadata": {},
   "outputs": [],
   "source": []
  },
  {
   "cell_type": "markdown",
   "metadata": {},
   "source": [
    "## Dimensionality Reduction using PCA"
   ]
  },
  {
   "cell_type": "code",
   "execution_count": 48,
   "metadata": {
    "ExecuteTime": {
     "end_time": "2021-04-12T15:34:51.348608Z",
     "start_time": "2021-04-12T15:34:48.203460Z"
    }
   },
   "outputs": [
    {
     "data": {
      "text/plain": [
       "<matplotlib.collections.PathCollection at 0x1e1b259f9e8>"
      ]
     },
     "execution_count": 48,
     "metadata": {},
     "output_type": "execute_result"
    },
    {
     "data": {
      "image/png": "[encoded data removed]",
      "text/plain": [
       "<Figure size 432x288 with 1 Axes>"
      ]
     },
     "metadata": {
      "needs_background": "light"
     },
     "output_type": "display_data"
    }
   ],
   "source": [
    "from sklearn.decomposition import PCA\n",
    "pca = PCA(n_components=2)\n",
    "X_pca = pca.fit_transform(X_train)\n",
    "plt.title('PCA', fontdict=None, loc='center', pad=None)\n",
    "plt.scatter(X_pca[:,0],X_pca[:,1], c=y_train)"
   ]
  },
  {
   "cell_type": "markdown",
   "metadata": {},
   "source": [
    "The dots aren't clearly separated.."
   ]
  },
  {
   "cell_type": "markdown",
   "metadata": {},
   "source": [
    "# Training the model\n",
    "hyperparameters and predict generalization performance using cross validation. Use F1-score as a performance measure"
   ]
  },
  {
   "cell_type": "markdown",
   "metadata": {},
   "source": [
    "Performance metrics: "
   ]
  },
  {
   "cell_type": "code",
   "execution_count": 54,
   "metadata": {
    "ExecuteTime": {
     "end_time": "2021-04-12T15:49:52.311394Z",
     "start_time": "2021-04-12T15:49:52.281310Z"
    }
   },
   "outputs": [
    {
     "data": {
      "text/html": [
       "<div>\n",
       "<style scoped>\n",
       "    .dataframe tbody tr th:only-of-type {\n",
       "        vertical-align: middle;\n",
       "    }\n",
       "\n",
       "    .dataframe tbody tr th {\n",
       "        vertical-align: top;\n",
       "    }\n",
       "\n",
       "    .dataframe thead th {\n",
       "        text-align: right;\n",
       "    }\n",
       "</style>\n",
       "<table border=\"1\" class=\"dataframe\">\n",
       "  <thead>\n",
       "    <tr style=\"text-align: right;\">\n",
       "      <th></th>\n",
       "      <th>MonthlyMinutes</th>\n",
       "      <th>TotalRecurringCharge</th>\n",
       "      <th>MonthsInService</th>\n",
       "      <th>CurrentEquipmentDays</th>\n",
       "      <th>HandsetRefurbished</th>\n",
       "      <th>HandsetWebCapable</th>\n",
       "      <th>RespondsToMailOffers</th>\n",
       "      <th>MadeCallToRetentionTeam</th>\n",
       "      <th>CreditRating</th>\n",
       "    </tr>\n",
       "  </thead>\n",
       "  <tbody>\n",
       "    <tr>\n",
       "      <th>10846</th>\n",
       "      <td>-0.998</td>\n",
       "      <td>-0.887</td>\n",
       "      <td>0.164</td>\n",
       "      <td>-0.165</td>\n",
       "      <td>-1.0</td>\n",
       "      <td>-1.0</td>\n",
       "      <td>-1.0</td>\n",
       "      <td>-1.0</td>\n",
       "      <td>0.333</td>\n",
       "    </tr>\n",
       "    <tr>\n",
       "      <th>19567</th>\n",
       "      <td>-0.978</td>\n",
       "      <td>-0.823</td>\n",
       "      <td>-0.455</td>\n",
       "      <td>-0.300</td>\n",
       "      <td>-1.0</td>\n",
       "      <td>-1.0</td>\n",
       "      <td>-1.0</td>\n",
       "      <td>-1.0</td>\n",
       "      <td>-0.667</td>\n",
       "    </tr>\n",
       "    <tr>\n",
       "      <th>28417</th>\n",
       "      <td>-0.815</td>\n",
       "      <td>-0.921</td>\n",
       "      <td>0.018</td>\n",
       "      <td>0.134</td>\n",
       "      <td>-1.0</td>\n",
       "      <td>-1.0</td>\n",
       "      <td>-1.0</td>\n",
       "      <td>-1.0</td>\n",
       "      <td>-1.000</td>\n",
       "    </tr>\n",
       "    <tr>\n",
       "      <th>2120</th>\n",
       "      <td>-0.875</td>\n",
       "      <td>-0.823</td>\n",
       "      <td>-0.309</td>\n",
       "      <td>-0.172</td>\n",
       "      <td>-1.0</td>\n",
       "      <td>1.0</td>\n",
       "      <td>1.0</td>\n",
       "      <td>-1.0</td>\n",
       "      <td>-0.667</td>\n",
       "    </tr>\n",
       "    <tr>\n",
       "      <th>5895</th>\n",
       "      <td>-0.574</td>\n",
       "      <td>-0.675</td>\n",
       "      <td>-0.745</td>\n",
       "      <td>-0.928</td>\n",
       "      <td>1.0</td>\n",
       "      <td>1.0</td>\n",
       "      <td>-1.0</td>\n",
       "      <td>-1.0</td>\n",
       "      <td>-0.667</td>\n",
       "    </tr>\n",
       "  </tbody>\n",
       "</table>\n",
       "</div>"
      ],
      "text/plain": [
       "       MonthlyMinutes  TotalRecurringCharge  MonthsInService  \\\n",
       "10846          -0.998                -0.887            0.164   \n",
       "19567          -0.978                -0.823           -0.455   \n",
       "28417          -0.815                -0.921            0.018   \n",
       "2120           -0.875                -0.823           -0.309   \n",
       "5895           -0.574                -0.675           -0.745   \n",
       "\n",
       "       CurrentEquipmentDays  HandsetRefurbished  HandsetWebCapable  \\\n",
       "10846                -0.165                -1.0               -1.0   \n",
       "19567                -0.300                -1.0               -1.0   \n",
       "28417                 0.134                -1.0               -1.0   \n",
       "2120                 -0.172                -1.0                1.0   \n",
       "5895                 -0.928                 1.0                1.0   \n",
       "\n",
       "       RespondsToMailOffers  MadeCallToRetentionTeam  CreditRating  \n",
       "10846                  -1.0                     -1.0         0.333  \n",
       "19567                  -1.0                     -1.0        -0.667  \n",
       "28417                  -1.0                     -1.0        -1.000  \n",
       "2120                    1.0                     -1.0        -0.667  \n",
       "5895                   -1.0                     -1.0        -0.667  "
      ]
     },
     "execution_count": 54,
     "metadata": {},
     "output_type": "execute_result"
    }
   ],
   "source": [
    "# let's assume that we only take signicant features from lasso and decision tree\n",
    "importantFeatures = [\n",
    "    'MonthlyMinutes', 'TotalRecurringCharge', 'MonthsInService',\n",
    "    'CurrentEquipmentDays', 'HandsetRefurbished', 'HandsetWebCapable',\n",
    "    'RespondsToMailOffers', 'MadeCallToRetentionTeam', 'CreditRating'\n",
    "]\n",
    "\n",
    "X_train2 = X_train[importantFeatures]\n",
    "X_test2 = X_test[importantFeatures]\n",
    "X_train2.head()"
   ]
  },
  {
   "cell_type": "code",
   "execution_count": 56,
   "metadata": {
    "ExecuteTime": {
     "end_time": "2021-04-12T15:50:13.631865Z",
     "start_time": "2021-04-12T15:50:11.081029Z"
    }
   },
   "outputs": [
    {
     "data": {
      "image/png": "[encoded data removed]",
      "text/plain": [
       "<Figure size 864x720 with 1 Axes>"
      ]
     },
     "metadata": {
      "needs_background": "light"
     },
     "output_type": "display_data"
    }
   ],
   "source": [
    "# let's do a quick comparison on different models\n",
    "from sklearn.model_selection import cross_val_score\n",
    "from sklearn.linear_model import LogisticRegression\n",
    "from sklearn.neighbors import KNeighborsClassifier\n",
    "from sklearn.tree import DecisionTreeClassifier\n",
    "from sklearn.metrics import f1_score\n",
    "import seaborn as sns\n",
    "import matplotlib.pyplot as plt\n",
    "\n",
    "# first logistic regression\n",
    "Cs = [1e-3,0.001,0.01,1,10,100]\n",
    "models = [LogisticRegression(C=c, solver='liblinear') for c in Cs]\n",
    "scores = []\n",
    "\n",
    "for C, model in zip(Cs, models):\n",
    "    model_name = str(C)\n",
    "    model_scores = cross_val_score(estimator=model, X=X_train2,\n",
    "                                   y=y_train, cv=5, scoring='f1')\n",
    "    for fold_idx, score in enumerate(model_scores):\n",
    "        scores.append((model_name, fold_idx, score))\n",
    "\n",
    "cv_df = pd.DataFrame(scores, columns=['name', \"fold_idx\", \"f1score\"])\n",
    "\n",
    "fig, ax = plt.subplots(figsize=(12,10))\n",
    "sns.boxplot(x='name', y='f1score', data=cv_df)\n",
    "sns.stripplot(x='name', y='f1score', data=cv_df, size=8, jitter=True, edgecolor='gray', linewidth=2)\n",
    "plt.show()"
   ]
  },
  {
   "cell_type": "code",
   "execution_count": null,
   "metadata": {},
   "outputs": [],
   "source": []
  },
  {
   "cell_type": "code",
   "execution_count": 57,
   "metadata": {
    "ExecuteTime": {
     "end_time": "2021-04-12T15:51:06.616039Z",
     "start_time": "2021-04-12T15:50:24.415455Z"
    }
   },
   "outputs": [
    {
     "data": {
      "image/png": "[encoded data removed]",
      "text/plain": [
       "<Figure size 864x720 with 1 Axes>"
      ]
     },
     "metadata": {
      "needs_background": "light"
     },
     "output_type": "display_data"
    }
   ],
   "source": [
    "# second KNNs here\n",
    "neighbors = [2, 3, 5, 10, 20]\n",
    "knn_names = ['neighbor_{}'.format(n) for n in neighbors]\n",
    "models = [KNeighborsClassifier(n_neighbors=n, p=2, metric='minkowski') for n in neighbors]\n",
    "\n",
    "scores = []\n",
    "\n",
    "for name, model in zip(knn_names, models):\n",
    "    model_name = name\n",
    "    model_scores = cross_val_score(estimator=model, X=X_train2, \n",
    "                                   y=y_train, cv=5, scoring='f1')\n",
    "    for fold_idx, score in enumerate(model_scores):\n",
    "        scores.append((model_name, fold_idx, score))\n",
    "\n",
    "cv_df = pd.DataFrame(scores, columns=['name', \"fold_idx\", \"f1score\"])\n",
    "\n",
    "fig, ax = plt.subplots(figsize=(12,10))\n",
    "sns.boxplot(x='name', y='f1score', data=cv_df)\n",
    "sns.stripplot(x='name', y='f1score', data=cv_df, size=8, jitter=True, edgecolor='gray', linewidth=2)\n",
    "plt.show()"
   ]
  },
  {
   "cell_type": "code",
   "execution_count": 58,
   "metadata": {
    "ExecuteTime": {
     "end_time": "2021-04-12T15:58:22.613160Z",
     "start_time": "2021-04-12T15:51:44.504298Z"
    }
   },
   "outputs": [],
   "source": [
    "from sklearn.model_selection import cross_val_score\n",
    "from sklearn.linear_model import LogisticRegression\n",
    "from sklearn.ensemble import RandomForestClassifier\n",
    "from sklearn.svm import SVC\n",
    "from sklearn.neighbors import KNeighborsClassifier\n",
    "from sklearn.linear_model import Perceptron\n",
    "from sklearn.naive_bayes import GaussianNB\n",
    "from sklearn.metrics import f1_score\n",
    "\n",
    "lr = LogisticRegression(C=1, solver='liblinear')\n",
    "ppn = Perceptron(eta0=0.1, random_state=1)\n",
    "knn = KNeighborsClassifier(n_neighbors=7, p=2, metric='minkowski')\n",
    "svm = SVC(kernel='linear', C=1, random_state=1)\n",
    "forest = RandomForestClassifier(criterion='gini', n_estimators=25, random_state=1, n_jobs=2)\n",
    "nb = GaussianNB()\n",
    "\n",
    "models = [lr, ppn, knn, svm, forest, nb]\n",
    "scores = []\n",
    "\n",
    "for model in models:\n",
    "    model_name = model.__class__.__name__\n",
    "    model_scores = cross_val_score(estimator=model, X=X_train2, y=y_train, cv=10, scoring='f1')\n",
    "    for fold_idx, score in enumerate(model_scores):\n",
    "        scores.append((model_name, fold_idx, score))"
   ]
  },
  {
   "cell_type": "code",
   "execution_count": 59,
   "metadata": {
    "ExecuteTime": {
     "end_time": "2021-04-12T15:58:43.013610Z",
     "start_time": "2021-04-12T15:58:42.419770Z"
    }
   },
   "outputs": [
    {
     "data": {
      "image/png": "[encoded data removed]",
      "text/plain": [
       "<Figure size 864x720 with 1 Axes>"
      ]
     },
     "metadata": {
      "needs_background": "light"
     },
     "output_type": "display_data"
    }
   ],
   "source": [
    "cv_df = pd.DataFrame(scores, columns=['name', \"fold_idx\", \"f1score\"])\n",
    "\n",
    "fig, ax = plt.subplots(figsize=(12,10))\n",
    "sns.boxplot(x='name', y='f1score', data=cv_df)\n",
    "sns.stripplot(x='name', y='f1score', data=cv_df, size=8, jitter=True, edgecolor='gray', linewidth=2)\n",
    "plt.show()"
   ]
  },
  {
   "cell_type": "code",
   "execution_count": 63,
   "metadata": {
    "ExecuteTime": {
     "end_time": "2021-04-12T16:06:28.733433Z",
     "start_time": "2021-04-12T16:06:11.884706Z"
    },
    "scrolled": true
   },
   "outputs": [
    {
     "name": "stdout",
     "output_type": "stream",
     "text": [
      "Fitting 5 folds for each of 144 candidates, totalling 720 fits\n",
      "[00:06:11] WARNING: C:/Users/Administrator/workspace/xgboost-win64_release_1.3.0/src/learner.cc:1061: Starting in XGBoost 1.3.0, the default evaluation metric used with the objective 'binary:logistic' was changed from 'error' to 'logloss'. Explicitly set eval_metric if you'd like to restore the old behavior.\n"
     ]
    },
    {
     "name": "stderr",
     "output_type": "stream",
     "text": [
      "C:\\Users\\jorda\\Anaconda3\\envs\\tf\\lib\\site-packages\\xgboost\\sklearn.py:888: UserWarning: The use of label encoder in XGBClassifier is deprecated and will be removed in a future release. To remove this warning, do the following: 1) Pass option use_label_encoder=False when constructing XGBClassifier object; and 2) Encode your labels (y) as integers starting with 0, i.e. 0, 1, 2, ..., [num_class - 1].\n",
      "  warnings.warn(label_encoder_deprecation_msg, UserWarning)\n"
     ]
    },
    {
     "name": "stdout",
     "output_type": "stream",
     "text": [
      "[CV] END learning_rate=0.1, max_depth=3, n_estimators=100, subsample=0.6; total time=   0.5s\n",
      "[00:06:12] WARNING: C:/Users/Administrator/workspace/xgboost-win64_release_1.3.0/src/learner.cc:1061: Starting in XGBoost 1.3.0, the default evaluation metric used with the objective 'binary:logistic' was changed from 'error' to 'logloss'. Explicitly set eval_metric if you'd like to restore the old behavior.\n"
     ]
    },
    {
     "name": "stderr",
     "output_type": "stream",
     "text": [
      "C:\\Users\\jorda\\Anaconda3\\envs\\tf\\lib\\site-packages\\xgboost\\sklearn.py:888: UserWarning: The use of label encoder in XGBClassifier is deprecated and will be removed in a future release. To remove this warning, do the following: 1) Pass option use_label_encoder=False when constructing XGBClassifier object; and 2) Encode your labels (y) as integers starting with 0, i.e. 0, 1, 2, ..., [num_class - 1].\n",
      "  warnings.warn(label_encoder_deprecation_msg, UserWarning)\n"
     ]
    },
    {
     "name": "stdout",
     "output_type": "stream",
     "text": [
      "[CV] END learning_rate=0.1, max_depth=3, n_estimators=100, subsample=0.6; total time=   0.6s\n",
      "[00:06:13] WARNING: C:/Users/Administrator/workspace/xgboost-win64_release_1.3.0/src/learner.cc:1061: Starting in XGBoost 1.3.0, the default evaluation metric used with the objective 'binary:logistic' was changed from 'error' to 'logloss'. Explicitly set eval_metric if you'd like to restore the old behavior.\n"
     ]
    },
    {
     "name": "stderr",
     "output_type": "stream",
     "text": [
      "C:\\Users\\jorda\\Anaconda3\\envs\\tf\\lib\\site-packages\\xgboost\\sklearn.py:888: UserWarning: The use of label encoder in XGBClassifier is deprecated and will be removed in a future release. To remove this warning, do the following: 1) Pass option use_label_encoder=False when constructing XGBClassifier object; and 2) Encode your labels (y) as integers starting with 0, i.e. 0, 1, 2, ..., [num_class - 1].\n",
      "  warnings.warn(label_encoder_deprecation_msg, UserWarning)\n"
     ]
    },
    {
     "name": "stdout",
     "output_type": "stream",
     "text": [
      "[CV] END learning_rate=0.1, max_depth=3, n_estimators=100, subsample=0.6; total time=   0.4s\n",
      "[00:06:13] WARNING: C:/Users/Administrator/workspace/xgboost-win64_release_1.3.0/src/learner.cc:1061: Starting in XGBoost 1.3.0, the default evaluation metric used with the objective 'binary:logistic' was changed from 'error' to 'logloss'. Explicitly set eval_metric if you'd like to restore the old behavior.\n"
     ]
    },
    {
     "name": "stderr",
     "output_type": "stream",
     "text": [
      "C:\\Users\\jorda\\Anaconda3\\envs\\tf\\lib\\site-packages\\xgboost\\sklearn.py:888: UserWarning: The use of label encoder in XGBClassifier is deprecated and will be removed in a future release. To remove this warning, do the following: 1) Pass option use_label_encoder=False when constructing XGBClassifier object; and 2) Encode your labels (y) as integers starting with 0, i.e. 0, 1, 2, ..., [num_class - 1].\n",
      "  warnings.warn(label_encoder_deprecation_msg, UserWarning)\n"
     ]
    },
    {
     "name": "stdout",
     "output_type": "stream",
     "text": [
      "[CV] END learning_rate=0.1, max_depth=3, n_estimators=100, subsample=0.6; total time=   0.4s\n",
      "[00:06:14] WARNING: C:/Users/Administrator/workspace/xgboost-win64_release_1.3.0/src/learner.cc:1061: Starting in XGBoost 1.3.0, the default evaluation metric used with the objective 'binary:logistic' was changed from 'error' to 'logloss'. Explicitly set eval_metric if you'd like to restore the old behavior.\n"
     ]
    },
    {
     "name": "stderr",
     "output_type": "stream",
     "text": [
      "C:\\Users\\jorda\\Anaconda3\\envs\\tf\\lib\\site-packages\\xgboost\\sklearn.py:888: UserWarning: The use of label encoder in XGBClassifier is deprecated and will be removed in a future release. To remove this warning, do the following: 1) Pass option use_label_encoder=False when constructing XGBClassifier object; and 2) Encode your labels (y) as integers starting with 0, i.e. 0, 1, 2, ..., [num_class - 1].\n",
      "  warnings.warn(label_encoder_deprecation_msg, UserWarning)\n"
     ]
    },
    {
     "name": "stdout",
     "output_type": "stream",
     "text": [
      "[CV] END learning_rate=0.1, max_depth=3, n_estimators=100, subsample=0.6; total time=   0.5s\n",
      "[00:06:14] WARNING: C:/Users/Administrator/workspace/xgboost-win64_release_1.3.0/src/learner.cc:1061: Starting in XGBoost 1.3.0, the default evaluation metric used with the objective 'binary:logistic' was changed from 'error' to 'logloss'. Explicitly set eval_metric if you'd like to restore the old behavior.\n"
     ]
    },
    {
     "name": "stderr",
     "output_type": "stream",
     "text": [
      "C:\\Users\\jorda\\Anaconda3\\envs\\tf\\lib\\site-packages\\xgboost\\sklearn.py:888: UserWarning: The use of label encoder in XGBClassifier is deprecated and will be removed in a future release. To remove this warning, do the following: 1) Pass option use_label_encoder=False when constructing XGBClassifier object; and 2) Encode your labels (y) as integers starting with 0, i.e. 0, 1, 2, ..., [num_class - 1].\n",
      "  warnings.warn(label_encoder_deprecation_msg, UserWarning)\n"
     ]
    },
    {
     "name": "stdout",
     "output_type": "stream",
     "text": [
      "[CV] END learning_rate=0.1, max_depth=3, n_estimators=100, subsample=0.8; total time=   0.5s\n",
      "[00:06:15] WARNING: C:/Users/Administrator/workspace/xgboost-win64_release_1.3.0/src/learner.cc:1061: Starting in XGBoost 1.3.0, the default evaluation metric used with the objective 'binary:logistic' was changed from 'error' to 'logloss'. Explicitly set eval_metric if you'd like to restore the old behavior.\n"
     ]
    },
    {
     "name": "stderr",
     "output_type": "stream",
     "text": [
      "C:\\Users\\jorda\\Anaconda3\\envs\\tf\\lib\\site-packages\\xgboost\\sklearn.py:888: UserWarning: The use of label encoder in XGBClassifier is deprecated and will be removed in a future release. To remove this warning, do the following: 1) Pass option use_label_encoder=False when constructing XGBClassifier object; and 2) Encode your labels (y) as integers starting with 0, i.e. 0, 1, 2, ..., [num_class - 1].\n",
      "  warnings.warn(label_encoder_deprecation_msg, UserWarning)\n"
     ]
    },
    {
     "name": "stdout",
     "output_type": "stream",
     "text": [
      "[CV] END learning_rate=0.1, max_depth=3, n_estimators=100, subsample=0.8; total time=   0.4s\n",
      "[00:06:15] WARNING: C:/Users/Administrator/workspace/xgboost-win64_release_1.3.0/src/learner.cc:1061: Starting in XGBoost 1.3.0, the default evaluation metric used with the objective 'binary:logistic' was changed from 'error' to 'logloss'. Explicitly set eval_metric if you'd like to restore the old behavior.\n"
     ]
    },
    {
     "name": "stderr",
     "output_type": "stream",
     "text": [
      "C:\\Users\\jorda\\Anaconda3\\envs\\tf\\lib\\site-packages\\xgboost\\sklearn.py:888: UserWarning: The use of label encoder in XGBClassifier is deprecated and will be removed in a future release. To remove this warning, do the following: 1) Pass option use_label_encoder=False when constructing XGBClassifier object; and 2) Encode your labels (y) as integers starting with 0, i.e. 0, 1, 2, ..., [num_class - 1].\n",
      "  warnings.warn(label_encoder_deprecation_msg, UserWarning)\n"
     ]
    },
    {
     "name": "stdout",
     "output_type": "stream",
     "text": [
      "[CV] END learning_rate=0.1, max_depth=3, n_estimators=100, subsample=0.8; total time=   0.5s\n",
      "[00:06:16] WARNING: C:/Users/Administrator/workspace/xgboost-win64_release_1.3.0/src/learner.cc:1061: Starting in XGBoost 1.3.0, the default evaluation metric used with the objective 'binary:logistic' was changed from 'error' to 'logloss'. Explicitly set eval_metric if you'd like to restore the old behavior.\n"
     ]
    },
    {
     "name": "stderr",
     "output_type": "stream",
     "text": [
      "C:\\Users\\jorda\\Anaconda3\\envs\\tf\\lib\\site-packages\\xgboost\\sklearn.py:888: UserWarning: The use of label encoder in XGBClassifier is deprecated and will be removed in a future release. To remove this warning, do the following: 1) Pass option use_label_encoder=False when constructing XGBClassifier object; and 2) Encode your labels (y) as integers starting with 0, i.e. 0, 1, 2, ..., [num_class - 1].\n",
      "  warnings.warn(label_encoder_deprecation_msg, UserWarning)\n"
     ]
    },
    {
     "name": "stdout",
     "output_type": "stream",
     "text": [
      "[CV] END learning_rate=0.1, max_depth=3, n_estimators=100, subsample=0.8; total time=   0.4s\n",
      "[00:06:17] WARNING: C:/Users/Administrator/workspace/xgboost-win64_release_1.3.0/src/learner.cc:1061: Starting in XGBoost 1.3.0, the default evaluation metric used with the objective 'binary:logistic' was changed from 'error' to 'logloss'. Explicitly set eval_metric if you'd like to restore the old behavior.\n"
     ]
    },
    {
     "name": "stderr",
     "output_type": "stream",
     "text": [
      "C:\\Users\\jorda\\Anaconda3\\envs\\tf\\lib\\site-packages\\xgboost\\sklearn.py:888: UserWarning: The use of label encoder in XGBClassifier is deprecated and will be removed in a future release. To remove this warning, do the following: 1) Pass option use_label_encoder=False when constructing XGBClassifier object; and 2) Encode your labels (y) as integers starting with 0, i.e. 0, 1, 2, ..., [num_class - 1].\n",
      "  warnings.warn(label_encoder_deprecation_msg, UserWarning)\n"
     ]
    },
    {
     "name": "stdout",
     "output_type": "stream",
     "text": [
      "[CV] END learning_rate=0.1, max_depth=3, n_estimators=100, subsample=0.8; total time=   0.5s\n",
      "[00:06:17] WARNING: C:/Users/Administrator/workspace/xgboost-win64_release_1.3.0/src/learner.cc:1061: Starting in XGBoost 1.3.0, the default evaluation metric used with the objective 'binary:logistic' was changed from 'error' to 'logloss'. Explicitly set eval_metric if you'd like to restore the old behavior.\n"
     ]
    },
    {
     "name": "stderr",
     "output_type": "stream",
     "text": [
      "C:\\Users\\jorda\\Anaconda3\\envs\\tf\\lib\\site-packages\\xgboost\\sklearn.py:888: UserWarning: The use of label encoder in XGBClassifier is deprecated and will be removed in a future release. To remove this warning, do the following: 1) Pass option use_label_encoder=False when constructing XGBClassifier object; and 2) Encode your labels (y) as integers starting with 0, i.e. 0, 1, 2, ..., [num_class - 1].\n",
      "  warnings.warn(label_encoder_deprecation_msg, UserWarning)\n"
     ]
    },
    {
     "name": "stdout",
     "output_type": "stream",
     "text": [
      "[CV] END learning_rate=0.1, max_depth=3, n_estimators=100, subsample=1.0; total time=   0.5s\n",
      "[00:06:18] WARNING: C:/Users/Administrator/workspace/xgboost-win64_release_1.3.0/src/learner.cc:1061: Starting in XGBoost 1.3.0, the default evaluation metric used with the objective 'binary:logistic' was changed from 'error' to 'logloss'. Explicitly set eval_metric if you'd like to restore the old behavior.\n"
     ]
    },
    {
     "name": "stderr",
     "output_type": "stream",
     "text": [
      "C:\\Users\\jorda\\Anaconda3\\envs\\tf\\lib\\site-packages\\xgboost\\sklearn.py:888: UserWarning: The use of label encoder in XGBClassifier is deprecated and will be removed in a future release. To remove this warning, do the following: 1) Pass option use_label_encoder=False when constructing XGBClassifier object; and 2) Encode your labels (y) as integers starting with 0, i.e. 0, 1, 2, ..., [num_class - 1].\n",
      "  warnings.warn(label_encoder_deprecation_msg, UserWarning)\n"
     ]
    },
    {
     "name": "stdout",
     "output_type": "stream",
     "text": [
      "[CV] END learning_rate=0.1, max_depth=3, n_estimators=100, subsample=1.0; total time=   0.5s\n",
      "[00:06:18] WARNING: C:/Users/Administrator/workspace/xgboost-win64_release_1.3.0/src/learner.cc:1061: Starting in XGBoost 1.3.0, the default evaluation metric used with the objective 'binary:logistic' was changed from 'error' to 'logloss'. Explicitly set eval_metric if you'd like to restore the old behavior.\n"
     ]
    },
    {
     "name": "stderr",
     "output_type": "stream",
     "text": [
      "C:\\Users\\jorda\\Anaconda3\\envs\\tf\\lib\\site-packages\\xgboost\\sklearn.py:888: UserWarning: The use of label encoder in XGBClassifier is deprecated and will be removed in a future release. To remove this warning, do the following: 1) Pass option use_label_encoder=False when constructing XGBClassifier object; and 2) Encode your labels (y) as integers starting with 0, i.e. 0, 1, 2, ..., [num_class - 1].\n",
      "  warnings.warn(label_encoder_deprecation_msg, UserWarning)\n"
     ]
    },
    {
     "name": "stdout",
     "output_type": "stream",
     "text": [
      "[CV] END learning_rate=0.1, max_depth=3, n_estimators=100, subsample=1.0; total time=   0.6s\n",
      "[00:06:19] WARNING: C:/Users/Administrator/workspace/xgboost-win64_release_1.3.0/src/learner.cc:1061: Starting in XGBoost 1.3.0, the default evaluation metric used with the objective 'binary:logistic' was changed from 'error' to 'logloss'. Explicitly set eval_metric if you'd like to restore the old behavior.\n"
     ]
    },
    {
     "name": "stderr",
     "output_type": "stream",
     "text": [
      "C:\\Users\\jorda\\Anaconda3\\envs\\tf\\lib\\site-packages\\xgboost\\sklearn.py:888: UserWarning: The use of label encoder in XGBClassifier is deprecated and will be removed in a future release. To remove this warning, do the following: 1) Pass option use_label_encoder=False when constructing XGBClassifier object; and 2) Encode your labels (y) as integers starting with 0, i.e. 0, 1, 2, ..., [num_class - 1].\n",
      "  warnings.warn(label_encoder_deprecation_msg, UserWarning)\n"
     ]
    },
    {
     "name": "stdout",
     "output_type": "stream",
     "text": [
      "[CV] END learning_rate=0.1, max_depth=3, n_estimators=100, subsample=1.0; total time=   0.5s\n",
      "[00:06:20] WARNING: C:/Users/Administrator/workspace/xgboost-win64_release_1.3.0/src/learner.cc:1061: Starting in XGBoost 1.3.0, the default evaluation metric used with the objective 'binary:logistic' was changed from 'error' to 'logloss'. Explicitly set eval_metric if you'd like to restore the old behavior.\n"
     ]
    },
    {
     "name": "stderr",
     "output_type": "stream",
     "text": [
      "C:\\Users\\jorda\\Anaconda3\\envs\\tf\\lib\\site-packages\\xgboost\\sklearn.py:888: UserWarning: The use of label encoder in XGBClassifier is deprecated and will be removed in a future release. To remove this warning, do the following: 1) Pass option use_label_encoder=False when constructing XGBClassifier object; and 2) Encode your labels (y) as integers starting with 0, i.e. 0, 1, 2, ..., [num_class - 1].\n",
      "  warnings.warn(label_encoder_deprecation_msg, UserWarning)\n"
     ]
    },
    {
     "name": "stdout",
     "output_type": "stream",
     "text": [
      "[CV] END learning_rate=0.1, max_depth=3, n_estimators=100, subsample=1.0; total time=   0.5s\n",
      "[00:06:20] WARNING: C:/Users/Administrator/workspace/xgboost-win64_release_1.3.0/src/learner.cc:1061: Starting in XGBoost 1.3.0, the default evaluation metric used with the objective 'binary:logistic' was changed from 'error' to 'logloss'. Explicitly set eval_metric if you'd like to restore the old behavior.\n"
     ]
    },
    {
     "name": "stderr",
     "output_type": "stream",
     "text": [
      "C:\\Users\\jorda\\Anaconda3\\envs\\tf\\lib\\site-packages\\xgboost\\sklearn.py:888: UserWarning: The use of label encoder in XGBClassifier is deprecated and will be removed in a future release. To remove this warning, do the following: 1) Pass option use_label_encoder=False when constructing XGBClassifier object; and 2) Encode your labels (y) as integers starting with 0, i.e. 0, 1, 2, ..., [num_class - 1].\n",
      "  warnings.warn(label_encoder_deprecation_msg, UserWarning)\n"
     ]
    },
    {
     "name": "stdout",
     "output_type": "stream",
     "text": [
      "[CV] END learning_rate=0.1, max_depth=3, n_estimators=500, subsample=0.6; total time=   2.4s\n",
      "[00:06:23] WARNING: C:/Users/Administrator/workspace/xgboost-win64_release_1.3.0/src/learner.cc:1061: Starting in XGBoost 1.3.0, the default evaluation metric used with the objective 'binary:logistic' was changed from 'error' to 'logloss'. Explicitly set eval_metric if you'd like to restore the old behavior.\n"
     ]
    },
    {
     "name": "stderr",
     "output_type": "stream",
     "text": [
      "C:\\Users\\jorda\\Anaconda3\\envs\\tf\\lib\\site-packages\\xgboost\\sklearn.py:888: UserWarning: The use of label encoder in XGBClassifier is deprecated and will be removed in a future release. To remove this warning, do the following: 1) Pass option use_label_encoder=False when constructing XGBClassifier object; and 2) Encode your labels (y) as integers starting with 0, i.e. 0, 1, 2, ..., [num_class - 1].\n",
      "  warnings.warn(label_encoder_deprecation_msg, UserWarning)\n"
     ]
    },
    {
     "name": "stdout",
     "output_type": "stream",
     "text": [
      "[CV] END learning_rate=0.1, max_depth=3, n_estimators=500, subsample=0.6; total time=   2.1s\n",
      "[00:06:25] WARNING: C:/Users/Administrator/workspace/xgboost-win64_release_1.3.0/src/learner.cc:1061: Starting in XGBoost 1.3.0, the default evaluation metric used with the objective 'binary:logistic' was changed from 'error' to 'logloss'. Explicitly set eval_metric if you'd like to restore the old behavior.\n"
     ]
    },
    {
     "name": "stderr",
     "output_type": "stream",
     "text": [
      "C:\\Users\\jorda\\Anaconda3\\envs\\tf\\lib\\site-packages\\xgboost\\sklearn.py:888: UserWarning: The use of label encoder in XGBClassifier is deprecated and will be removed in a future release. To remove this warning, do the following: 1) Pass option use_label_encoder=False when constructing XGBClassifier object; and 2) Encode your labels (y) as integers starting with 0, i.e. 0, 1, 2, ..., [num_class - 1].\n",
      "  warnings.warn(label_encoder_deprecation_msg, UserWarning)\n"
     ]
    },
    {
     "name": "stdout",
     "output_type": "stream",
     "text": [
      "[CV] END learning_rate=0.1, max_depth=3, n_estimators=500, subsample=0.6; total time=   2.0s\n",
      "[00:06:27] WARNING: C:/Users/Administrator/workspace/xgboost-win64_release_1.3.0/src/learner.cc:1061: Starting in XGBoost 1.3.0, the default evaluation metric used with the objective 'binary:logistic' was changed from 'error' to 'logloss'. Explicitly set eval_metric if you'd like to restore the old behavior.\n"
     ]
    },
    {
     "name": "stderr",
     "output_type": "stream",
     "text": [
      "C:\\Users\\jorda\\Anaconda3\\envs\\tf\\lib\\site-packages\\xgboost\\sklearn.py:888: UserWarning: The use of label encoder in XGBClassifier is deprecated and will be removed in a future release. To remove this warning, do the following: 1) Pass option use_label_encoder=False when constructing XGBClassifier object; and 2) Encode your labels (y) as integers starting with 0, i.e. 0, 1, 2, ..., [num_class - 1].\n",
      "  warnings.warn(label_encoder_deprecation_msg, UserWarning)\n"
     ]
    },
    {
     "ename": "KeyboardInterrupt",
     "evalue": "",
     "output_type": "error",
     "traceback": [
      "\u001b[1;31m---------------------------------------------------------------------------\u001b[0m",
      "\u001b[1;31mKeyboardInterrupt\u001b[0m                         Traceback (most recent call last)",
      "\u001b[1;32m<ipython-input-63-313d88fbe11c>\u001b[0m in \u001b[0;36m<module>\u001b[1;34m()\u001b[0m\n\u001b[0;32m      9\u001b[0m \u001b[0mxgb\u001b[0m \u001b[1;33m=\u001b[0m \u001b[0mXGBClassifier\u001b[0m\u001b[1;33m(\u001b[0m\u001b[0mtree_method\u001b[0m \u001b[1;33m=\u001b[0m \u001b[1;34m'gpu_hist'\u001b[0m\u001b[1;33m,\u001b[0m\u001b[0mpredictor\u001b[0m\u001b[1;33m=\u001b[0m\u001b[1;34m'gpu_predictor'\u001b[0m\u001b[1;33m)\u001b[0m\u001b[1;33m\u001b[0m\u001b[1;33m\u001b[0m\u001b[0m\n\u001b[0;32m     10\u001b[0m \u001b[0mxgb_cv_model\u001b[0m \u001b[1;33m=\u001b[0m \u001b[0mGridSearchCV\u001b[0m\u001b[1;33m(\u001b[0m\u001b[0mxgb\u001b[0m\u001b[1;33m,\u001b[0m \u001b[0mxgb_params\u001b[0m\u001b[1;33m,\u001b[0m \u001b[0mcv\u001b[0m \u001b[1;33m=\u001b[0m \u001b[1;36m5\u001b[0m\u001b[1;33m,\u001b[0m \u001b[0mverbose\u001b[0m \u001b[1;33m=\u001b[0m \u001b[1;36m2\u001b[0m\u001b[1;33m)\u001b[0m\u001b[1;33m\u001b[0m\u001b[1;33m\u001b[0m\u001b[0m\n\u001b[1;32m---> 11\u001b[1;33m \u001b[0mxgb_cv_model\u001b[0m\u001b[1;33m.\u001b[0m\u001b[0mfit\u001b[0m\u001b[1;33m(\u001b[0m\u001b[0mX_train2\u001b[0m\u001b[1;33m,\u001b[0m \u001b[0my_train\u001b[0m\u001b[1;33m)\u001b[0m\u001b[1;33m\u001b[0m\u001b[1;33m\u001b[0m\u001b[0m\n\u001b[0m\u001b[0;32m     12\u001b[0m \u001b[0mprint\u001b[0m\u001b[1;33m(\u001b[0m\u001b[1;34m\"The best parameters are : \"\u001b[0m\u001b[1;33m,\u001b[0m\u001b[0mxgb_cv_model\u001b[0m\u001b[1;33m.\u001b[0m\u001b[0mbest_params_\u001b[0m\u001b[1;33m)\u001b[0m\u001b[1;33m\u001b[0m\u001b[1;33m\u001b[0m\u001b[0m\n",
      "\u001b[1;32mC:\\Users\\jorda\\Anaconda3\\envs\\tf\\lib\\site-packages\\sklearn\\utils\\validation.py\u001b[0m in \u001b[0;36minner_f\u001b[1;34m(*args, **kwargs)\u001b[0m\n\u001b[0;32m     61\u001b[0m             \u001b[0mextra_args\u001b[0m \u001b[1;33m=\u001b[0m \u001b[0mlen\u001b[0m\u001b[1;33m(\u001b[0m\u001b[0margs\u001b[0m\u001b[1;33m)\u001b[0m \u001b[1;33m-\u001b[0m \u001b[0mlen\u001b[0m\u001b[1;33m(\u001b[0m\u001b[0mall_args\u001b[0m\u001b[1;33m)\u001b[0m\u001b[1;33m\u001b[0m\u001b[1;33m\u001b[0m\u001b[0m\n\u001b[0;32m     62\u001b[0m             \u001b[1;32mif\u001b[0m \u001b[0mextra_args\u001b[0m \u001b[1;33m<=\u001b[0m \u001b[1;36m0\u001b[0m\u001b[1;33m:\u001b[0m\u001b[1;33m\u001b[0m\u001b[1;33m\u001b[0m\u001b[0m\n\u001b[1;32m---> 63\u001b[1;33m                 \u001b[1;32mreturn\u001b[0m \u001b[0mf\u001b[0m\u001b[1;33m(\u001b[0m\u001b[1;33m*\u001b[0m\u001b[0margs\u001b[0m\u001b[1;33m,\u001b[0m \u001b[1;33m**\u001b[0m\u001b[0mkwargs\u001b[0m\u001b[1;33m)\u001b[0m\u001b[1;33m\u001b[0m\u001b[1;33m\u001b[0m\u001b[0m\n\u001b[0m\u001b[0;32m     64\u001b[0m \u001b[1;33m\u001b[0m\u001b[0m\n\u001b[0;32m     65\u001b[0m             \u001b[1;31m# extra_args > 0\u001b[0m\u001b[1;33m\u001b[0m\u001b[1;33m\u001b[0m\u001b[1;33m\u001b[0m\u001b[0m\n",
      "\u001b[1;32mC:\\Users\\jorda\\Anaconda3\\envs\\tf\\lib\\site-packages\\sklearn\\model_selection\\_search.py\u001b[0m in \u001b[0;36mfit\u001b[1;34m(self, X, y, groups, **fit_params)\u001b[0m\n\u001b[0;32m    839\u001b[0m                 \u001b[1;32mreturn\u001b[0m \u001b[0mresults\u001b[0m\u001b[1;33m\u001b[0m\u001b[1;33m\u001b[0m\u001b[0m\n\u001b[0;32m    840\u001b[0m \u001b[1;33m\u001b[0m\u001b[0m\n\u001b[1;32m--> 841\u001b[1;33m             \u001b[0mself\u001b[0m\u001b[1;33m.\u001b[0m\u001b[0m_run_search\u001b[0m\u001b[1;33m(\u001b[0m\u001b[0mevaluate_candidates\u001b[0m\u001b[1;33m)\u001b[0m\u001b[1;33m\u001b[0m\u001b[1;33m\u001b[0m\u001b[0m\n\u001b[0m\u001b[0;32m    842\u001b[0m \u001b[1;33m\u001b[0m\u001b[0m\n\u001b[0;32m    843\u001b[0m             \u001b[1;31m# multimetric is determined here because in the case of a callable\u001b[0m\u001b[1;33m\u001b[0m\u001b[1;33m\u001b[0m\u001b[1;33m\u001b[0m\u001b[0m\n",
      "\u001b[1;32mC:\\Users\\jorda\\Anaconda3\\envs\\tf\\lib\\site-packages\\sklearn\\model_selection\\_search.py\u001b[0m in \u001b[0;36m_run_search\u001b[1;34m(self, evaluate_candidates)\u001b[0m\n\u001b[0;32m   1286\u001b[0m     \u001b[1;32mdef\u001b[0m \u001b[0m_run_search\u001b[0m\u001b[1;33m(\u001b[0m\u001b[0mself\u001b[0m\u001b[1;33m,\u001b[0m \u001b[0mevaluate_candidates\u001b[0m\u001b[1;33m)\u001b[0m\u001b[1;33m:\u001b[0m\u001b[1;33m\u001b[0m\u001b[1;33m\u001b[0m\u001b[0m\n\u001b[0;32m   1287\u001b[0m         \u001b[1;34m\"\"\"Search all candidates in param_grid\"\"\"\u001b[0m\u001b[1;33m\u001b[0m\u001b[1;33m\u001b[0m\u001b[0m\n\u001b[1;32m-> 1288\u001b[1;33m         \u001b[0mevaluate_candidates\u001b[0m\u001b[1;33m(\u001b[0m\u001b[0mParameterGrid\u001b[0m\u001b[1;33m(\u001b[0m\u001b[0mself\u001b[0m\u001b[1;33m.\u001b[0m\u001b[0mparam_grid\u001b[0m\u001b[1;33m)\u001b[0m\u001b[1;33m)\u001b[0m\u001b[1;33m\u001b[0m\u001b[1;33m\u001b[0m\u001b[0m\n\u001b[0m\u001b[0;32m   1289\u001b[0m \u001b[1;33m\u001b[0m\u001b[0m\n\u001b[0;32m   1290\u001b[0m \u001b[1;33m\u001b[0m\u001b[0m\n",
      "\u001b[1;32mC:\\Users\\jorda\\Anaconda3\\envs\\tf\\lib\\site-packages\\sklearn\\model_selection\\_search.py\u001b[0m in \u001b[0;36mevaluate_candidates\u001b[1;34m(candidate_params, cv, more_results)\u001b[0m\n\u001b[0;32m    807\u001b[0m                                    (split_idx, (train, test)) in product(\n\u001b[0;32m    808\u001b[0m                                    \u001b[0menumerate\u001b[0m\u001b[1;33m(\u001b[0m\u001b[0mcandidate_params\u001b[0m\u001b[1;33m)\u001b[0m\u001b[1;33m,\u001b[0m\u001b[1;33m\u001b[0m\u001b[1;33m\u001b[0m\u001b[0m\n\u001b[1;32m--> 809\u001b[1;33m                                    enumerate(cv.split(X, y, groups))))\n\u001b[0m\u001b[0;32m    810\u001b[0m \u001b[1;33m\u001b[0m\u001b[0m\n\u001b[0;32m    811\u001b[0m                 \u001b[1;32mif\u001b[0m \u001b[0mlen\u001b[0m\u001b[1;33m(\u001b[0m\u001b[0mout\u001b[0m\u001b[1;33m)\u001b[0m \u001b[1;33m<\u001b[0m \u001b[1;36m1\u001b[0m\u001b[1;33m:\u001b[0m\u001b[1;33m\u001b[0m\u001b[1;33m\u001b[0m\u001b[0m\n",
      "\u001b[1;32mC:\\Users\\jorda\\Anaconda3\\envs\\tf\\lib\\site-packages\\joblib\\parallel.py\u001b[0m in \u001b[0;36m__call__\u001b[1;34m(self, iterable)\u001b[0m\n\u001b[0;32m   1042\u001b[0m                 \u001b[0mself\u001b[0m\u001b[1;33m.\u001b[0m\u001b[0m_iterating\u001b[0m \u001b[1;33m=\u001b[0m \u001b[0mself\u001b[0m\u001b[1;33m.\u001b[0m\u001b[0m_original_iterator\u001b[0m \u001b[1;32mis\u001b[0m \u001b[1;32mnot\u001b[0m \u001b[1;32mNone\u001b[0m\u001b[1;33m\u001b[0m\u001b[1;33m\u001b[0m\u001b[0m\n\u001b[0;32m   1043\u001b[0m \u001b[1;33m\u001b[0m\u001b[0m\n\u001b[1;32m-> 1044\u001b[1;33m             \u001b[1;32mwhile\u001b[0m \u001b[0mself\u001b[0m\u001b[1;33m.\u001b[0m\u001b[0mdispatch_one_batch\u001b[0m\u001b[1;33m(\u001b[0m\u001b[0miterator\u001b[0m\u001b[1;33m)\u001b[0m\u001b[1;33m:\u001b[0m\u001b[1;33m\u001b[0m\u001b[1;33m\u001b[0m\u001b[0m\n\u001b[0m\u001b[0;32m   1045\u001b[0m                 \u001b[1;32mpass\u001b[0m\u001b[1;33m\u001b[0m\u001b[1;33m\u001b[0m\u001b[0m\n\u001b[0;32m   1046\u001b[0m \u001b[1;33m\u001b[0m\u001b[0m\n",
      "\u001b[1;32mC:\\Users\\jorda\\Anaconda3\\envs\\tf\\lib\\site-packages\\joblib\\parallel.py\u001b[0m in \u001b[0;36mdispatch_one_batch\u001b[1;34m(self, iterator)\u001b[0m\n\u001b[0;32m    857\u001b[0m                 \u001b[1;32mreturn\u001b[0m \u001b[1;32mFalse\u001b[0m\u001b[1;33m\u001b[0m\u001b[1;33m\u001b[0m\u001b[0m\n\u001b[0;32m    858\u001b[0m             \u001b[1;32melse\u001b[0m\u001b[1;33m:\u001b[0m\u001b[1;33m\u001b[0m\u001b[1;33m\u001b[0m\u001b[0m\n\u001b[1;32m--> 859\u001b[1;33m                 \u001b[0mself\u001b[0m\u001b[1;33m.\u001b[0m\u001b[0m_dispatch\u001b[0m\u001b[1;33m(\u001b[0m\u001b[0mtasks\u001b[0m\u001b[1;33m)\u001b[0m\u001b[1;33m\u001b[0m\u001b[1;33m\u001b[0m\u001b[0m\n\u001b[0m\u001b[0;32m    860\u001b[0m                 \u001b[1;32mreturn\u001b[0m \u001b[1;32mTrue\u001b[0m\u001b[1;33m\u001b[0m\u001b[1;33m\u001b[0m\u001b[0m\n\u001b[0;32m    861\u001b[0m \u001b[1;33m\u001b[0m\u001b[0m\n",
      "\u001b[1;32mC:\\Users\\jorda\\Anaconda3\\envs\\tf\\lib\\site-packages\\joblib\\parallel.py\u001b[0m in \u001b[0;36m_dispatch\u001b[1;34m(self, batch)\u001b[0m\n\u001b[0;32m    775\u001b[0m         \u001b[1;32mwith\u001b[0m \u001b[0mself\u001b[0m\u001b[1;33m.\u001b[0m\u001b[0m_lock\u001b[0m\u001b[1;33m:\u001b[0m\u001b[1;33m\u001b[0m\u001b[1;33m\u001b[0m\u001b[0m\n\u001b[0;32m    776\u001b[0m             \u001b[0mjob_idx\u001b[0m \u001b[1;33m=\u001b[0m \u001b[0mlen\u001b[0m\u001b[1;33m(\u001b[0m\u001b[0mself\u001b[0m\u001b[1;33m.\u001b[0m\u001b[0m_jobs\u001b[0m\u001b[1;33m)\u001b[0m\u001b[1;33m\u001b[0m\u001b[1;33m\u001b[0m\u001b[0m\n\u001b[1;32m--> 777\u001b[1;33m             \u001b[0mjob\u001b[0m \u001b[1;33m=\u001b[0m \u001b[0mself\u001b[0m\u001b[1;33m.\u001b[0m\u001b[0m_backend\u001b[0m\u001b[1;33m.\u001b[0m\u001b[0mapply_async\u001b[0m\u001b[1;33m(\u001b[0m\u001b[0mbatch\u001b[0m\u001b[1;33m,\u001b[0m \u001b[0mcallback\u001b[0m\u001b[1;33m=\u001b[0m\u001b[0mcb\u001b[0m\u001b[1;33m)\u001b[0m\u001b[1;33m\u001b[0m\u001b[1;33m\u001b[0m\u001b[0m\n\u001b[0m\u001b[0;32m    778\u001b[0m             \u001b[1;31m# A job can complete so quickly than its callback is\u001b[0m\u001b[1;33m\u001b[0m\u001b[1;33m\u001b[0m\u001b[1;33m\u001b[0m\u001b[0m\n\u001b[0;32m    779\u001b[0m             \u001b[1;31m# called before we get here, causing self._jobs to\u001b[0m\u001b[1;33m\u001b[0m\u001b[1;33m\u001b[0m\u001b[1;33m\u001b[0m\u001b[0m\n",
      "\u001b[1;32mC:\\Users\\jorda\\Anaconda3\\envs\\tf\\lib\\site-packages\\joblib\\_parallel_backends.py\u001b[0m in \u001b[0;36mapply_async\u001b[1;34m(self, func, callback)\u001b[0m\n\u001b[0;32m    206\u001b[0m     \u001b[1;32mdef\u001b[0m \u001b[0mapply_async\u001b[0m\u001b[1;33m(\u001b[0m\u001b[0mself\u001b[0m\u001b[1;33m,\u001b[0m \u001b[0mfunc\u001b[0m\u001b[1;33m,\u001b[0m \u001b[0mcallback\u001b[0m\u001b[1;33m=\u001b[0m\u001b[1;32mNone\u001b[0m\u001b[1;33m)\u001b[0m\u001b[1;33m:\u001b[0m\u001b[1;33m\u001b[0m\u001b[1;33m\u001b[0m\u001b[0m\n\u001b[0;32m    207\u001b[0m         \u001b[1;34m\"\"\"Schedule a func to be run\"\"\"\u001b[0m\u001b[1;33m\u001b[0m\u001b[1;33m\u001b[0m\u001b[0m\n\u001b[1;32m--> 208\u001b[1;33m         \u001b[0mresult\u001b[0m \u001b[1;33m=\u001b[0m \u001b[0mImmediateResult\u001b[0m\u001b[1;33m(\u001b[0m\u001b[0mfunc\u001b[0m\u001b[1;33m)\u001b[0m\u001b[1;33m\u001b[0m\u001b[1;33m\u001b[0m\u001b[0m\n\u001b[0m\u001b[0;32m    209\u001b[0m         \u001b[1;32mif\u001b[0m \u001b[0mcallback\u001b[0m\u001b[1;33m:\u001b[0m\u001b[1;33m\u001b[0m\u001b[1;33m\u001b[0m\u001b[0m\n\u001b[0;32m    210\u001b[0m             \u001b[0mcallback\u001b[0m\u001b[1;33m(\u001b[0m\u001b[0mresult\u001b[0m\u001b[1;33m)\u001b[0m\u001b[1;33m\u001b[0m\u001b[1;33m\u001b[0m\u001b[0m\n",
      "\u001b[1;32mC:\\Users\\jorda\\Anaconda3\\envs\\tf\\lib\\site-packages\\joblib\\_parallel_backends.py\u001b[0m in \u001b[0;36m__init__\u001b[1;34m(self, batch)\u001b[0m\n\u001b[0;32m    570\u001b[0m         \u001b[1;31m# Don't delay the application, to avoid keeping the input\u001b[0m\u001b[1;33m\u001b[0m\u001b[1;33m\u001b[0m\u001b[1;33m\u001b[0m\u001b[0m\n\u001b[0;32m    571\u001b[0m         \u001b[1;31m# arguments in memory\u001b[0m\u001b[1;33m\u001b[0m\u001b[1;33m\u001b[0m\u001b[1;33m\u001b[0m\u001b[0m\n\u001b[1;32m--> 572\u001b[1;33m         \u001b[0mself\u001b[0m\u001b[1;33m.\u001b[0m\u001b[0mresults\u001b[0m \u001b[1;33m=\u001b[0m \u001b[0mbatch\u001b[0m\u001b[1;33m(\u001b[0m\u001b[1;33m)\u001b[0m\u001b[1;33m\u001b[0m\u001b[1;33m\u001b[0m\u001b[0m\n\u001b[0m\u001b[0;32m    573\u001b[0m \u001b[1;33m\u001b[0m\u001b[0m\n\u001b[0;32m    574\u001b[0m     \u001b[1;32mdef\u001b[0m \u001b[0mget\u001b[0m\u001b[1;33m(\u001b[0m\u001b[0mself\u001b[0m\u001b[1;33m)\u001b[0m\u001b[1;33m:\u001b[0m\u001b[1;33m\u001b[0m\u001b[1;33m\u001b[0m\u001b[0m\n",
      "\u001b[1;32mC:\\Users\\jorda\\Anaconda3\\envs\\tf\\lib\\site-packages\\joblib\\parallel.py\u001b[0m in \u001b[0;36m__call__\u001b[1;34m(self)\u001b[0m\n\u001b[0;32m    261\u001b[0m         \u001b[1;32mwith\u001b[0m \u001b[0mparallel_backend\u001b[0m\u001b[1;33m(\u001b[0m\u001b[0mself\u001b[0m\u001b[1;33m.\u001b[0m\u001b[0m_backend\u001b[0m\u001b[1;33m,\u001b[0m \u001b[0mn_jobs\u001b[0m\u001b[1;33m=\u001b[0m\u001b[0mself\u001b[0m\u001b[1;33m.\u001b[0m\u001b[0m_n_jobs\u001b[0m\u001b[1;33m)\u001b[0m\u001b[1;33m:\u001b[0m\u001b[1;33m\u001b[0m\u001b[1;33m\u001b[0m\u001b[0m\n\u001b[0;32m    262\u001b[0m             return [func(*args, **kwargs)\n\u001b[1;32m--> 263\u001b[1;33m                     for func, args, kwargs in self.items]\n\u001b[0m\u001b[0;32m    264\u001b[0m \u001b[1;33m\u001b[0m\u001b[0m\n\u001b[0;32m    265\u001b[0m     \u001b[1;32mdef\u001b[0m \u001b[0m__reduce__\u001b[0m\u001b[1;33m(\u001b[0m\u001b[0mself\u001b[0m\u001b[1;33m)\u001b[0m\u001b[1;33m:\u001b[0m\u001b[1;33m\u001b[0m\u001b[1;33m\u001b[0m\u001b[0m\n",
      "\u001b[1;32mC:\\Users\\jorda\\Anaconda3\\envs\\tf\\lib\\site-packages\\joblib\\parallel.py\u001b[0m in \u001b[0;36m<listcomp>\u001b[1;34m(.0)\u001b[0m\n\u001b[0;32m    261\u001b[0m         \u001b[1;32mwith\u001b[0m \u001b[0mparallel_backend\u001b[0m\u001b[1;33m(\u001b[0m\u001b[0mself\u001b[0m\u001b[1;33m.\u001b[0m\u001b[0m_backend\u001b[0m\u001b[1;33m,\u001b[0m \u001b[0mn_jobs\u001b[0m\u001b[1;33m=\u001b[0m\u001b[0mself\u001b[0m\u001b[1;33m.\u001b[0m\u001b[0m_n_jobs\u001b[0m\u001b[1;33m)\u001b[0m\u001b[1;33m:\u001b[0m\u001b[1;33m\u001b[0m\u001b[1;33m\u001b[0m\u001b[0m\n\u001b[0;32m    262\u001b[0m             return [func(*args, **kwargs)\n\u001b[1;32m--> 263\u001b[1;33m                     for func, args, kwargs in self.items]\n\u001b[0m\u001b[0;32m    264\u001b[0m \u001b[1;33m\u001b[0m\u001b[0m\n\u001b[0;32m    265\u001b[0m     \u001b[1;32mdef\u001b[0m \u001b[0m__reduce__\u001b[0m\u001b[1;33m(\u001b[0m\u001b[0mself\u001b[0m\u001b[1;33m)\u001b[0m\u001b[1;33m:\u001b[0m\u001b[1;33m\u001b[0m\u001b[1;33m\u001b[0m\u001b[0m\n",
      "\u001b[1;32mC:\\Users\\jorda\\Anaconda3\\envs\\tf\\lib\\site-packages\\sklearn\\utils\\fixes.py\u001b[0m in \u001b[0;36m__call__\u001b[1;34m(self, *args, **kwargs)\u001b[0m\n\u001b[0;32m    220\u001b[0m     \u001b[1;32mdef\u001b[0m \u001b[0m__call__\u001b[0m\u001b[1;33m(\u001b[0m\u001b[0mself\u001b[0m\u001b[1;33m,\u001b[0m \u001b[1;33m*\u001b[0m\u001b[0margs\u001b[0m\u001b[1;33m,\u001b[0m \u001b[1;33m**\u001b[0m\u001b[0mkwargs\u001b[0m\u001b[1;33m)\u001b[0m\u001b[1;33m:\u001b[0m\u001b[1;33m\u001b[0m\u001b[1;33m\u001b[0m\u001b[0m\n\u001b[0;32m    221\u001b[0m         \u001b[1;32mwith\u001b[0m \u001b[0mconfig_context\u001b[0m\u001b[1;33m(\u001b[0m\u001b[1;33m**\u001b[0m\u001b[0mself\u001b[0m\u001b[1;33m.\u001b[0m\u001b[0mconfig\u001b[0m\u001b[1;33m)\u001b[0m\u001b[1;33m:\u001b[0m\u001b[1;33m\u001b[0m\u001b[1;33m\u001b[0m\u001b[0m\n\u001b[1;32m--> 222\u001b[1;33m             \u001b[1;32mreturn\u001b[0m \u001b[0mself\u001b[0m\u001b[1;33m.\u001b[0m\u001b[0mfunction\u001b[0m\u001b[1;33m(\u001b[0m\u001b[1;33m*\u001b[0m\u001b[0margs\u001b[0m\u001b[1;33m,\u001b[0m \u001b[1;33m**\u001b[0m\u001b[0mkwargs\u001b[0m\u001b[1;33m)\u001b[0m\u001b[1;33m\u001b[0m\u001b[1;33m\u001b[0m\u001b[0m\n\u001b[0m",
      "\u001b[1;32mC:\\Users\\jorda\\Anaconda3\\envs\\tf\\lib\\site-packages\\sklearn\\model_selection\\_validation.py\u001b[0m in \u001b[0;36m_fit_and_score\u001b[1;34m(estimator, X, y, scorer, train, test, verbose, parameters, fit_params, return_train_score, return_parameters, return_n_test_samples, return_times, return_estimator, split_progress, candidate_progress, error_score)\u001b[0m\n\u001b[0;32m    591\u001b[0m             \u001b[0mestimator\u001b[0m\u001b[1;33m.\u001b[0m\u001b[0mfit\u001b[0m\u001b[1;33m(\u001b[0m\u001b[0mX_train\u001b[0m\u001b[1;33m,\u001b[0m \u001b[1;33m**\u001b[0m\u001b[0mfit_params\u001b[0m\u001b[1;33m)\u001b[0m\u001b[1;33m\u001b[0m\u001b[1;33m\u001b[0m\u001b[0m\n\u001b[0;32m    592\u001b[0m         \u001b[1;32melse\u001b[0m\u001b[1;33m:\u001b[0m\u001b[1;33m\u001b[0m\u001b[1;33m\u001b[0m\u001b[0m\n\u001b[1;32m--> 593\u001b[1;33m             \u001b[0mestimator\u001b[0m\u001b[1;33m.\u001b[0m\u001b[0mfit\u001b[0m\u001b[1;33m(\u001b[0m\u001b[0mX_train\u001b[0m\u001b[1;33m,\u001b[0m \u001b[0my_train\u001b[0m\u001b[1;33m,\u001b[0m \u001b[1;33m**\u001b[0m\u001b[0mfit_params\u001b[0m\u001b[1;33m)\u001b[0m\u001b[1;33m\u001b[0m\u001b[1;33m\u001b[0m\u001b[0m\n\u001b[0m\u001b[0;32m    594\u001b[0m \u001b[1;33m\u001b[0m\u001b[0m\n\u001b[0;32m    595\u001b[0m     \u001b[1;32mexcept\u001b[0m \u001b[0mException\u001b[0m \u001b[1;32mas\u001b[0m \u001b[0me\u001b[0m\u001b[1;33m:\u001b[0m\u001b[1;33m\u001b[0m\u001b[1;33m\u001b[0m\u001b[0m\n",
      "\u001b[1;32mC:\\Users\\jorda\\Anaconda3\\envs\\tf\\lib\\site-packages\\xgboost\\core.py\u001b[0m in \u001b[0;36minner_f\u001b[1;34m(*args, **kwargs)\u001b[0m\n\u001b[0;32m    420\u001b[0m         \u001b[1;32mfor\u001b[0m \u001b[0mk\u001b[0m\u001b[1;33m,\u001b[0m \u001b[0marg\u001b[0m \u001b[1;32min\u001b[0m \u001b[0mzip\u001b[0m\u001b[1;33m(\u001b[0m\u001b[0msig\u001b[0m\u001b[1;33m.\u001b[0m\u001b[0mparameters\u001b[0m\u001b[1;33m,\u001b[0m \u001b[0margs\u001b[0m\u001b[1;33m)\u001b[0m\u001b[1;33m:\u001b[0m\u001b[1;33m\u001b[0m\u001b[1;33m\u001b[0m\u001b[0m\n\u001b[0;32m    421\u001b[0m             \u001b[0mkwargs\u001b[0m\u001b[1;33m[\u001b[0m\u001b[0mk\u001b[0m\u001b[1;33m]\u001b[0m \u001b[1;33m=\u001b[0m \u001b[0marg\u001b[0m\u001b[1;33m\u001b[0m\u001b[1;33m\u001b[0m\u001b[0m\n\u001b[1;32m--> 422\u001b[1;33m         \u001b[1;32mreturn\u001b[0m \u001b[0mf\u001b[0m\u001b[1;33m(\u001b[0m\u001b[1;33m**\u001b[0m\u001b[0mkwargs\u001b[0m\u001b[1;33m)\u001b[0m\u001b[1;33m\u001b[0m\u001b[1;33m\u001b[0m\u001b[0m\n\u001b[0m\u001b[0;32m    423\u001b[0m \u001b[1;33m\u001b[0m\u001b[0m\n\u001b[0;32m    424\u001b[0m     \u001b[1;32mreturn\u001b[0m \u001b[0minner_f\u001b[0m\u001b[1;33m\u001b[0m\u001b[1;33m\u001b[0m\u001b[0m\n",
      "\u001b[1;32mC:\\Users\\jorda\\Anaconda3\\envs\\tf\\lib\\site-packages\\xgboost\\sklearn.py\u001b[0m in \u001b[0;36mfit\u001b[1;34m(self, X, y, sample_weight, base_margin, eval_set, eval_metric, early_stopping_rounds, verbose, xgb_model, sample_weight_eval_set, feature_weights, callbacks)\u001b[0m\n\u001b[0;32m    913\u001b[0m                               \u001b[0mevals_result\u001b[0m\u001b[1;33m=\u001b[0m\u001b[0mevals_result\u001b[0m\u001b[1;33m,\u001b[0m \u001b[0mobj\u001b[0m\u001b[1;33m=\u001b[0m\u001b[0mobj\u001b[0m\u001b[1;33m,\u001b[0m \u001b[0mfeval\u001b[0m\u001b[1;33m=\u001b[0m\u001b[0mfeval\u001b[0m\u001b[1;33m,\u001b[0m\u001b[1;33m\u001b[0m\u001b[1;33m\u001b[0m\u001b[0m\n\u001b[0;32m    914\u001b[0m                               \u001b[0mverbose_eval\u001b[0m\u001b[1;33m=\u001b[0m\u001b[0mverbose\u001b[0m\u001b[1;33m,\u001b[0m \u001b[0mxgb_model\u001b[0m\u001b[1;33m=\u001b[0m\u001b[0mxgb_model\u001b[0m\u001b[1;33m,\u001b[0m\u001b[1;33m\u001b[0m\u001b[1;33m\u001b[0m\u001b[0m\n\u001b[1;32m--> 915\u001b[1;33m                               callbacks=callbacks)\n\u001b[0m\u001b[0;32m    916\u001b[0m \u001b[1;33m\u001b[0m\u001b[0m\n\u001b[0;32m    917\u001b[0m         \u001b[0mself\u001b[0m\u001b[1;33m.\u001b[0m\u001b[0mobjective\u001b[0m \u001b[1;33m=\u001b[0m \u001b[0mxgb_options\u001b[0m\u001b[1;33m[\u001b[0m\u001b[1;34m\"objective\"\u001b[0m\u001b[1;33m]\u001b[0m\u001b[1;33m\u001b[0m\u001b[1;33m\u001b[0m\u001b[0m\n",
      "\u001b[1;32mC:\\Users\\jorda\\Anaconda3\\envs\\tf\\lib\\site-packages\\xgboost\\training.py\u001b[0m in \u001b[0;36mtrain\u001b[1;34m(params, dtrain, num_boost_round, evals, obj, feval, maximize, early_stopping_rounds, evals_result, verbose_eval, xgb_model, callbacks)\u001b[0m\n\u001b[0;32m    233\u001b[0m                           \u001b[0mevals_result\u001b[0m\u001b[1;33m=\u001b[0m\u001b[0mevals_result\u001b[0m\u001b[1;33m,\u001b[0m\u001b[1;33m\u001b[0m\u001b[1;33m\u001b[0m\u001b[0m\n\u001b[0;32m    234\u001b[0m                           \u001b[0mmaximize\u001b[0m\u001b[1;33m=\u001b[0m\u001b[0mmaximize\u001b[0m\u001b[1;33m,\u001b[0m\u001b[1;33m\u001b[0m\u001b[1;33m\u001b[0m\u001b[0m\n\u001b[1;32m--> 235\u001b[1;33m                           early_stopping_rounds=early_stopping_rounds)\n\u001b[0m\u001b[0;32m    236\u001b[0m     \u001b[1;32mreturn\u001b[0m \u001b[0mbst\u001b[0m\u001b[1;33m\u001b[0m\u001b[1;33m\u001b[0m\u001b[0m\n\u001b[0;32m    237\u001b[0m \u001b[1;33m\u001b[0m\u001b[0m\n",
      "\u001b[1;32mC:\\Users\\jorda\\Anaconda3\\envs\\tf\\lib\\site-packages\\xgboost\\training.py\u001b[0m in \u001b[0;36m_train_internal\u001b[1;34m(params, dtrain, num_boost_round, evals, obj, feval, xgb_model, callbacks, evals_result, maximize, verbose_eval, early_stopping_rounds)\u001b[0m\n\u001b[0;32m    100\u001b[0m         \u001b[1;31m# Skip the first update if it is a recovery step.\u001b[0m\u001b[1;33m\u001b[0m\u001b[1;33m\u001b[0m\u001b[1;33m\u001b[0m\u001b[0m\n\u001b[0;32m    101\u001b[0m         \u001b[1;32mif\u001b[0m \u001b[0mversion\u001b[0m \u001b[1;33m%\u001b[0m \u001b[1;36m2\u001b[0m \u001b[1;33m==\u001b[0m \u001b[1;36m0\u001b[0m\u001b[1;33m:\u001b[0m\u001b[1;33m\u001b[0m\u001b[1;33m\u001b[0m\u001b[0m\n\u001b[1;32m--> 102\u001b[1;33m             \u001b[0mbst\u001b[0m\u001b[1;33m.\u001b[0m\u001b[0mupdate\u001b[0m\u001b[1;33m(\u001b[0m\u001b[0mdtrain\u001b[0m\u001b[1;33m,\u001b[0m \u001b[0mi\u001b[0m\u001b[1;33m,\u001b[0m \u001b[0mobj\u001b[0m\u001b[1;33m)\u001b[0m\u001b[1;33m\u001b[0m\u001b[1;33m\u001b[0m\u001b[0m\n\u001b[0m\u001b[0;32m    103\u001b[0m             \u001b[0mbst\u001b[0m\u001b[1;33m.\u001b[0m\u001b[0msave_rabit_checkpoint\u001b[0m\u001b[1;33m(\u001b[0m\u001b[1;33m)\u001b[0m\u001b[1;33m\u001b[0m\u001b[1;33m\u001b[0m\u001b[0m\n\u001b[0;32m    104\u001b[0m             \u001b[0mversion\u001b[0m \u001b[1;33m+=\u001b[0m \u001b[1;36m1\u001b[0m\u001b[1;33m\u001b[0m\u001b[1;33m\u001b[0m\u001b[0m\n",
      "\u001b[1;32mC:\\Users\\jorda\\Anaconda3\\envs\\tf\\lib\\site-packages\\xgboost\\core.py\u001b[0m in \u001b[0;36mupdate\u001b[1;34m(self, dtrain, iteration, fobj)\u001b[0m\n\u001b[0;32m   1280\u001b[0m             _check_call(_LIB.XGBoosterUpdateOneIter(self.handle,\n\u001b[0;32m   1281\u001b[0m                                                     \u001b[0mctypes\u001b[0m\u001b[1;33m.\u001b[0m\u001b[0mc_int\u001b[0m\u001b[1;33m(\u001b[0m\u001b[0miteration\u001b[0m\u001b[1;33m)\u001b[0m\u001b[1;33m,\u001b[0m\u001b[1;33m\u001b[0m\u001b[1;33m\u001b[0m\u001b[0m\n\u001b[1;32m-> 1282\u001b[1;33m                                                     dtrain.handle))\n\u001b[0m\u001b[0;32m   1283\u001b[0m         \u001b[1;32melse\u001b[0m\u001b[1;33m:\u001b[0m\u001b[1;33m\u001b[0m\u001b[1;33m\u001b[0m\u001b[0m\n\u001b[0;32m   1284\u001b[0m             \u001b[0mpred\u001b[0m \u001b[1;33m=\u001b[0m \u001b[0mself\u001b[0m\u001b[1;33m.\u001b[0m\u001b[0mpredict\u001b[0m\u001b[1;33m(\u001b[0m\u001b[0mdtrain\u001b[0m\u001b[1;33m,\u001b[0m \u001b[0moutput_margin\u001b[0m\u001b[1;33m=\u001b[0m\u001b[1;32mTrue\u001b[0m\u001b[1;33m,\u001b[0m \u001b[0mtraining\u001b[0m\u001b[1;33m=\u001b[0m\u001b[1;32mTrue\u001b[0m\u001b[1;33m)\u001b[0m\u001b[1;33m\u001b[0m\u001b[1;33m\u001b[0m\u001b[0m\n",
      "\u001b[1;31mKeyboardInterrupt\u001b[0m: "
     ]
    }
   ],
   "source": [
    "# let's try the most powerful classifier\n",
    "from xgboost.sklearn import XGBClassifier\n",
    "from sklearn.model_selection import GridSearchCV\n",
    "\n",
    "xgb_params = {'n_estimators': [100, 500, 1000],\n",
    "              'subsample': [0.6, 0.8, 1.0],\n",
    "              'max_depth': [3, 4, 5,6],\n",
    "              'learning_rate': [0.1,0.01,0.02,0.05]}\n",
    "xgb = XGBClassifier(tree_method = 'gpu_hist',predictor='gpu_predictor')\n",
    "xgb_cv_model = GridSearchCV(xgb, xgb_params, cv = 5, verbose = 2)\n",
    "xgb_cv_model.fit(X_train2, y_train)\n",
    "print(\"The best parameters are : \",xgb_cv_model.best_params_)\n"
   ]
  },
  {
   "cell_type": "code",
   "execution_count": null,
   "metadata": {},
   "outputs": [],
   "source": [
    "xgb = XGBClassifier(learning_rate = xgb_cv_model.best_params_['learning_rate'], \n",
    "                    max_depth = xgb_cv_model.best_params_['max_depth'], \n",
    "                    n_estimators = xgb_cv_model.best_params_['n_estimators'], \n",
    "                    subsample = xgb_cv_model.best_params_['subsample'],\n",
    "                    tree_method = 'gpu_hist',predictor='gpu_predictor')\n",
    "\n",
    "xgb_tuned =  xgb.fit(X_train2,y_train)\n",
    "y_pred = xgb_tuned.predict(X_test2)"
   ]
  }
 ],
 "metadata": {
  "colab": {
   "authorship_tag": "ABX9TyPcyNuTJcplvsJOg+nm4Tuc",
   "collapsed_sections": [],
   "name": "Preliminary Analysis on Churn Data.ipynb",
   "provenance": []
  },
  "kernelspec": {
   "display_name": "Python 3",
   "language": "python",
   "name": "python3"
  },
  "language_info": {
   "codemirror_mode": {
    "name": "ipython",
    "version": 3
   },
   "file_extension": ".py",
   "mimetype": "text/x-python",
   "name": "python",
   "nbconvert_exporter": "python",
   "pygments_lexer": "ipython3",
   "version": "3.6.12"
  },
  "toc": {
   "base_numbering": 1,
   "nav_menu": {},
   "number_sections": true,
   "sideBar": true,
   "skip_h1_title": false,
   "title_cell": "Table of Contents",
   "title_sidebar": "Contents",
   "toc_cell": false,
   "toc_position": {},
   "toc_section_display": true,
   "toc_window_display": true
  }
 },
 "nbformat": 4,
 "nbformat_minor": 1
}
