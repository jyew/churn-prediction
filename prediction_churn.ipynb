{
 "cells": [
  {
   "cell_type": "code",
   "execution_count": 45,
   "metadata": {
    "ExecuteTime": {
     "end_time": "2021-04-11T06:12:13.316349Z",
     "start_time": "2021-04-11T06:12:13.300417Z"
    },
    "executionInfo": {
     "elapsed": 4146,
     "status": "ok",
     "timestamp": 1617875047590,
     "user": {
      "displayName": "Jordan Yew",
      "photoUrl": "https://lh3.googleusercontent.com/a-/AOh14GgwpEx4k9brsKgMmLEvzOk6fZnaqtVUqztWKK1qGA=s64",
      "userId": "04296311432662961392"
     },
     "user_tz": -480
    },
    "id": "-j8zGCca3Afo"
   },
   "outputs": [],
   "source": [
    "%matplotlib inline\n",
    "import pandas as pd\n",
    "import numpy as np\n",
    "import matplotlib.pyplot as plt\n",
    "import seaborn as sns\n",
    "\n",
    "from sklearn.preprocessing import OneHotEncoder\n",
    "from sklearn.preprocessing import LabelEncoder\n",
    "\n",
    "pd.set_option('display.max_columns', None)\n",
    "# pd.set_option('display.max_rows', None)\n",
    "pd.set_option('precision', 3)\n",
    "np.set_printoptions(suppress=True, precision = 3)"
   ]
  },
  {
   "cell_type": "code",
   "execution_count": 2,
   "metadata": {
    "ExecuteTime": {
     "end_time": "2021-04-11T05:50:32.357666Z",
     "start_time": "2021-04-11T05:50:32.034199Z"
    },
    "executionInfo": {
     "elapsed": 2196,
     "status": "ok",
     "timestamp": 1617876508781,
     "user": {
      "displayName": "Jordan Yew",
      "photoUrl": "https://lh3.googleusercontent.com/a-/AOh14GgwpEx4k9brsKgMmLEvzOk6fZnaqtVUqztWKK1qGA=s64",
      "userId": "04296311432662961392"
     },
     "user_tz": -480
    },
    "id": "rAxhjSm43dSW"
   },
   "outputs": [],
   "source": [
    "training_data = pd.read_csv('./Data/cell2celltrain.csv')\n",
    "testting_data = pd.read_csv('./Data/cell2cellholdout.csv')"
   ]
  },
  {
   "cell_type": "code",
   "execution_count": 3,
   "metadata": {
    "ExecuteTime": {
     "end_time": "2021-04-11T05:50:32.591829Z",
     "start_time": "2021-04-11T05:50:32.512925Z"
    },
    "colab": {
     "base_uri": "https://localhost:8080/",
     "height": 224
    },
    "executionInfo": {
     "elapsed": 850,
     "status": "ok",
     "timestamp": 1617876543498,
     "user": {
      "displayName": "Jordan Yew",
      "photoUrl": "https://lh3.googleusercontent.com/a-/AOh14GgwpEx4k9brsKgMmLEvzOk6fZnaqtVUqztWKK1qGA=s64",
      "userId": "04296311432662961392"
     },
     "user_tz": -480
    },
    "id": "Z0Au3hS35qFA",
    "outputId": "836b1fd9-8ce3-400b-df9c-10bb6cb160cf"
   },
   "outputs": [
    {
     "name": "stdout",
     "output_type": "stream",
     "text": [
      "<class 'pandas.core.frame.DataFrame'>\n",
      "RangeIndex: 51047 entries, 0 to 51046\n",
      "Data columns (total 58 columns):\n",
      " #   Column                     Non-Null Count  Dtype  \n",
      "---  ------                     --------------  -----  \n",
      " 0   CustomerID                 51047 non-null  int64  \n",
      " 1   Churn                      51047 non-null  object \n",
      " 2   MonthlyRevenue             50891 non-null  float64\n",
      " 3   MonthlyMinutes             50891 non-null  float64\n",
      " 4   TotalRecurringCharge       50891 non-null  float64\n",
      " 5   DirectorAssistedCalls      50891 non-null  float64\n",
      " 6   OverageMinutes             50891 non-null  float64\n",
      " 7   RoamingCalls               50891 non-null  float64\n",
      " 8   PercChangeMinutes          50680 non-null  float64\n",
      " 9   PercChangeRevenues         50680 non-null  float64\n",
      " 10  DroppedCalls               51047 non-null  float64\n",
      " 11  BlockedCalls               51047 non-null  float64\n",
      " 12  UnansweredCalls            51047 non-null  float64\n",
      " 13  CustomerCareCalls          51047 non-null  float64\n",
      " 14  ThreewayCalls              51047 non-null  float64\n",
      " 15  ReceivedCalls              51047 non-null  float64\n",
      " 16  OutboundCalls              51047 non-null  float64\n",
      " 17  InboundCalls               51047 non-null  float64\n",
      " 18  PeakCallsInOut             51047 non-null  float64\n",
      " 19  OffPeakCallsInOut          51047 non-null  float64\n",
      " 20  DroppedBlockedCalls        51047 non-null  float64\n",
      " 21  CallForwardingCalls        51047 non-null  float64\n",
      " 22  CallWaitingCalls           51047 non-null  float64\n",
      " 23  MonthsInService            51047 non-null  int64  \n",
      " 24  UniqueSubs                 51047 non-null  int64  \n",
      " 25  ActiveSubs                 51047 non-null  int64  \n",
      " 26  ServiceArea                51023 non-null  object \n",
      " 27  Handsets                   51046 non-null  float64\n",
      " 28  HandsetModels              51046 non-null  float64\n",
      " 29  CurrentEquipmentDays       51046 non-null  float64\n",
      " 30  AgeHH1                     50138 non-null  float64\n",
      " 31  AgeHH2                     50138 non-null  float64\n",
      " 32  ChildrenInHH               51047 non-null  object \n",
      " 33  HandsetRefurbished         51047 non-null  object \n",
      " 34  HandsetWebCapable          51047 non-null  object \n",
      " 35  TruckOwner                 51047 non-null  object \n",
      " 36  RVOwner                    51047 non-null  object \n",
      " 37  Homeownership              51047 non-null  object \n",
      " 38  BuysViaMailOrder           51047 non-null  object \n",
      " 39  RespondsToMailOffers       51047 non-null  object \n",
      " 40  OptOutMailings             51047 non-null  object \n",
      " 41  NonUSTravel                51047 non-null  object \n",
      " 42  OwnsComputer               51047 non-null  object \n",
      " 43  HasCreditCard              51047 non-null  object \n",
      " 44  RetentionCalls             51047 non-null  int64  \n",
      " 45  RetentionOffersAccepted    51047 non-null  int64  \n",
      " 46  NewCellphoneUser           51047 non-null  object \n",
      " 47  NotNewCellphoneUser        51047 non-null  object \n",
      " 48  ReferralsMadeBySubscriber  51047 non-null  int64  \n",
      " 49  IncomeGroup                51047 non-null  int64  \n",
      " 50  OwnsMotorcycle             51047 non-null  object \n",
      " 51  AdjustmentsToCreditRating  51047 non-null  int64  \n",
      " 52  HandsetPrice               51047 non-null  object \n",
      " 53  MadeCallToRetentionTeam    51047 non-null  object \n",
      " 54  CreditRating               51047 non-null  object \n",
      " 55  PrizmCode                  51047 non-null  object \n",
      " 56  Occupation                 51047 non-null  object \n",
      " 57  MaritalStatus              51047 non-null  object \n",
      "dtypes: float64(26), int64(9), object(23)\n",
      "memory usage: 22.6+ MB\n"
     ]
    }
   ],
   "source": [
    "df = training_data.copy()\n",
    "df.info()"
   ]
  },
  {
   "cell_type": "markdown",
   "metadata": {},
   "source": [
    "We have 51k rows of data here and 57 columns!"
   ]
  },
  {
   "cell_type": "code",
   "execution_count": 4,
   "metadata": {
    "ExecuteTime": {
     "end_time": "2021-04-11T05:50:33.328277Z",
     "start_time": "2021-04-11T05:50:33.294354Z"
    }
   },
   "outputs": [
    {
     "data": {
      "text/html": [
       "<div>\n",
       "<style scoped>\n",
       "    .dataframe tbody tr th:only-of-type {\n",
       "        vertical-align: middle;\n",
       "    }\n",
       "\n",
       "    .dataframe tbody tr th {\n",
       "        vertical-align: top;\n",
       "    }\n",
       "\n",
       "    .dataframe thead th {\n",
       "        text-align: right;\n",
       "    }\n",
       "</style>\n",
       "<table border=\"1\" class=\"dataframe\">\n",
       "  <thead>\n",
       "    <tr style=\"text-align: right;\">\n",
       "      <th></th>\n",
       "      <th>CustomerID</th>\n",
       "      <th>Churn</th>\n",
       "      <th>MonthlyRevenue</th>\n",
       "      <th>MonthlyMinutes</th>\n",
       "      <th>TotalRecurringCharge</th>\n",
       "      <th>DirectorAssistedCalls</th>\n",
       "      <th>OverageMinutes</th>\n",
       "      <th>RoamingCalls</th>\n",
       "      <th>PercChangeMinutes</th>\n",
       "      <th>PercChangeRevenues</th>\n",
       "      <th>...</th>\n",
       "      <th>ReferralsMadeBySubscriber</th>\n",
       "      <th>IncomeGroup</th>\n",
       "      <th>OwnsMotorcycle</th>\n",
       "      <th>AdjustmentsToCreditRating</th>\n",
       "      <th>HandsetPrice</th>\n",
       "      <th>MadeCallToRetentionTeam</th>\n",
       "      <th>CreditRating</th>\n",
       "      <th>PrizmCode</th>\n",
       "      <th>Occupation</th>\n",
       "      <th>MaritalStatus</th>\n",
       "    </tr>\n",
       "  </thead>\n",
       "  <tbody>\n",
       "    <tr>\n",
       "      <th>0</th>\n",
       "      <td>3000002</td>\n",
       "      <td>Yes</td>\n",
       "      <td>24.00</td>\n",
       "      <td>219.0</td>\n",
       "      <td>22.0</td>\n",
       "      <td>0.25</td>\n",
       "      <td>0.0</td>\n",
       "      <td>0.0</td>\n",
       "      <td>-157.0</td>\n",
       "      <td>-19.0</td>\n",
       "      <td>...</td>\n",
       "      <td>0</td>\n",
       "      <td>4</td>\n",
       "      <td>No</td>\n",
       "      <td>0</td>\n",
       "      <td>30</td>\n",
       "      <td>Yes</td>\n",
       "      <td>1-Highest</td>\n",
       "      <td>Suburban</td>\n",
       "      <td>Professional</td>\n",
       "      <td>No</td>\n",
       "    </tr>\n",
       "    <tr>\n",
       "      <th>1</th>\n",
       "      <td>3000010</td>\n",
       "      <td>Yes</td>\n",
       "      <td>16.99</td>\n",
       "      <td>10.0</td>\n",
       "      <td>17.0</td>\n",
       "      <td>0.00</td>\n",
       "      <td>0.0</td>\n",
       "      <td>0.0</td>\n",
       "      <td>-4.0</td>\n",
       "      <td>0.0</td>\n",
       "      <td>...</td>\n",
       "      <td>0</td>\n",
       "      <td>5</td>\n",
       "      <td>No</td>\n",
       "      <td>0</td>\n",
       "      <td>30</td>\n",
       "      <td>No</td>\n",
       "      <td>4-Medium</td>\n",
       "      <td>Suburban</td>\n",
       "      <td>Professional</td>\n",
       "      <td>Yes</td>\n",
       "    </tr>\n",
       "    <tr>\n",
       "      <th>2</th>\n",
       "      <td>3000014</td>\n",
       "      <td>No</td>\n",
       "      <td>38.00</td>\n",
       "      <td>8.0</td>\n",
       "      <td>38.0</td>\n",
       "      <td>0.00</td>\n",
       "      <td>0.0</td>\n",
       "      <td>0.0</td>\n",
       "      <td>-2.0</td>\n",
       "      <td>0.0</td>\n",
       "      <td>...</td>\n",
       "      <td>0</td>\n",
       "      <td>6</td>\n",
       "      <td>No</td>\n",
       "      <td>0</td>\n",
       "      <td>Unknown</td>\n",
       "      <td>No</td>\n",
       "      <td>3-Good</td>\n",
       "      <td>Town</td>\n",
       "      <td>Crafts</td>\n",
       "      <td>Yes</td>\n",
       "    </tr>\n",
       "    <tr>\n",
       "      <th>3</th>\n",
       "      <td>3000022</td>\n",
       "      <td>No</td>\n",
       "      <td>82.28</td>\n",
       "      <td>1312.0</td>\n",
       "      <td>75.0</td>\n",
       "      <td>1.24</td>\n",
       "      <td>0.0</td>\n",
       "      <td>0.0</td>\n",
       "      <td>157.0</td>\n",
       "      <td>8.1</td>\n",
       "      <td>...</td>\n",
       "      <td>0</td>\n",
       "      <td>6</td>\n",
       "      <td>No</td>\n",
       "      <td>0</td>\n",
       "      <td>10</td>\n",
       "      <td>No</td>\n",
       "      <td>4-Medium</td>\n",
       "      <td>Other</td>\n",
       "      <td>Other</td>\n",
       "      <td>No</td>\n",
       "    </tr>\n",
       "    <tr>\n",
       "      <th>4</th>\n",
       "      <td>3000026</td>\n",
       "      <td>Yes</td>\n",
       "      <td>17.14</td>\n",
       "      <td>0.0</td>\n",
       "      <td>17.0</td>\n",
       "      <td>0.00</td>\n",
       "      <td>0.0</td>\n",
       "      <td>0.0</td>\n",
       "      <td>0.0</td>\n",
       "      <td>-0.2</td>\n",
       "      <td>...</td>\n",
       "      <td>0</td>\n",
       "      <td>9</td>\n",
       "      <td>No</td>\n",
       "      <td>1</td>\n",
       "      <td>10</td>\n",
       "      <td>No</td>\n",
       "      <td>1-Highest</td>\n",
       "      <td>Other</td>\n",
       "      <td>Professional</td>\n",
       "      <td>Yes</td>\n",
       "    </tr>\n",
       "  </tbody>\n",
       "</table>\n",
       "<p>5 rows × 58 columns</p>\n",
       "</div>"
      ],
      "text/plain": [
       "   CustomerID Churn  MonthlyRevenue  MonthlyMinutes  TotalRecurringCharge  \\\n",
       "0     3000002   Yes           24.00           219.0                  22.0   \n",
       "1     3000010   Yes           16.99            10.0                  17.0   \n",
       "2     3000014    No           38.00             8.0                  38.0   \n",
       "3     3000022    No           82.28          1312.0                  75.0   \n",
       "4     3000026   Yes           17.14             0.0                  17.0   \n",
       "\n",
       "   DirectorAssistedCalls  OverageMinutes  RoamingCalls  PercChangeMinutes  \\\n",
       "0                   0.25             0.0           0.0             -157.0   \n",
       "1                   0.00             0.0           0.0               -4.0   \n",
       "2                   0.00             0.0           0.0               -2.0   \n",
       "3                   1.24             0.0           0.0              157.0   \n",
       "4                   0.00             0.0           0.0                0.0   \n",
       "\n",
       "   PercChangeRevenues  ...  ReferralsMadeBySubscriber  IncomeGroup  \\\n",
       "0               -19.0  ...                          0            4   \n",
       "1                 0.0  ...                          0            5   \n",
       "2                 0.0  ...                          0            6   \n",
       "3                 8.1  ...                          0            6   \n",
       "4                -0.2  ...                          0            9   \n",
       "\n",
       "   OwnsMotorcycle  AdjustmentsToCreditRating  HandsetPrice  \\\n",
       "0              No                          0            30   \n",
       "1              No                          0            30   \n",
       "2              No                          0       Unknown   \n",
       "3              No                          0            10   \n",
       "4              No                          1            10   \n",
       "\n",
       "   MadeCallToRetentionTeam  CreditRating  PrizmCode    Occupation  \\\n",
       "0                      Yes     1-Highest   Suburban  Professional   \n",
       "1                       No      4-Medium   Suburban  Professional   \n",
       "2                       No        3-Good       Town        Crafts   \n",
       "3                       No      4-Medium      Other         Other   \n",
       "4                       No     1-Highest      Other  Professional   \n",
       "\n",
       "   MaritalStatus  \n",
       "0             No  \n",
       "1            Yes  \n",
       "2            Yes  \n",
       "3             No  \n",
       "4            Yes  \n",
       "\n",
       "[5 rows x 58 columns]"
      ]
     },
     "execution_count": 4,
     "metadata": {},
     "output_type": "execute_result"
    }
   ],
   "source": [
    "df.head()"
   ]
  },
  {
   "cell_type": "code",
   "execution_count": 5,
   "metadata": {
    "ExecuteTime": {
     "end_time": "2021-04-11T05:50:33.659469Z",
     "start_time": "2021-04-11T05:50:33.499896Z"
    },
    "colab": {
     "base_uri": "https://localhost:8080/",
     "height": 317
    },
    "executionInfo": {
     "elapsed": 765,
     "status": "ok",
     "timestamp": 1617876708257,
     "user": {
      "displayName": "Jordan Yew",
      "photoUrl": "https://lh3.googleusercontent.com/a-/AOh14GgwpEx4k9brsKgMmLEvzOk6fZnaqtVUqztWKK1qGA=s64",
      "userId": "04296311432662961392"
     },
     "user_tz": -480
    },
    "id": "5hnWm20s9IfT",
    "outputId": "33bf8ea1-10e3-49f8-ec7b-223ecd265443"
   },
   "outputs": [
    {
     "data": {
      "text/html": [
       "<div>\n",
       "<style scoped>\n",
       "    .dataframe tbody tr th:only-of-type {\n",
       "        vertical-align: middle;\n",
       "    }\n",
       "\n",
       "    .dataframe tbody tr th {\n",
       "        vertical-align: top;\n",
       "    }\n",
       "\n",
       "    .dataframe thead th {\n",
       "        text-align: right;\n",
       "    }\n",
       "</style>\n",
       "<table border=\"1\" class=\"dataframe\">\n",
       "  <thead>\n",
       "    <tr style=\"text-align: right;\">\n",
       "      <th></th>\n",
       "      <th>CustomerID</th>\n",
       "      <th>MonthlyRevenue</th>\n",
       "      <th>MonthlyMinutes</th>\n",
       "      <th>TotalRecurringCharge</th>\n",
       "      <th>DirectorAssistedCalls</th>\n",
       "      <th>OverageMinutes</th>\n",
       "      <th>RoamingCalls</th>\n",
       "      <th>PercChangeMinutes</th>\n",
       "      <th>PercChangeRevenues</th>\n",
       "      <th>DroppedCalls</th>\n",
       "      <th>...</th>\n",
       "      <th>Handsets</th>\n",
       "      <th>HandsetModels</th>\n",
       "      <th>CurrentEquipmentDays</th>\n",
       "      <th>AgeHH1</th>\n",
       "      <th>AgeHH2</th>\n",
       "      <th>RetentionCalls</th>\n",
       "      <th>RetentionOffersAccepted</th>\n",
       "      <th>ReferralsMadeBySubscriber</th>\n",
       "      <th>IncomeGroup</th>\n",
       "      <th>AdjustmentsToCreditRating</th>\n",
       "    </tr>\n",
       "  </thead>\n",
       "  <tbody>\n",
       "    <tr>\n",
       "      <th>count</th>\n",
       "      <td>5.105e+04</td>\n",
       "      <td>50891.000</td>\n",
       "      <td>50891.000</td>\n",
       "      <td>50891.000</td>\n",
       "      <td>50891.000</td>\n",
       "      <td>50891.000</td>\n",
       "      <td>50891.000</td>\n",
       "      <td>50680.000</td>\n",
       "      <td>50680.000</td>\n",
       "      <td>51047.000</td>\n",
       "      <td>...</td>\n",
       "      <td>51046.000</td>\n",
       "      <td>51046.000</td>\n",
       "      <td>51046.000</td>\n",
       "      <td>50138.000</td>\n",
       "      <td>50138.000</td>\n",
       "      <td>51047.000</td>\n",
       "      <td>51047.000</td>\n",
       "      <td>51047.000</td>\n",
       "      <td>51047.000</td>\n",
       "      <td>51047.000</td>\n",
       "    </tr>\n",
       "    <tr>\n",
       "      <th>mean</th>\n",
       "      <td>3.202e+06</td>\n",
       "      <td>58.834</td>\n",
       "      <td>525.653</td>\n",
       "      <td>46.830</td>\n",
       "      <td>0.895</td>\n",
       "      <td>40.028</td>\n",
       "      <td>1.236</td>\n",
       "      <td>-11.548</td>\n",
       "      <td>-1.192</td>\n",
       "      <td>6.011</td>\n",
       "      <td>...</td>\n",
       "      <td>1.806</td>\n",
       "      <td>1.559</td>\n",
       "      <td>380.546</td>\n",
       "      <td>31.338</td>\n",
       "      <td>21.144</td>\n",
       "      <td>0.037</td>\n",
       "      <td>0.018</td>\n",
       "      <td>0.052</td>\n",
       "      <td>4.325</td>\n",
       "      <td>0.054</td>\n",
       "    </tr>\n",
       "    <tr>\n",
       "      <th>std</th>\n",
       "      <td>1.169e+05</td>\n",
       "      <td>44.507</td>\n",
       "      <td>529.871</td>\n",
       "      <td>23.849</td>\n",
       "      <td>2.229</td>\n",
       "      <td>96.588</td>\n",
       "      <td>9.818</td>\n",
       "      <td>257.515</td>\n",
       "      <td>39.575</td>\n",
       "      <td>9.044</td>\n",
       "      <td>...</td>\n",
       "      <td>1.331</td>\n",
       "      <td>0.906</td>\n",
       "      <td>253.802</td>\n",
       "      <td>22.095</td>\n",
       "      <td>23.931</td>\n",
       "      <td>0.206</td>\n",
       "      <td>0.142</td>\n",
       "      <td>0.308</td>\n",
       "      <td>3.138</td>\n",
       "      <td>0.383</td>\n",
       "    </tr>\n",
       "    <tr>\n",
       "      <th>min</th>\n",
       "      <td>3.000e+06</td>\n",
       "      <td>-6.170</td>\n",
       "      <td>0.000</td>\n",
       "      <td>-11.000</td>\n",
       "      <td>0.000</td>\n",
       "      <td>0.000</td>\n",
       "      <td>0.000</td>\n",
       "      <td>-3875.000</td>\n",
       "      <td>-1107.700</td>\n",
       "      <td>0.000</td>\n",
       "      <td>...</td>\n",
       "      <td>1.000</td>\n",
       "      <td>1.000</td>\n",
       "      <td>-5.000</td>\n",
       "      <td>0.000</td>\n",
       "      <td>0.000</td>\n",
       "      <td>0.000</td>\n",
       "      <td>0.000</td>\n",
       "      <td>0.000</td>\n",
       "      <td>0.000</td>\n",
       "      <td>0.000</td>\n",
       "    </tr>\n",
       "    <tr>\n",
       "      <th>25%</th>\n",
       "      <td>3.101e+06</td>\n",
       "      <td>33.610</td>\n",
       "      <td>158.000</td>\n",
       "      <td>30.000</td>\n",
       "      <td>0.000</td>\n",
       "      <td>0.000</td>\n",
       "      <td>0.000</td>\n",
       "      <td>-83.000</td>\n",
       "      <td>-7.100</td>\n",
       "      <td>0.700</td>\n",
       "      <td>...</td>\n",
       "      <td>1.000</td>\n",
       "      <td>1.000</td>\n",
       "      <td>205.000</td>\n",
       "      <td>0.000</td>\n",
       "      <td>0.000</td>\n",
       "      <td>0.000</td>\n",
       "      <td>0.000</td>\n",
       "      <td>0.000</td>\n",
       "      <td>0.000</td>\n",
       "      <td>0.000</td>\n",
       "    </tr>\n",
       "    <tr>\n",
       "      <th>50%</th>\n",
       "      <td>3.202e+06</td>\n",
       "      <td>48.460</td>\n",
       "      <td>366.000</td>\n",
       "      <td>45.000</td>\n",
       "      <td>0.250</td>\n",
       "      <td>3.000</td>\n",
       "      <td>0.000</td>\n",
       "      <td>-5.000</td>\n",
       "      <td>-0.300</td>\n",
       "      <td>3.000</td>\n",
       "      <td>...</td>\n",
       "      <td>1.000</td>\n",
       "      <td>1.000</td>\n",
       "      <td>329.000</td>\n",
       "      <td>36.000</td>\n",
       "      <td>0.000</td>\n",
       "      <td>0.000</td>\n",
       "      <td>0.000</td>\n",
       "      <td>0.000</td>\n",
       "      <td>5.000</td>\n",
       "      <td>0.000</td>\n",
       "    </tr>\n",
       "    <tr>\n",
       "      <th>75%</th>\n",
       "      <td>3.305e+06</td>\n",
       "      <td>71.065</td>\n",
       "      <td>723.000</td>\n",
       "      <td>60.000</td>\n",
       "      <td>0.990</td>\n",
       "      <td>41.000</td>\n",
       "      <td>0.300</td>\n",
       "      <td>66.000</td>\n",
       "      <td>1.600</td>\n",
       "      <td>7.700</td>\n",
       "      <td>...</td>\n",
       "      <td>2.000</td>\n",
       "      <td>2.000</td>\n",
       "      <td>515.000</td>\n",
       "      <td>48.000</td>\n",
       "      <td>42.000</td>\n",
       "      <td>0.000</td>\n",
       "      <td>0.000</td>\n",
       "      <td>0.000</td>\n",
       "      <td>7.000</td>\n",
       "      <td>0.000</td>\n",
       "    </tr>\n",
       "    <tr>\n",
       "      <th>max</th>\n",
       "      <td>3.400e+06</td>\n",
       "      <td>1223.380</td>\n",
       "      <td>7359.000</td>\n",
       "      <td>400.000</td>\n",
       "      <td>159.390</td>\n",
       "      <td>4321.000</td>\n",
       "      <td>1112.400</td>\n",
       "      <td>5192.000</td>\n",
       "      <td>2483.500</td>\n",
       "      <td>221.700</td>\n",
       "      <td>...</td>\n",
       "      <td>24.000</td>\n",
       "      <td>15.000</td>\n",
       "      <td>1812.000</td>\n",
       "      <td>99.000</td>\n",
       "      <td>99.000</td>\n",
       "      <td>4.000</td>\n",
       "      <td>3.000</td>\n",
       "      <td>35.000</td>\n",
       "      <td>9.000</td>\n",
       "      <td>25.000</td>\n",
       "    </tr>\n",
       "  </tbody>\n",
       "</table>\n",
       "<p>8 rows × 35 columns</p>\n",
       "</div>"
      ],
      "text/plain": [
       "       CustomerID  MonthlyRevenue  MonthlyMinutes  TotalRecurringCharge  \\\n",
       "count   5.105e+04       50891.000       50891.000             50891.000   \n",
       "mean    3.202e+06          58.834         525.653                46.830   \n",
       "std     1.169e+05          44.507         529.871                23.849   \n",
       "min     3.000e+06          -6.170           0.000               -11.000   \n",
       "25%     3.101e+06          33.610         158.000                30.000   \n",
       "50%     3.202e+06          48.460         366.000                45.000   \n",
       "75%     3.305e+06          71.065         723.000                60.000   \n",
       "max     3.400e+06        1223.380        7359.000               400.000   \n",
       "\n",
       "       DirectorAssistedCalls  OverageMinutes  RoamingCalls  PercChangeMinutes  \\\n",
       "count              50891.000       50891.000     50891.000          50680.000   \n",
       "mean                   0.895          40.028         1.236            -11.548   \n",
       "std                    2.229          96.588         9.818            257.515   \n",
       "min                    0.000           0.000         0.000          -3875.000   \n",
       "25%                    0.000           0.000         0.000            -83.000   \n",
       "50%                    0.250           3.000         0.000             -5.000   \n",
       "75%                    0.990          41.000         0.300             66.000   \n",
       "max                  159.390        4321.000      1112.400           5192.000   \n",
       "\n",
       "       PercChangeRevenues  DroppedCalls  ...   Handsets  HandsetModels  \\\n",
       "count           50680.000     51047.000  ...  51046.000      51046.000   \n",
       "mean               -1.192         6.011  ...      1.806          1.559   \n",
       "std                39.575         9.044  ...      1.331          0.906   \n",
       "min             -1107.700         0.000  ...      1.000          1.000   \n",
       "25%                -7.100         0.700  ...      1.000          1.000   \n",
       "50%                -0.300         3.000  ...      1.000          1.000   \n",
       "75%                 1.600         7.700  ...      2.000          2.000   \n",
       "max              2483.500       221.700  ...     24.000         15.000   \n",
       "\n",
       "       CurrentEquipmentDays     AgeHH1     AgeHH2  RetentionCalls  \\\n",
       "count             51046.000  50138.000  50138.000       51047.000   \n",
       "mean                380.546     31.338     21.144           0.037   \n",
       "std                 253.802     22.095     23.931           0.206   \n",
       "min                  -5.000      0.000      0.000           0.000   \n",
       "25%                 205.000      0.000      0.000           0.000   \n",
       "50%                 329.000     36.000      0.000           0.000   \n",
       "75%                 515.000     48.000     42.000           0.000   \n",
       "max                1812.000     99.000     99.000           4.000   \n",
       "\n",
       "       RetentionOffersAccepted  ReferralsMadeBySubscriber  IncomeGroup  \\\n",
       "count                51047.000                  51047.000    51047.000   \n",
       "mean                     0.018                      0.052        4.325   \n",
       "std                      0.142                      0.308        3.138   \n",
       "min                      0.000                      0.000        0.000   \n",
       "25%                      0.000                      0.000        0.000   \n",
       "50%                      0.000                      0.000        5.000   \n",
       "75%                      0.000                      0.000        7.000   \n",
       "max                      3.000                     35.000        9.000   \n",
       "\n",
       "       AdjustmentsToCreditRating  \n",
       "count                  51047.000  \n",
       "mean                       0.054  \n",
       "std                        0.383  \n",
       "min                        0.000  \n",
       "25%                        0.000  \n",
       "50%                        0.000  \n",
       "75%                        0.000  \n",
       "max                       25.000  \n",
       "\n",
       "[8 rows x 35 columns]"
      ]
     },
     "execution_count": 5,
     "metadata": {},
     "output_type": "execute_result"
    }
   ],
   "source": [
    "# let's see summary of the dataset\n",
    "df.describe()"
   ]
  },
  {
   "cell_type": "markdown",
   "metadata": {},
   "source": [
    "# Data Preprocessing"
   ]
  },
  {
   "cell_type": "markdown",
   "metadata": {},
   "source": [
    "## Dealing with Categorical Data"
   ]
  },
  {
   "cell_type": "markdown",
   "metadata": {},
   "source": [
    "### Yes or No transformed to 1 or 0\n",
    "\n",
    "From head(), we can see that some columns are having Yes or No values including our response variable, Churn. One thing we need to do is to transform these columns into having 1 or 0 values instead of Yes or No"
   ]
  },
  {
   "cell_type": "code",
   "execution_count": 6,
   "metadata": {
    "ExecuteTime": {
     "end_time": "2021-04-11T05:50:34.684482Z",
     "start_time": "2021-04-11T05:50:34.197081Z"
    }
   },
   "outputs": [
    {
     "data": {
      "text/html": [
       "<div>\n",
       "<style scoped>\n",
       "    .dataframe tbody tr th:only-of-type {\n",
       "        vertical-align: middle;\n",
       "    }\n",
       "\n",
       "    .dataframe tbody tr th {\n",
       "        vertical-align: top;\n",
       "    }\n",
       "\n",
       "    .dataframe thead th {\n",
       "        text-align: right;\n",
       "    }\n",
       "</style>\n",
       "<table border=\"1\" class=\"dataframe\">\n",
       "  <thead>\n",
       "    <tr style=\"text-align: right;\">\n",
       "      <th></th>\n",
       "      <th>CustomerID</th>\n",
       "      <th>Churn</th>\n",
       "      <th>MonthlyRevenue</th>\n",
       "      <th>MonthlyMinutes</th>\n",
       "      <th>TotalRecurringCharge</th>\n",
       "      <th>DirectorAssistedCalls</th>\n",
       "      <th>OverageMinutes</th>\n",
       "      <th>RoamingCalls</th>\n",
       "      <th>PercChangeMinutes</th>\n",
       "      <th>PercChangeRevenues</th>\n",
       "      <th>...</th>\n",
       "      <th>ReferralsMadeBySubscriber</th>\n",
       "      <th>IncomeGroup</th>\n",
       "      <th>OwnsMotorcycle</th>\n",
       "      <th>AdjustmentsToCreditRating</th>\n",
       "      <th>HandsetPrice</th>\n",
       "      <th>MadeCallToRetentionTeam</th>\n",
       "      <th>CreditRating</th>\n",
       "      <th>PrizmCode</th>\n",
       "      <th>Occupation</th>\n",
       "      <th>MaritalStatus</th>\n",
       "    </tr>\n",
       "  </thead>\n",
       "  <tbody>\n",
       "    <tr>\n",
       "      <th>0</th>\n",
       "      <td>3000002</td>\n",
       "      <td>1</td>\n",
       "      <td>24.00</td>\n",
       "      <td>219.0</td>\n",
       "      <td>22.0</td>\n",
       "      <td>0.25</td>\n",
       "      <td>0.0</td>\n",
       "      <td>0.0</td>\n",
       "      <td>-157.0</td>\n",
       "      <td>-19.0</td>\n",
       "      <td>...</td>\n",
       "      <td>0</td>\n",
       "      <td>4</td>\n",
       "      <td>0</td>\n",
       "      <td>0</td>\n",
       "      <td>30</td>\n",
       "      <td>1</td>\n",
       "      <td>1-Highest</td>\n",
       "      <td>Suburban</td>\n",
       "      <td>Professional</td>\n",
       "      <td>0</td>\n",
       "    </tr>\n",
       "    <tr>\n",
       "      <th>1</th>\n",
       "      <td>3000010</td>\n",
       "      <td>1</td>\n",
       "      <td>16.99</td>\n",
       "      <td>10.0</td>\n",
       "      <td>17.0</td>\n",
       "      <td>0.00</td>\n",
       "      <td>0.0</td>\n",
       "      <td>0.0</td>\n",
       "      <td>-4.0</td>\n",
       "      <td>0.0</td>\n",
       "      <td>...</td>\n",
       "      <td>0</td>\n",
       "      <td>5</td>\n",
       "      <td>0</td>\n",
       "      <td>0</td>\n",
       "      <td>30</td>\n",
       "      <td>0</td>\n",
       "      <td>4-Medium</td>\n",
       "      <td>Suburban</td>\n",
       "      <td>Professional</td>\n",
       "      <td>1</td>\n",
       "    </tr>\n",
       "    <tr>\n",
       "      <th>2</th>\n",
       "      <td>3000014</td>\n",
       "      <td>0</td>\n",
       "      <td>38.00</td>\n",
       "      <td>8.0</td>\n",
       "      <td>38.0</td>\n",
       "      <td>0.00</td>\n",
       "      <td>0.0</td>\n",
       "      <td>0.0</td>\n",
       "      <td>-2.0</td>\n",
       "      <td>0.0</td>\n",
       "      <td>...</td>\n",
       "      <td>0</td>\n",
       "      <td>6</td>\n",
       "      <td>0</td>\n",
       "      <td>0</td>\n",
       "      <td>Unknown</td>\n",
       "      <td>0</td>\n",
       "      <td>3-Good</td>\n",
       "      <td>Town</td>\n",
       "      <td>Crafts</td>\n",
       "      <td>1</td>\n",
       "    </tr>\n",
       "    <tr>\n",
       "      <th>3</th>\n",
       "      <td>3000022</td>\n",
       "      <td>0</td>\n",
       "      <td>82.28</td>\n",
       "      <td>1312.0</td>\n",
       "      <td>75.0</td>\n",
       "      <td>1.24</td>\n",
       "      <td>0.0</td>\n",
       "      <td>0.0</td>\n",
       "      <td>157.0</td>\n",
       "      <td>8.1</td>\n",
       "      <td>...</td>\n",
       "      <td>0</td>\n",
       "      <td>6</td>\n",
       "      <td>0</td>\n",
       "      <td>0</td>\n",
       "      <td>10</td>\n",
       "      <td>0</td>\n",
       "      <td>4-Medium</td>\n",
       "      <td>Other</td>\n",
       "      <td>Other</td>\n",
       "      <td>0</td>\n",
       "    </tr>\n",
       "    <tr>\n",
       "      <th>4</th>\n",
       "      <td>3000026</td>\n",
       "      <td>1</td>\n",
       "      <td>17.14</td>\n",
       "      <td>0.0</td>\n",
       "      <td>17.0</td>\n",
       "      <td>0.00</td>\n",
       "      <td>0.0</td>\n",
       "      <td>0.0</td>\n",
       "      <td>0.0</td>\n",
       "      <td>-0.2</td>\n",
       "      <td>...</td>\n",
       "      <td>0</td>\n",
       "      <td>9</td>\n",
       "      <td>0</td>\n",
       "      <td>1</td>\n",
       "      <td>10</td>\n",
       "      <td>0</td>\n",
       "      <td>1-Highest</td>\n",
       "      <td>Other</td>\n",
       "      <td>Professional</td>\n",
       "      <td>1</td>\n",
       "    </tr>\n",
       "  </tbody>\n",
       "</table>\n",
       "<p>5 rows × 58 columns</p>\n",
       "</div>"
      ],
      "text/plain": [
       "   CustomerID  Churn  MonthlyRevenue  MonthlyMinutes  TotalRecurringCharge  \\\n",
       "0     3000002      1           24.00           219.0                  22.0   \n",
       "1     3000010      1           16.99            10.0                  17.0   \n",
       "2     3000014      0           38.00             8.0                  38.0   \n",
       "3     3000022      0           82.28          1312.0                  75.0   \n",
       "4     3000026      1           17.14             0.0                  17.0   \n",
       "\n",
       "   DirectorAssistedCalls  OverageMinutes  RoamingCalls  PercChangeMinutes  \\\n",
       "0                   0.25             0.0           0.0             -157.0   \n",
       "1                   0.00             0.0           0.0               -4.0   \n",
       "2                   0.00             0.0           0.0               -2.0   \n",
       "3                   1.24             0.0           0.0              157.0   \n",
       "4                   0.00             0.0           0.0                0.0   \n",
       "\n",
       "   PercChangeRevenues  ...  ReferralsMadeBySubscriber  IncomeGroup  \\\n",
       "0               -19.0  ...                          0            4   \n",
       "1                 0.0  ...                          0            5   \n",
       "2                 0.0  ...                          0            6   \n",
       "3                 8.1  ...                          0            6   \n",
       "4                -0.2  ...                          0            9   \n",
       "\n",
       "   OwnsMotorcycle  AdjustmentsToCreditRating  HandsetPrice  \\\n",
       "0               0                          0            30   \n",
       "1               0                          0            30   \n",
       "2               0                          0       Unknown   \n",
       "3               0                          0            10   \n",
       "4               0                          1            10   \n",
       "\n",
       "   MadeCallToRetentionTeam  CreditRating  PrizmCode    Occupation  \\\n",
       "0                        1     1-Highest   Suburban  Professional   \n",
       "1                        0      4-Medium   Suburban  Professional   \n",
       "2                        0        3-Good       Town        Crafts   \n",
       "3                        0      4-Medium      Other         Other   \n",
       "4                        0     1-Highest      Other  Professional   \n",
       "\n",
       "   MaritalStatus  \n",
       "0              0  \n",
       "1              1  \n",
       "2              1  \n",
       "3              0  \n",
       "4              1  \n",
       "\n",
       "[5 rows x 58 columns]"
      ]
     },
     "execution_count": 6,
     "metadata": {},
     "output_type": "execute_result"
    }
   ],
   "source": [
    "df = df.replace({'Yes': 1, 'No': 0})\n",
    "df.head()"
   ]
  },
  {
   "cell_type": "code",
   "execution_count": 7,
   "metadata": {
    "ExecuteTime": {
     "end_time": "2021-04-11T05:50:34.732375Z",
     "start_time": "2021-04-11T05:50:34.685480Z"
    }
   },
   "outputs": [
    {
     "name": "stdout",
     "output_type": "stream",
     "text": [
      "<class 'pandas.core.frame.DataFrame'>\n",
      "RangeIndex: 51047 entries, 0 to 51046\n",
      "Data columns (total 58 columns):\n",
      " #   Column                     Non-Null Count  Dtype  \n",
      "---  ------                     --------------  -----  \n",
      " 0   CustomerID                 51047 non-null  int64  \n",
      " 1   Churn                      51047 non-null  int64  \n",
      " 2   MonthlyRevenue             50891 non-null  float64\n",
      " 3   MonthlyMinutes             50891 non-null  float64\n",
      " 4   TotalRecurringCharge       50891 non-null  float64\n",
      " 5   DirectorAssistedCalls      50891 non-null  float64\n",
      " 6   OverageMinutes             50891 non-null  float64\n",
      " 7   RoamingCalls               50891 non-null  float64\n",
      " 8   PercChangeMinutes          50680 non-null  float64\n",
      " 9   PercChangeRevenues         50680 non-null  float64\n",
      " 10  DroppedCalls               51047 non-null  float64\n",
      " 11  BlockedCalls               51047 non-null  float64\n",
      " 12  UnansweredCalls            51047 non-null  float64\n",
      " 13  CustomerCareCalls          51047 non-null  float64\n",
      " 14  ThreewayCalls              51047 non-null  float64\n",
      " 15  ReceivedCalls              51047 non-null  float64\n",
      " 16  OutboundCalls              51047 non-null  float64\n",
      " 17  InboundCalls               51047 non-null  float64\n",
      " 18  PeakCallsInOut             51047 non-null  float64\n",
      " 19  OffPeakCallsInOut          51047 non-null  float64\n",
      " 20  DroppedBlockedCalls        51047 non-null  float64\n",
      " 21  CallForwardingCalls        51047 non-null  float64\n",
      " 22  CallWaitingCalls           51047 non-null  float64\n",
      " 23  MonthsInService            51047 non-null  int64  \n",
      " 24  UniqueSubs                 51047 non-null  int64  \n",
      " 25  ActiveSubs                 51047 non-null  int64  \n",
      " 26  ServiceArea                51023 non-null  object \n",
      " 27  Handsets                   51046 non-null  float64\n",
      " 28  HandsetModels              51046 non-null  float64\n",
      " 29  CurrentEquipmentDays       51046 non-null  float64\n",
      " 30  AgeHH1                     50138 non-null  float64\n",
      " 31  AgeHH2                     50138 non-null  float64\n",
      " 32  ChildrenInHH               51047 non-null  int64  \n",
      " 33  HandsetRefurbished         51047 non-null  int64  \n",
      " 34  HandsetWebCapable          51047 non-null  int64  \n",
      " 35  TruckOwner                 51047 non-null  int64  \n",
      " 36  RVOwner                    51047 non-null  int64  \n",
      " 37  Homeownership              51047 non-null  object \n",
      " 38  BuysViaMailOrder           51047 non-null  int64  \n",
      " 39  RespondsToMailOffers       51047 non-null  int64  \n",
      " 40  OptOutMailings             51047 non-null  int64  \n",
      " 41  NonUSTravel                51047 non-null  int64  \n",
      " 42  OwnsComputer               51047 non-null  int64  \n",
      " 43  HasCreditCard              51047 non-null  int64  \n",
      " 44  RetentionCalls             51047 non-null  int64  \n",
      " 45  RetentionOffersAccepted    51047 non-null  int64  \n",
      " 46  NewCellphoneUser           51047 non-null  int64  \n",
      " 47  NotNewCellphoneUser        51047 non-null  int64  \n",
      " 48  ReferralsMadeBySubscriber  51047 non-null  int64  \n",
      " 49  IncomeGroup                51047 non-null  int64  \n",
      " 50  OwnsMotorcycle             51047 non-null  int64  \n",
      " 51  AdjustmentsToCreditRating  51047 non-null  int64  \n",
      " 52  HandsetPrice               51047 non-null  object \n",
      " 53  MadeCallToRetentionTeam    51047 non-null  int64  \n",
      " 54  CreditRating               51047 non-null  object \n",
      " 55  PrizmCode                  51047 non-null  object \n",
      " 56  Occupation                 51047 non-null  object \n",
      " 57  MaritalStatus              51047 non-null  object \n",
      "dtypes: float64(26), int64(25), object(7)\n",
      "memory usage: 22.6+ MB\n"
     ]
    }
   ],
   "source": [
    "df.info()"
   ]
  },
  {
   "cell_type": "markdown",
   "metadata": {},
   "source": [
    "There are some object columns left. Let's check what they are and how to transform them"
   ]
  },
  {
   "cell_type": "code",
   "execution_count": 8,
   "metadata": {
    "ExecuteTime": {
     "end_time": "2021-04-11T05:50:34.779729Z",
     "start_time": "2021-04-11T05:50:34.758747Z"
    }
   },
   "outputs": [
    {
     "data": {
      "text/html": [
       "<div>\n",
       "<style scoped>\n",
       "    .dataframe tbody tr th:only-of-type {\n",
       "        vertical-align: middle;\n",
       "    }\n",
       "\n",
       "    .dataframe tbody tr th {\n",
       "        vertical-align: top;\n",
       "    }\n",
       "\n",
       "    .dataframe thead th {\n",
       "        text-align: right;\n",
       "    }\n",
       "</style>\n",
       "<table border=\"1\" class=\"dataframe\">\n",
       "  <thead>\n",
       "    <tr style=\"text-align: right;\">\n",
       "      <th></th>\n",
       "      <th>CreditRating</th>\n",
       "      <th>PrizmCode</th>\n",
       "      <th>Occupation</th>\n",
       "      <th>MaritalStatus</th>\n",
       "      <th>HandsetPrice</th>\n",
       "      <th>Homeownership</th>\n",
       "      <th>ServiceArea</th>\n",
       "    </tr>\n",
       "  </thead>\n",
       "  <tbody>\n",
       "    <tr>\n",
       "      <th>0</th>\n",
       "      <td>1-Highest</td>\n",
       "      <td>Suburban</td>\n",
       "      <td>Professional</td>\n",
       "      <td>0</td>\n",
       "      <td>30</td>\n",
       "      <td>Known</td>\n",
       "      <td>SEAPOR503</td>\n",
       "    </tr>\n",
       "    <tr>\n",
       "      <th>1</th>\n",
       "      <td>4-Medium</td>\n",
       "      <td>Suburban</td>\n",
       "      <td>Professional</td>\n",
       "      <td>1</td>\n",
       "      <td>30</td>\n",
       "      <td>Known</td>\n",
       "      <td>PITHOM412</td>\n",
       "    </tr>\n",
       "    <tr>\n",
       "      <th>2</th>\n",
       "      <td>3-Good</td>\n",
       "      <td>Town</td>\n",
       "      <td>Crafts</td>\n",
       "      <td>1</td>\n",
       "      <td>Unknown</td>\n",
       "      <td>Unknown</td>\n",
       "      <td>MILMIL414</td>\n",
       "    </tr>\n",
       "    <tr>\n",
       "      <th>3</th>\n",
       "      <td>4-Medium</td>\n",
       "      <td>Other</td>\n",
       "      <td>Other</td>\n",
       "      <td>0</td>\n",
       "      <td>10</td>\n",
       "      <td>Known</td>\n",
       "      <td>PITHOM412</td>\n",
       "    </tr>\n",
       "    <tr>\n",
       "      <th>4</th>\n",
       "      <td>1-Highest</td>\n",
       "      <td>Other</td>\n",
       "      <td>Professional</td>\n",
       "      <td>1</td>\n",
       "      <td>10</td>\n",
       "      <td>Known</td>\n",
       "      <td>OKCTUL918</td>\n",
       "    </tr>\n",
       "    <tr>\n",
       "      <th>...</th>\n",
       "      <td>...</td>\n",
       "      <td>...</td>\n",
       "      <td>...</td>\n",
       "      <td>...</td>\n",
       "      <td>...</td>\n",
       "      <td>...</td>\n",
       "      <td>...</td>\n",
       "    </tr>\n",
       "    <tr>\n",
       "      <th>51042</th>\n",
       "      <td>1-Highest</td>\n",
       "      <td>Suburban</td>\n",
       "      <td>Other</td>\n",
       "      <td>1</td>\n",
       "      <td>60</td>\n",
       "      <td>Known</td>\n",
       "      <td>LAXSFN818</td>\n",
       "    </tr>\n",
       "    <tr>\n",
       "      <th>51043</th>\n",
       "      <td>3-Good</td>\n",
       "      <td>Other</td>\n",
       "      <td>Other</td>\n",
       "      <td>0</td>\n",
       "      <td>60</td>\n",
       "      <td>Known</td>\n",
       "      <td>LAXCDG310</td>\n",
       "    </tr>\n",
       "    <tr>\n",
       "      <th>51044</th>\n",
       "      <td>5-Low</td>\n",
       "      <td>Other</td>\n",
       "      <td>Clerical</td>\n",
       "      <td>0</td>\n",
       "      <td>80</td>\n",
       "      <td>Known</td>\n",
       "      <td>LAXCDG310</td>\n",
       "    </tr>\n",
       "    <tr>\n",
       "      <th>51045</th>\n",
       "      <td>5-Low</td>\n",
       "      <td>Other</td>\n",
       "      <td>Other</td>\n",
       "      <td>0</td>\n",
       "      <td>30</td>\n",
       "      <td>Unknown</td>\n",
       "      <td>NEVPOW619</td>\n",
       "    </tr>\n",
       "    <tr>\n",
       "      <th>51046</th>\n",
       "      <td>5-Low</td>\n",
       "      <td>Other</td>\n",
       "      <td>Other</td>\n",
       "      <td>Unknown</td>\n",
       "      <td>60</td>\n",
       "      <td>Unknown</td>\n",
       "      <td>NEVPOW619</td>\n",
       "    </tr>\n",
       "  </tbody>\n",
       "</table>\n",
       "<p>51047 rows × 7 columns</p>\n",
       "</div>"
      ],
      "text/plain": [
       "      CreditRating PrizmCode    Occupation MaritalStatus HandsetPrice  \\\n",
       "0        1-Highest  Suburban  Professional             0           30   \n",
       "1         4-Medium  Suburban  Professional             1           30   \n",
       "2           3-Good      Town        Crafts             1      Unknown   \n",
       "3         4-Medium     Other         Other             0           10   \n",
       "4        1-Highest     Other  Professional             1           10   \n",
       "...            ...       ...           ...           ...          ...   \n",
       "51042    1-Highest  Suburban         Other             1           60   \n",
       "51043       3-Good     Other         Other             0           60   \n",
       "51044        5-Low     Other      Clerical             0           80   \n",
       "51045        5-Low     Other         Other             0           30   \n",
       "51046        5-Low     Other         Other       Unknown           60   \n",
       "\n",
       "      Homeownership ServiceArea  \n",
       "0             Known   SEAPOR503  \n",
       "1             Known   PITHOM412  \n",
       "2           Unknown   MILMIL414  \n",
       "3             Known   PITHOM412  \n",
       "4             Known   OKCTUL918  \n",
       "...             ...         ...  \n",
       "51042         Known   LAXSFN818  \n",
       "51043         Known   LAXCDG310  \n",
       "51044         Known   LAXCDG310  \n",
       "51045       Unknown   NEVPOW619  \n",
       "51046       Unknown   NEVPOW619  \n",
       "\n",
       "[51047 rows x 7 columns]"
      ]
     },
     "execution_count": 8,
     "metadata": {},
     "output_type": "execute_result"
    }
   ],
   "source": [
    "df[['CreditRating', 'PrizmCode', 'Occupation', 'MaritalStatus', \n",
    "        'HandsetPrice', 'Homeownership', 'ServiceArea']]"
   ]
  },
  {
   "cell_type": "code",
   "execution_count": 9,
   "metadata": {
    "ExecuteTime": {
     "end_time": "2021-04-11T05:50:35.174522Z",
     "start_time": "2021-04-11T05:50:34.968582Z"
    }
   },
   "outputs": [
    {
     "data": {
      "text/plain": [
       "<AxesSubplot:>"
      ]
     },
     "execution_count": 9,
     "metadata": {},
     "output_type": "execute_result"
    },
    {
     "data": {
      "image/png": "[encoded data removed]",
      "text/plain": [
       "<Figure size 432x288 with 1 Axes>"
      ]
     },
     "metadata": {
      "needs_background": "light"
     },
     "output_type": "display_data"
    }
   ],
   "source": [
    "df['CreditRating'].sort_values().hist()"
   ]
  },
  {
   "cell_type": "markdown",
   "metadata": {},
   "source": [
    "Credit rating already has the numerical representation of the rating. The smaller the value, the better is the credit"
   ]
  },
  {
   "cell_type": "code",
   "execution_count": 10,
   "metadata": {
    "ExecuteTime": {
     "end_time": "2021-04-11T05:50:35.377410Z",
     "start_time": "2021-04-11T05:50:35.332530Z"
    },
    "colab": {
     "base_uri": "https://localhost:8080/"
    },
    "executionInfo": {
     "elapsed": 763,
     "status": "ok",
     "timestamp": 1617876729350,
     "user": {
      "displayName": "Jordan Yew",
      "photoUrl": "https://lh3.googleusercontent.com/a-/AOh14GgwpEx4k9brsKgMmLEvzOk6fZnaqtVUqztWKK1qGA=s64",
      "userId": "04296311432662961392"
     },
     "user_tz": -480
    },
    "id": "BFX9mVaD9qvR",
    "outputId": "8d297ea0-5b56-4e34-f116-76489dd91500"
   },
   "outputs": [
    {
     "data": {
      "text/plain": [
       "0    1.0\n",
       "1    4.0\n",
       "2    3.0\n",
       "3    4.0\n",
       "4    1.0\n",
       "Name: CreditRating, dtype: float64"
      ]
     },
     "execution_count": 10,
     "metadata": {},
     "output_type": "execute_result"
    }
   ],
   "source": [
    "df['CreditRating'] = df['CreditRating'].apply(lambda x: x.split('-')[0]).astype(float)\n",
    "df['CreditRating'].head()"
   ]
  },
  {
   "cell_type": "code",
   "execution_count": 11,
   "metadata": {
    "ExecuteTime": {
     "end_time": "2021-04-11T05:50:35.767387Z",
     "start_time": "2021-04-11T05:50:35.619951Z"
    }
   },
   "outputs": [
    {
     "data": {
      "text/plain": [
       "<AxesSubplot:>"
      ]
     },
     "execution_count": 11,
     "metadata": {},
     "output_type": "execute_result"
    },
    {
     "data": {
      "image/png": "[encoded data removed]",
      "text/plain": [
       "<Figure size 432x288 with 1 Axes>"
      ]
     },
     "metadata": {
      "needs_background": "light"
     },
     "output_type": "display_data"
    }
   ],
   "source": [
    "df['PrizmCode'].hist()"
   ]
  },
  {
   "cell_type": "markdown",
   "metadata": {},
   "source": [
    "If we were to rank these values, we should rank town > Suburban > rural > other. Hence we would transform data in such an order"
   ]
  },
  {
   "cell_type": "code",
   "execution_count": 12,
   "metadata": {
    "ExecuteTime": {
     "end_time": "2021-04-11T05:50:36.256548Z",
     "start_time": "2021-04-11T05:50:36.224632Z"
    }
   },
   "outputs": [],
   "source": [
    "df['PrizmCode'] = df['PrizmCode'].replace({'Town': 1, 'Suburban': 2, 'Rural': 3, 'Other': 4})"
   ]
  },
  {
   "cell_type": "code",
   "execution_count": 13,
   "metadata": {
    "ExecuteTime": {
     "end_time": "2021-04-11T05:50:36.411503Z",
     "start_time": "2021-04-11T05:50:36.395537Z"
    }
   },
   "outputs": [
    {
     "data": {
      "text/plain": [
       "Other           37637\n",
       "Professional     8755\n",
       "Crafts           1519\n",
       "Clerical          986\n",
       "Self              879\n",
       "Retired           733\n",
       "Student           381\n",
       "Homemaker         157\n",
       "Name: Occupation, dtype: int64"
      ]
     },
     "execution_count": 13,
     "metadata": {},
     "output_type": "execute_result"
    }
   ],
   "source": [
    "df['Occupation'].value_counts()"
   ]
  },
  {
   "cell_type": "markdown",
   "metadata": {
    "ExecuteTime": {
     "end_time": "2021-04-10T04:36:06.209568Z",
     "start_time": "2021-04-10T04:36:06.202591Z"
    }
   },
   "source": [
    "We will use one-hot encoding here since we don't want to confuse our model with ordinality of the occupations"
   ]
  },
  {
   "cell_type": "code",
   "execution_count": 14,
   "metadata": {
    "ExecuteTime": {
     "end_time": "2021-04-11T05:50:37.191625Z",
     "start_time": "2021-04-11T05:50:37.115395Z"
    }
   },
   "outputs": [
    {
     "data": {
      "text/html": [
       "<div>\n",
       "<style scoped>\n",
       "    .dataframe tbody tr th:only-of-type {\n",
       "        vertical-align: middle;\n",
       "    }\n",
       "\n",
       "    .dataframe tbody tr th {\n",
       "        vertical-align: top;\n",
       "    }\n",
       "\n",
       "    .dataframe thead th {\n",
       "        text-align: right;\n",
       "    }\n",
       "</style>\n",
       "<table border=\"1\" class=\"dataframe\">\n",
       "  <thead>\n",
       "    <tr style=\"text-align: right;\">\n",
       "      <th></th>\n",
       "      <th>Job_is_Clerical</th>\n",
       "      <th>Job_is_Crafts</th>\n",
       "      <th>Job_is_Homemaker</th>\n",
       "      <th>Job_is_Other</th>\n",
       "      <th>Job_is_Professional</th>\n",
       "      <th>Job_is_Retired</th>\n",
       "      <th>Job_is_Self</th>\n",
       "      <th>Job_is_Student</th>\n",
       "    </tr>\n",
       "  </thead>\n",
       "  <tbody>\n",
       "    <tr>\n",
       "      <th>51042</th>\n",
       "      <td>0</td>\n",
       "      <td>0</td>\n",
       "      <td>0</td>\n",
       "      <td>1</td>\n",
       "      <td>0</td>\n",
       "      <td>0</td>\n",
       "      <td>0</td>\n",
       "      <td>0</td>\n",
       "    </tr>\n",
       "    <tr>\n",
       "      <th>51043</th>\n",
       "      <td>0</td>\n",
       "      <td>0</td>\n",
       "      <td>0</td>\n",
       "      <td>1</td>\n",
       "      <td>0</td>\n",
       "      <td>0</td>\n",
       "      <td>0</td>\n",
       "      <td>0</td>\n",
       "    </tr>\n",
       "    <tr>\n",
       "      <th>51044</th>\n",
       "      <td>1</td>\n",
       "      <td>0</td>\n",
       "      <td>0</td>\n",
       "      <td>0</td>\n",
       "      <td>0</td>\n",
       "      <td>0</td>\n",
       "      <td>0</td>\n",
       "      <td>0</td>\n",
       "    </tr>\n",
       "    <tr>\n",
       "      <th>51045</th>\n",
       "      <td>0</td>\n",
       "      <td>0</td>\n",
       "      <td>0</td>\n",
       "      <td>1</td>\n",
       "      <td>0</td>\n",
       "      <td>0</td>\n",
       "      <td>0</td>\n",
       "      <td>0</td>\n",
       "    </tr>\n",
       "    <tr>\n",
       "      <th>51046</th>\n",
       "      <td>0</td>\n",
       "      <td>0</td>\n",
       "      <td>0</td>\n",
       "      <td>1</td>\n",
       "      <td>0</td>\n",
       "      <td>0</td>\n",
       "      <td>0</td>\n",
       "      <td>0</td>\n",
       "    </tr>\n",
       "  </tbody>\n",
       "</table>\n",
       "</div>"
      ],
      "text/plain": [
       "       Job_is_Clerical  Job_is_Crafts  Job_is_Homemaker  Job_is_Other  \\\n",
       "51042                0              0                 0             1   \n",
       "51043                0              0                 0             1   \n",
       "51044                1              0                 0             0   \n",
       "51045                0              0                 0             1   \n",
       "51046                0              0                 0             1   \n",
       "\n",
       "       Job_is_Professional  Job_is_Retired  Job_is_Self  Job_is_Student  \n",
       "51042                    0               0            0               0  \n",
       "51043                    0               0            0               0  \n",
       "51044                    0               0            0               0  \n",
       "51045                    0               0            0               0  \n",
       "51046                    0               0            0               0  "
      ]
     },
     "execution_count": 14,
     "metadata": {},
     "output_type": "execute_result"
    }
   ],
   "source": [
    "# one-hot encode occupation columns\n",
    "df = pd.get_dummies(df, columns=[\"Occupation\"], prefix=[\"Job_is\"] )\n",
    "df[['Job_is_Clerical', 'Job_is_Crafts', 'Job_is_Homemaker',\n",
    "   'Job_is_Other', 'Job_is_Professional', 'Job_is_Retired', \n",
    "   'Job_is_Self', 'Job_is_Student']].tail()"
   ]
  },
  {
   "cell_type": "code",
   "execution_count": 15,
   "metadata": {
    "ExecuteTime": {
     "end_time": "2021-04-11T05:50:37.315933Z",
     "start_time": "2021-04-11T05:50:37.291996Z"
    }
   },
   "outputs": [
    {
     "data": {
      "text/plain": [
       "Unknown    19700\n",
       "1          18651\n",
       "0          12696\n",
       "Name: MaritalStatus, dtype: int64"
      ]
     },
     "execution_count": 15,
     "metadata": {},
     "output_type": "execute_result"
    }
   ],
   "source": [
    "df['MaritalStatus'].value_counts()"
   ]
  },
  {
   "cell_type": "markdown",
   "metadata": {},
   "source": [
    "It seems like unknown status is the only non-numerical value here. We are going to assume unknown = Single or unmarried, which is 0"
   ]
  },
  {
   "cell_type": "code",
   "execution_count": 16,
   "metadata": {
    "ExecuteTime": {
     "end_time": "2021-04-11T05:50:37.676276Z",
     "start_time": "2021-04-11T05:50:37.648352Z"
    }
   },
   "outputs": [],
   "source": [
    "df['MaritalStatus'] = df['MaritalStatus'].replace({'Unknown': 0})"
   ]
  },
  {
   "cell_type": "markdown",
   "metadata": {
    "id": "SWGbdDl8-KwC"
   },
   "source": [
    "'HandsetPrice', 'Homeownership', 'ServiceArea'"
   ]
  },
  {
   "cell_type": "code",
   "execution_count": 17,
   "metadata": {
    "ExecuteTime": {
     "end_time": "2021-04-11T05:50:38.037882Z",
     "start_time": "2021-04-11T05:50:38.021925Z"
    }
   },
   "outputs": [
    {
     "data": {
      "text/plain": [
       "Unknown    28982\n",
       "30          7328\n",
       "150         4115\n",
       "130         2105\n",
       "80          1960\n",
       "10          1928\n",
       "60          1776\n",
       "200         1266\n",
       "100         1235\n",
       "40           249\n",
       "400           46\n",
       "250           20\n",
       "300           13\n",
       "180           10\n",
       "500            8\n",
       "240            6\n",
       "Name: HandsetPrice, dtype: int64"
      ]
     },
     "execution_count": 17,
     "metadata": {},
     "output_type": "execute_result"
    }
   ],
   "source": [
    "df['HandsetPrice'].value_counts()"
   ]
  },
  {
   "cell_type": "markdown",
   "metadata": {},
   "source": [
    "Because the number of unknown here is quite a lot. We can't simply drop the rows that have unknown values. For now we will make the values become nan first and deal with them later. At feature selection part, we might not even use this column due to high amount of missing values and low predictive"
   ]
  },
  {
   "cell_type": "code",
   "execution_count": 18,
   "metadata": {
    "ExecuteTime": {
     "end_time": "2021-04-11T05:50:38.409237Z",
     "start_time": "2021-04-11T05:50:38.386271Z"
    }
   },
   "outputs": [],
   "source": [
    "df['HandsetPrice'] = df['HandsetPrice'].replace({'Unknown': np.nan}).astype(float)"
   ]
  },
  {
   "cell_type": "code",
   "execution_count": 19,
   "metadata": {
    "ExecuteTime": {
     "end_time": "2021-04-11T05:50:38.566001Z",
     "start_time": "2021-04-11T05:50:38.545705Z"
    }
   },
   "outputs": [
    {
     "data": {
      "text/plain": [
       "Known      33987\n",
       "Unknown    17060\n",
       "Name: Homeownership, dtype: int64"
      ]
     },
     "execution_count": 19,
     "metadata": {},
     "output_type": "execute_result"
    }
   ],
   "source": [
    "df['Homeownership'].value_counts()"
   ]
  },
  {
   "cell_type": "markdown",
   "metadata": {},
   "source": [
    "Homeownership values are just binary. So we will convert values into 1 or 0"
   ]
  },
  {
   "cell_type": "code",
   "execution_count": 20,
   "metadata": {
    "ExecuteTime": {
     "end_time": "2021-04-11T05:50:38.987292Z",
     "start_time": "2021-04-11T05:50:38.952416Z"
    }
   },
   "outputs": [],
   "source": [
    "df['Homeownership'] = df['Homeownership'].replace({'Unknown': 0, 'Known': 1})"
   ]
  },
  {
   "cell_type": "code",
   "execution_count": 21,
   "metadata": {
    "ExecuteTime": {
     "end_time": "2021-04-11T05:50:39.157908Z",
     "start_time": "2021-04-11T05:50:39.135000Z"
    }
   },
   "outputs": [
    {
     "data": {
      "text/plain": [
       "NYCBRO917    1684\n",
       "HOUHOU281    1510\n",
       "DALDAL214    1498\n",
       "NYCMAN917    1182\n",
       "APCFCH703     783\n",
       "             ... \n",
       "SFRFAI707       1\n",
       "NCRDNN910       1\n",
       "OHIBCY419       1\n",
       "VAHSTA540       1\n",
       "FLNKEH352       1\n",
       "Name: ServiceArea, Length: 747, dtype: int64"
      ]
     },
     "execution_count": 21,
     "metadata": {},
     "output_type": "execute_result"
    }
   ],
   "source": [
    "df['ServiceArea'].value_counts()"
   ]
  },
  {
   "cell_type": "markdown",
   "metadata": {},
   "source": [
    "Due to the high diversity of data in service area, we can't use onehotencoder here. Label encoder is a better choice"
   ]
  },
  {
   "cell_type": "code",
   "execution_count": 22,
   "metadata": {
    "ExecuteTime": {
     "end_time": "2021-04-11T05:50:39.547242Z",
     "start_time": "2021-04-11T05:50:39.511338Z"
    }
   },
   "outputs": [
    {
     "data": {
      "text/plain": [
       "459    1684\n",
       "229    1510\n",
       "129    1498\n",
       "465    1182\n",
       "39      783\n",
       "       ... \n",
       "439       1\n",
       "375       1\n",
       "261       1\n",
       "23        1\n",
       "527       1\n",
       "Name: ServiceArea, Length: 748, dtype: int64"
      ]
     },
     "execution_count": 22,
     "metadata": {},
     "output_type": "execute_result"
    }
   ],
   "source": [
    "le = LabelEncoder()\n",
    "df['ServiceArea'] = le.fit_transform(df['ServiceArea'])\n",
    "df['ServiceArea'].value_counts()"
   ]
  },
  {
   "cell_type": "code",
   "execution_count": 23,
   "metadata": {
    "ExecuteTime": {
     "end_time": "2021-04-11T05:50:39.734568Z",
     "start_time": "2021-04-11T05:50:39.679708Z"
    },
    "colab": {
     "base_uri": "https://localhost:8080/"
    },
    "executionInfo": {
     "elapsed": 1147,
     "status": "ok",
     "timestamp": 1617877152154,
     "user": {
      "displayName": "Jordan Yew",
      "photoUrl": "https://lh3.googleusercontent.com/a-/AOh14GgwpEx4k9brsKgMmLEvzOk6fZnaqtVUqztWKK1qGA=s64",
      "userId": "04296311432662961392"
     },
     "user_tz": -480
    },
    "id": "9hrHl7AO_bhI",
    "outputId": "3f881ca5-c305-44a4-8dcd-777fcaa6d143"
   },
   "outputs": [
    {
     "name": "stdout",
     "output_type": "stream",
     "text": [
      "<class 'pandas.core.frame.DataFrame'>\n",
      "RangeIndex: 51047 entries, 0 to 51046\n",
      "Data columns (total 65 columns):\n",
      " #   Column                     Non-Null Count  Dtype  \n",
      "---  ------                     --------------  -----  \n",
      " 0   CustomerID                 51047 non-null  int64  \n",
      " 1   Churn                      51047 non-null  int64  \n",
      " 2   MonthlyRevenue             50891 non-null  float64\n",
      " 3   MonthlyMinutes             50891 non-null  float64\n",
      " 4   TotalRecurringCharge       50891 non-null  float64\n",
      " 5   DirectorAssistedCalls      50891 non-null  float64\n",
      " 6   OverageMinutes             50891 non-null  float64\n",
      " 7   RoamingCalls               50891 non-null  float64\n",
      " 8   PercChangeMinutes          50680 non-null  float64\n",
      " 9   PercChangeRevenues         50680 non-null  float64\n",
      " 10  DroppedCalls               51047 non-null  float64\n",
      " 11  BlockedCalls               51047 non-null  float64\n",
      " 12  UnansweredCalls            51047 non-null  float64\n",
      " 13  CustomerCareCalls          51047 non-null  float64\n",
      " 14  ThreewayCalls              51047 non-null  float64\n",
      " 15  ReceivedCalls              51047 non-null  float64\n",
      " 16  OutboundCalls              51047 non-null  float64\n",
      " 17  InboundCalls               51047 non-null  float64\n",
      " 18  PeakCallsInOut             51047 non-null  float64\n",
      " 19  OffPeakCallsInOut          51047 non-null  float64\n",
      " 20  DroppedBlockedCalls        51047 non-null  float64\n",
      " 21  CallForwardingCalls        51047 non-null  float64\n",
      " 22  CallWaitingCalls           51047 non-null  float64\n",
      " 23  MonthsInService            51047 non-null  int64  \n",
      " 24  UniqueSubs                 51047 non-null  int64  \n",
      " 25  ActiveSubs                 51047 non-null  int64  \n",
      " 26  ServiceArea                51047 non-null  int32  \n",
      " 27  Handsets                   51046 non-null  float64\n",
      " 28  HandsetModels              51046 non-null  float64\n",
      " 29  CurrentEquipmentDays       51046 non-null  float64\n",
      " 30  AgeHH1                     50138 non-null  float64\n",
      " 31  AgeHH2                     50138 non-null  float64\n",
      " 32  ChildrenInHH               51047 non-null  int64  \n",
      " 33  HandsetRefurbished         51047 non-null  int64  \n",
      " 34  HandsetWebCapable          51047 non-null  int64  \n",
      " 35  TruckOwner                 51047 non-null  int64  \n",
      " 36  RVOwner                    51047 non-null  int64  \n",
      " 37  Homeownership              51047 non-null  int64  \n",
      " 38  BuysViaMailOrder           51047 non-null  int64  \n",
      " 39  RespondsToMailOffers       51047 non-null  int64  \n",
      " 40  OptOutMailings             51047 non-null  int64  \n",
      " 41  NonUSTravel                51047 non-null  int64  \n",
      " 42  OwnsComputer               51047 non-null  int64  \n",
      " 43  HasCreditCard              51047 non-null  int64  \n",
      " 44  RetentionCalls             51047 non-null  int64  \n",
      " 45  RetentionOffersAccepted    51047 non-null  int64  \n",
      " 46  NewCellphoneUser           51047 non-null  int64  \n",
      " 47  NotNewCellphoneUser        51047 non-null  int64  \n",
      " 48  ReferralsMadeBySubscriber  51047 non-null  int64  \n",
      " 49  IncomeGroup                51047 non-null  int64  \n",
      " 50  OwnsMotorcycle             51047 non-null  int64  \n",
      " 51  AdjustmentsToCreditRating  51047 non-null  int64  \n",
      " 52  HandsetPrice               22065 non-null  float64\n",
      " 53  MadeCallToRetentionTeam    51047 non-null  int64  \n",
      " 54  CreditRating               51047 non-null  float64\n",
      " 55  PrizmCode                  51047 non-null  int64  \n",
      " 56  MaritalStatus              51047 non-null  int64  \n",
      " 57  Job_is_Clerical            51047 non-null  uint8  \n",
      " 58  Job_is_Crafts              51047 non-null  uint8  \n",
      " 59  Job_is_Homemaker           51047 non-null  uint8  \n",
      " 60  Job_is_Other               51047 non-null  uint8  \n",
      " 61  Job_is_Professional        51047 non-null  uint8  \n",
      " 62  Job_is_Retired             51047 non-null  uint8  \n",
      " 63  Job_is_Self                51047 non-null  uint8  \n",
      " 64  Job_is_Student             51047 non-null  uint8  \n",
      "dtypes: float64(28), int32(1), int64(28), uint8(8)\n",
      "memory usage: 22.4 MB\n"
     ]
    }
   ],
   "source": [
    "df.info()"
   ]
  },
  {
   "cell_type": "markdown",
   "metadata": {
    "colab": {
     "base_uri": "https://localhost:8080/",
     "height": 1000
    },
    "executionInfo": {
     "elapsed": 767,
     "status": "ok",
     "timestamp": 1617877231305,
     "user": {
      "displayName": "Jordan Yew",
      "photoUrl": "https://lh3.googleusercontent.com/a-/AOh14GgwpEx4k9brsKgMmLEvzOk6fZnaqtVUqztWKK1qGA=s64",
      "userId": "04296311432662961392"
     },
     "user_tz": -480
    },
    "id": "T2qmAUEF_iz6",
    "outputId": "07efdf73-27d5-4c40-d66d-b76eb18579c0",
    "scrolled": true
   },
   "source": [
    "All object columns are converted into either float or int"
   ]
  },
  {
   "cell_type": "markdown",
   "metadata": {},
   "source": [
    "## Dealing with Missing Value"
   ]
  },
  {
   "cell_type": "code",
   "execution_count": 24,
   "metadata": {
    "ExecuteTime": {
     "end_time": "2021-04-11T05:50:40.377418Z",
     "start_time": "2021-04-11T05:50:40.339867Z"
    }
   },
   "outputs": [
    {
     "data": {
      "text/plain": [
       "MonthlyRevenue             156\n",
       "MonthlyMinutes             156\n",
       "TotalRecurringCharge       156\n",
       "DirectorAssistedCalls      156\n",
       "OverageMinutes             156\n",
       "RoamingCalls               156\n",
       "PercChangeMinutes          367\n",
       "PercChangeRevenues         367\n",
       "Handsets                     1\n",
       "HandsetModels                1\n",
       "CurrentEquipmentDays         1\n",
       "AgeHH1                     909\n",
       "AgeHH2                     909\n",
       "HandsetPrice             28982\n",
       "dtype: int64"
      ]
     },
     "execution_count": 24,
     "metadata": {},
     "output_type": "execute_result"
    }
   ],
   "source": [
    "df.isnull().sum()[df.isnull().sum() > 0]"
   ]
  },
  {
   "cell_type": "code",
   "execution_count": 25,
   "metadata": {
    "ExecuteTime": {
     "end_time": "2021-04-11T05:50:40.549702Z",
     "start_time": "2021-04-11T05:50:40.536705Z"
    }
   },
   "outputs": [
    {
     "data": {
      "text/plain": [
       "0.017807118929613886"
      ]
     },
     "execution_count": 25,
     "metadata": {},
     "output_type": "execute_result"
    }
   ],
   "source": [
    "909/len(df)"
   ]
  },
  {
   "cell_type": "markdown",
   "metadata": {},
   "source": [
    "Besides HandsetPrice, the second highest missing values' columns are AgeHH1 and AgeHH2. Because we have a fairly large dataset for training this time, dropping 909 or more rows coming from other columns might not matter that much. \n",
    "\n",
    "Whereas for HandsetPrice, we will first drop this column and hypothesize that it's not useful feature for prediction.\n",
    "\n",
    "Also, we might as well drop CustomerID at the same time since it is for sure not helpful in prediction later."
   ]
  },
  {
   "cell_type": "code",
   "execution_count": 26,
   "metadata": {
    "ExecuteTime": {
     "end_time": "2021-04-11T05:50:41.053834Z",
     "start_time": "2021-04-11T05:50:40.987597Z"
    }
   },
   "outputs": [
    {
     "name": "stdout",
     "output_type": "stream",
     "text": [
      "Before dropping, we have 51047 rows\n",
      "After dropping missing values, we have 49776 rows\n"
     ]
    }
   ],
   "source": [
    "print('Before dropping, we have {} rows'.format(len(df)))\n",
    "df2 = df.copy()\n",
    "df2 = df.drop(columns=['HandsetPrice', 'CustomerID'])\n",
    "df2 = df2.dropna()\n",
    "print('After dropping missing values, we have {} rows'.format(len(df2)))"
   ]
  },
  {
   "cell_type": "markdown",
   "metadata": {},
   "source": [
    "We only reduce 1271 rows only, which is still pretty okay in this case."
   ]
  },
  {
   "cell_type": "markdown",
   "metadata": {},
   "source": [
    "# Data Visualization"
   ]
  },
  {
   "cell_type": "code",
   "execution_count": 27,
   "metadata": {
    "ExecuteTime": {
     "end_time": "2021-04-11T05:50:41.900368Z",
     "start_time": "2021-04-11T05:50:41.892389Z"
    }
   },
   "outputs": [
    {
     "data": {
      "text/plain": [
       "(49776, 63)"
      ]
     },
     "execution_count": 27,
     "metadata": {},
     "output_type": "execute_result"
    }
   ],
   "source": [
    "df2.shape"
   ]
  },
  {
   "cell_type": "code",
   "execution_count": 28,
   "metadata": {
    "ExecuteTime": {
     "end_time": "2021-04-11T05:50:42.685757Z",
     "start_time": "2021-04-11T05:50:42.500236Z"
    }
   },
   "outputs": [
    {
     "data": {
      "text/html": [
       "<div>\n",
       "<style scoped>\n",
       "    .dataframe tbody tr th:only-of-type {\n",
       "        vertical-align: middle;\n",
       "    }\n",
       "\n",
       "    .dataframe tbody tr th {\n",
       "        vertical-align: top;\n",
       "    }\n",
       "\n",
       "    .dataframe thead th {\n",
       "        text-align: right;\n",
       "    }\n",
       "</style>\n",
       "<table border=\"1\" class=\"dataframe\">\n",
       "  <thead>\n",
       "    <tr style=\"text-align: right;\">\n",
       "      <th></th>\n",
       "      <th>Churn</th>\n",
       "      <th>MonthlyRevenue</th>\n",
       "      <th>MonthlyMinutes</th>\n",
       "      <th>TotalRecurringCharge</th>\n",
       "      <th>DirectorAssistedCalls</th>\n",
       "      <th>OverageMinutes</th>\n",
       "      <th>RoamingCalls</th>\n",
       "      <th>PercChangeMinutes</th>\n",
       "      <th>PercChangeRevenues</th>\n",
       "      <th>DroppedCalls</th>\n",
       "      <th>...</th>\n",
       "      <th>PrizmCode</th>\n",
       "      <th>MaritalStatus</th>\n",
       "      <th>Job_is_Clerical</th>\n",
       "      <th>Job_is_Crafts</th>\n",
       "      <th>Job_is_Homemaker</th>\n",
       "      <th>Job_is_Other</th>\n",
       "      <th>Job_is_Professional</th>\n",
       "      <th>Job_is_Retired</th>\n",
       "      <th>Job_is_Self</th>\n",
       "      <th>Job_is_Student</th>\n",
       "    </tr>\n",
       "  </thead>\n",
       "  <tbody>\n",
       "    <tr>\n",
       "      <th>count</th>\n",
       "      <td>49776.000</td>\n",
       "      <td>49776.000</td>\n",
       "      <td>49776.000</td>\n",
       "      <td>49776.000</td>\n",
       "      <td>49776.000</td>\n",
       "      <td>49776.00</td>\n",
       "      <td>49776.000</td>\n",
       "      <td>49776.000</td>\n",
       "      <td>49776.000</td>\n",
       "      <td>49776.000</td>\n",
       "      <td>...</td>\n",
       "      <td>49776.000</td>\n",
       "      <td>49776.000</td>\n",
       "      <td>49776.000</td>\n",
       "      <td>49776.000</td>\n",
       "      <td>49776.000</td>\n",
       "      <td>49776.000</td>\n",
       "      <td>49776.000</td>\n",
       "      <td>49776.000</td>\n",
       "      <td>49776.000</td>\n",
       "      <td>49776.000</td>\n",
       "    </tr>\n",
       "    <tr>\n",
       "      <th>mean</th>\n",
       "      <td>0.286</td>\n",
       "      <td>58.720</td>\n",
       "      <td>525.078</td>\n",
       "      <td>46.835</td>\n",
       "      <td>0.892</td>\n",
       "      <td>39.76</td>\n",
       "      <td>1.226</td>\n",
       "      <td>-11.622</td>\n",
       "      <td>-1.168</td>\n",
       "      <td>6.011</td>\n",
       "      <td>...</td>\n",
       "      <td>2.855</td>\n",
       "      <td>0.372</td>\n",
       "      <td>0.020</td>\n",
       "      <td>0.030</td>\n",
       "      <td>0.003</td>\n",
       "      <td>0.733</td>\n",
       "      <td>0.175</td>\n",
       "      <td>0.015</td>\n",
       "      <td>0.018</td>\n",
       "      <td>0.008</td>\n",
       "    </tr>\n",
       "    <tr>\n",
       "      <th>std</th>\n",
       "      <td>0.452</td>\n",
       "      <td>44.315</td>\n",
       "      <td>528.509</td>\n",
       "      <td>23.759</td>\n",
       "      <td>2.225</td>\n",
       "      <td>96.08</td>\n",
       "      <td>9.846</td>\n",
       "      <td>255.844</td>\n",
       "      <td>39.393</td>\n",
       "      <td>9.036</td>\n",
       "      <td>...</td>\n",
       "      <td>1.176</td>\n",
       "      <td>0.483</td>\n",
       "      <td>0.139</td>\n",
       "      <td>0.171</td>\n",
       "      <td>0.056</td>\n",
       "      <td>0.443</td>\n",
       "      <td>0.380</td>\n",
       "      <td>0.120</td>\n",
       "      <td>0.131</td>\n",
       "      <td>0.087</td>\n",
       "    </tr>\n",
       "    <tr>\n",
       "      <th>min</th>\n",
       "      <td>0.000</td>\n",
       "      <td>-6.170</td>\n",
       "      <td>0.000</td>\n",
       "      <td>-6.000</td>\n",
       "      <td>0.000</td>\n",
       "      <td>0.00</td>\n",
       "      <td>0.000</td>\n",
       "      <td>-3875.000</td>\n",
       "      <td>-1107.700</td>\n",
       "      <td>0.000</td>\n",
       "      <td>...</td>\n",
       "      <td>1.000</td>\n",
       "      <td>0.000</td>\n",
       "      <td>0.000</td>\n",
       "      <td>0.000</td>\n",
       "      <td>0.000</td>\n",
       "      <td>0.000</td>\n",
       "      <td>0.000</td>\n",
       "      <td>0.000</td>\n",
       "      <td>0.000</td>\n",
       "      <td>0.000</td>\n",
       "    </tr>\n",
       "    <tr>\n",
       "      <th>25%</th>\n",
       "      <td>0.000</td>\n",
       "      <td>33.610</td>\n",
       "      <td>158.000</td>\n",
       "      <td>30.000</td>\n",
       "      <td>0.000</td>\n",
       "      <td>0.00</td>\n",
       "      <td>0.000</td>\n",
       "      <td>-83.000</td>\n",
       "      <td>-7.000</td>\n",
       "      <td>0.700</td>\n",
       "      <td>...</td>\n",
       "      <td>2.000</td>\n",
       "      <td>0.000</td>\n",
       "      <td>0.000</td>\n",
       "      <td>0.000</td>\n",
       "      <td>0.000</td>\n",
       "      <td>0.000</td>\n",
       "      <td>0.000</td>\n",
       "      <td>0.000</td>\n",
       "      <td>0.000</td>\n",
       "      <td>0.000</td>\n",
       "    </tr>\n",
       "    <tr>\n",
       "      <th>50%</th>\n",
       "      <td>0.000</td>\n",
       "      <td>48.380</td>\n",
       "      <td>366.000</td>\n",
       "      <td>45.000</td>\n",
       "      <td>0.250</td>\n",
       "      <td>3.00</td>\n",
       "      <td>0.000</td>\n",
       "      <td>-5.000</td>\n",
       "      <td>-0.300</td>\n",
       "      <td>3.000</td>\n",
       "      <td>...</td>\n",
       "      <td>3.000</td>\n",
       "      <td>0.000</td>\n",
       "      <td>0.000</td>\n",
       "      <td>0.000</td>\n",
       "      <td>0.000</td>\n",
       "      <td>1.000</td>\n",
       "      <td>0.000</td>\n",
       "      <td>0.000</td>\n",
       "      <td>0.000</td>\n",
       "      <td>0.000</td>\n",
       "    </tr>\n",
       "    <tr>\n",
       "      <th>75%</th>\n",
       "      <td>1.000</td>\n",
       "      <td>70.910</td>\n",
       "      <td>722.000</td>\n",
       "      <td>60.000</td>\n",
       "      <td>0.990</td>\n",
       "      <td>40.00</td>\n",
       "      <td>0.300</td>\n",
       "      <td>65.000</td>\n",
       "      <td>1.600</td>\n",
       "      <td>7.700</td>\n",
       "      <td>...</td>\n",
       "      <td>4.000</td>\n",
       "      <td>1.000</td>\n",
       "      <td>0.000</td>\n",
       "      <td>0.000</td>\n",
       "      <td>0.000</td>\n",
       "      <td>1.000</td>\n",
       "      <td>0.000</td>\n",
       "      <td>0.000</td>\n",
       "      <td>0.000</td>\n",
       "      <td>0.000</td>\n",
       "    </tr>\n",
       "    <tr>\n",
       "      <th>max</th>\n",
       "      <td>1.000</td>\n",
       "      <td>1223.380</td>\n",
       "      <td>7359.000</td>\n",
       "      <td>400.000</td>\n",
       "      <td>159.390</td>\n",
       "      <td>4321.00</td>\n",
       "      <td>1112.400</td>\n",
       "      <td>5192.000</td>\n",
       "      <td>2483.500</td>\n",
       "      <td>221.700</td>\n",
       "      <td>...</td>\n",
       "      <td>4.000</td>\n",
       "      <td>1.000</td>\n",
       "      <td>1.000</td>\n",
       "      <td>1.000</td>\n",
       "      <td>1.000</td>\n",
       "      <td>1.000</td>\n",
       "      <td>1.000</td>\n",
       "      <td>1.000</td>\n",
       "      <td>1.000</td>\n",
       "      <td>1.000</td>\n",
       "    </tr>\n",
       "  </tbody>\n",
       "</table>\n",
       "<p>8 rows × 63 columns</p>\n",
       "</div>"
      ],
      "text/plain": [
       "           Churn  MonthlyRevenue  MonthlyMinutes  TotalRecurringCharge  \\\n",
       "count  49776.000       49776.000       49776.000             49776.000   \n",
       "mean       0.286          58.720         525.078                46.835   \n",
       "std        0.452          44.315         528.509                23.759   \n",
       "min        0.000          -6.170           0.000                -6.000   \n",
       "25%        0.000          33.610         158.000                30.000   \n",
       "50%        0.000          48.380         366.000                45.000   \n",
       "75%        1.000          70.910         722.000                60.000   \n",
       "max        1.000        1223.380        7359.000               400.000   \n",
       "\n",
       "       DirectorAssistedCalls  OverageMinutes  RoamingCalls  PercChangeMinutes  \\\n",
       "count              49776.000        49776.00     49776.000          49776.000   \n",
       "mean                   0.892           39.76         1.226            -11.622   \n",
       "std                    2.225           96.08         9.846            255.844   \n",
       "min                    0.000            0.00         0.000          -3875.000   \n",
       "25%                    0.000            0.00         0.000            -83.000   \n",
       "50%                    0.250            3.00         0.000             -5.000   \n",
       "75%                    0.990           40.00         0.300             65.000   \n",
       "max                  159.390         4321.00      1112.400           5192.000   \n",
       "\n",
       "       PercChangeRevenues  DroppedCalls  ...  PrizmCode  MaritalStatus  \\\n",
       "count           49776.000     49776.000  ...  49776.000      49776.000   \n",
       "mean               -1.168         6.011  ...      2.855          0.372   \n",
       "std                39.393         9.036  ...      1.176          0.483   \n",
       "min             -1107.700         0.000  ...      1.000          0.000   \n",
       "25%                -7.000         0.700  ...      2.000          0.000   \n",
       "50%                -0.300         3.000  ...      3.000          0.000   \n",
       "75%                 1.600         7.700  ...      4.000          1.000   \n",
       "max              2483.500       221.700  ...      4.000          1.000   \n",
       "\n",
       "       Job_is_Clerical  Job_is_Crafts  Job_is_Homemaker  Job_is_Other  \\\n",
       "count        49776.000      49776.000         49776.000     49776.000   \n",
       "mean             0.020          0.030             0.003         0.733   \n",
       "std              0.139          0.171             0.056         0.443   \n",
       "min              0.000          0.000             0.000         0.000   \n",
       "25%              0.000          0.000             0.000         0.000   \n",
       "50%              0.000          0.000             0.000         1.000   \n",
       "75%              0.000          0.000             0.000         1.000   \n",
       "max              1.000          1.000             1.000         1.000   \n",
       "\n",
       "       Job_is_Professional  Job_is_Retired  Job_is_Self  Job_is_Student  \n",
       "count            49776.000       49776.000    49776.000       49776.000  \n",
       "mean                 0.175           0.015        0.018           0.008  \n",
       "std                  0.380           0.120        0.131           0.087  \n",
       "min                  0.000           0.000        0.000           0.000  \n",
       "25%                  0.000           0.000        0.000           0.000  \n",
       "50%                  0.000           0.000        0.000           0.000  \n",
       "75%                  0.000           0.000        0.000           0.000  \n",
       "max                  1.000           1.000        1.000           1.000  \n",
       "\n",
       "[8 rows x 63 columns]"
      ]
     },
     "execution_count": 28,
     "metadata": {},
     "output_type": "execute_result"
    }
   ],
   "source": [
    "df2.describe()"
   ]
  },
  {
   "cell_type": "code",
   "execution_count": 29,
   "metadata": {
    "ExecuteTime": {
     "end_time": "2021-04-11T05:50:42.701714Z",
     "start_time": "2021-04-11T05:50:42.687752Z"
    }
   },
   "outputs": [
    {
     "data": {
      "text/plain": [
       "0    35519\n",
       "1    14257\n",
       "Name: Churn, dtype: int64"
      ]
     },
     "execution_count": 29,
     "metadata": {},
     "output_type": "execute_result"
    }
   ],
   "source": [
    "df2.Churn.value_counts()"
   ]
  },
  {
   "cell_type": "markdown",
   "metadata": {},
   "source": [
    "We can see that non-churn data is a lot more than churn data. We will use undersampler later to deal with the imbalanced dataset"
   ]
  },
  {
   "cell_type": "markdown",
   "metadata": {},
   "source": [
    "## Correlation Analysis\n",
    "Since we have many columns, we will split the features to pair it with churn for correlation analysis"
   ]
  },
  {
   "cell_type": "code",
   "execution_count": 38,
   "metadata": {
    "ExecuteTime": {
     "end_time": "2021-04-11T05:56:28.417711Z",
     "start_time": "2021-04-11T05:56:28.096558Z"
    },
    "scrolled": false
   },
   "outputs": [
    {
     "data": {
      "text/plain": [
       "<AxesSubplot:>"
      ]
     },
     "execution_count": 38,
     "metadata": {},
     "output_type": "execute_result"
    },
    {
     "data": {
      "image/png": "[encoded data removed]",
      "text/plain": [
       "<Figure size 432x288 with 2 Axes>"
      ]
     },
     "metadata": {
      "needs_background": "light"
     },
     "output_type": "display_data"
    }
   ],
   "source": [
    "colors = sns.color_palette(\"bright\", as_cmap=True)\n",
    "sns.heatmap(df2.iloc[:, 0:15].corr(), cmap=colors)"
   ]
  },
  {
   "cell_type": "markdown",
   "metadata": {},
   "source": [
    "Most are having no correlation with churn, but OverageMinutes, RoamingCalls, PercChangeRevenues show some relation with churn"
   ]
  },
  {
   "cell_type": "code",
   "execution_count": 40,
   "metadata": {
    "ExecuteTime": {
     "end_time": "2021-04-11T05:56:51.738818Z",
     "start_time": "2021-04-11T05:56:51.393409Z"
    }
   },
   "outputs": [
    {
     "data": {
      "text/plain": [
       "<AxesSubplot:>"
      ]
     },
     "execution_count": 40,
     "metadata": {},
     "output_type": "execute_result"
    },
    {
     "data": {
      "image/png": "[encoded data removed]",
      "text/plain": [
       "<Figure size 432x288 with 2 Axes>"
      ]
     },
     "metadata": {
      "needs_background": "light"
     },
     "output_type": "display_data"
    }
   ],
   "source": [
    "sns.heatmap(pd.concat([df2.iloc[:, 0], df2.iloc[:, 15:30]], axis=1)\n",
    "            .corr(), cmap=colors)"
   ]
  },
  {
   "cell_type": "markdown",
   "metadata": {},
   "source": [
    "CurrentEquipmentDays shows some correlation with churn"
   ]
  },
  {
   "cell_type": "code",
   "execution_count": 41,
   "metadata": {
    "ExecuteTime": {
     "end_time": "2021-04-11T05:57:06.144186Z",
     "start_time": "2021-04-11T05:57:05.801032Z"
    }
   },
   "outputs": [
    {
     "data": {
      "text/plain": [
       "<AxesSubplot:>"
      ]
     },
     "execution_count": 41,
     "metadata": {},
     "output_type": "execute_result"
    },
    {
     "data": {
      "image/png": "[encoded data removed]",
      "text/plain": [
       "<Figure size 432x288 with 2 Axes>"
      ]
     },
     "metadata": {
      "needs_background": "light"
     },
     "output_type": "display_data"
    }
   ],
   "source": [
    "sns.heatmap(pd.concat([df2.iloc[:, 0], df2.iloc[:, 30:45]], axis=1)\n",
    "            .corr(), cmap=colors)"
   ]
  },
  {
   "cell_type": "markdown",
   "metadata": {
    "ExecuteTime": {
     "end_time": "2021-04-11T06:00:42.928660Z",
     "start_time": "2021-04-11T06:00:42.912703Z"
    }
   },
   "source": [
    "RetentionCalls shows some correlation with churn"
   ]
  },
  {
   "cell_type": "code",
   "execution_count": 42,
   "metadata": {
    "ExecuteTime": {
     "end_time": "2021-04-11T05:57:22.721269Z",
     "start_time": "2021-04-11T05:57:22.291466Z"
    }
   },
   "outputs": [
    {
     "data": {
      "text/plain": [
       "<AxesSubplot:>"
      ]
     },
     "execution_count": 42,
     "metadata": {},
     "output_type": "execute_result"
    },
    {
     "data": {
      "image/png": "[encoded data removed]",
      "text/plain": [
       "<Figure size 432x288 with 2 Axes>"
      ]
     },
     "metadata": {
      "needs_background": "light"
     },
     "output_type": "display_data"
    }
   ],
   "source": [
    "sns.heatmap(pd.concat([df2.iloc[:, 0], df2.iloc[:, 45:63]], axis=1)\n",
    "            .corr(), cmap=colors)"
   ]
  },
  {
   "cell_type": "markdown",
   "metadata": {},
   "source": [
    "No strong relationship identified"
   ]
  },
  {
   "cell_type": "markdown",
   "metadata": {},
   "source": [
    "Overall: OverageMinutes, RoamingCalls, PercChangeRevenues, RetentionCalls, CurrentEquipmentDays show some correlation with churn"
   ]
  },
  {
   "cell_type": "markdown",
   "metadata": {},
   "source": [
    "## Pair Plot\n",
    "Since we have a lot of rows and columns, we will just visualize a few columns with churn for analysis here"
   ]
  },
  {
   "cell_type": "code",
   "execution_count": 49,
   "metadata": {
    "ExecuteTime": {
     "end_time": "2021-04-11T06:18:09.895958Z",
     "start_time": "2021-04-11T06:15:49.615121Z"
    }
   },
   "outputs": [
    {
     "data": {
      "text/plain": [
       "<seaborn.axisgrid.PairGrid at 0x1f9e68d0860>"
      ]
     },
     "execution_count": 49,
     "metadata": {},
     "output_type": "execute_result"
    },
    {
     "data": {
      "image/png": "[encoded data removed]",
      "text/plain": [
       "<Figure size 1080x1080 with 42 Axes>"
      ]
     },
     "metadata": {
      "needs_background": "light"
     },
     "output_type": "display_data"
    }
   ],
   "source": [
    "sns.pairplot(df2[['Churn', 'OverageMinutes', 'RoamingCalls', \n",
    "     'PercChangeRevenues', 'RetentionCalls', 'CurrentEquipmentDays']])"
   ]
  },
  {
   "cell_type": "code",
   "execution_count": 54,
   "metadata": {
    "ExecuteTime": {
     "end_time": "2021-04-11T06:54:53.814070Z",
     "start_time": "2021-04-11T06:54:53.584186Z"
    }
   },
   "outputs": [
    {
     "data": {
      "text/plain": [
       "<AxesSubplot:>"
      ]
     },
     "execution_count": 54,
     "metadata": {},
     "output_type": "execute_result"
    },
    {
     "data": {
      "image/png": "[encoded data removed]",
      "text/plain": [
       "<Figure size 960x320 with 1 Axes>"
      ]
     },
     "metadata": {
      "needs_background": "light"
     },
     "output_type": "display_data"
    }
   ],
   "source": [
    "plt.figure(figsize=(12,4), dpi=80)\n",
    "df2[['Churn', 'OverageMinutes', 'RoamingCalls', \n",
    "     'PercChangeRevenues', 'RetentionCalls', 'CurrentEquipmentDays']].boxplot()"
   ]
  },
  {
   "cell_type": "markdown",
   "metadata": {},
   "source": [
    "The ranges of the values of features are pretty large. We will need to transform the data using MinMaxScaler later"
   ]
  },
  {
   "cell_type": "code",
   "execution_count": 58,
   "metadata": {
    "ExecuteTime": {
     "end_time": "2021-04-11T07:05:59.244245Z",
     "start_time": "2021-04-11T07:05:54.438698Z"
    },
    "scrolled": true
   },
   "outputs": [
    {
     "data": {
      "text/plain": [
       "array([[<AxesSubplot:title={'center':'Churn'}>,\n",
       "        <AxesSubplot:title={'center':'MonthlyRevenue'}>,\n",
       "        <AxesSubplot:title={'center':'MonthlyMinutes'}>,\n",
       "        <AxesSubplot:title={'center':'TotalRecurringCharge'}>,\n",
       "        <AxesSubplot:title={'center':'DirectorAssistedCalls'}>,\n",
       "        <AxesSubplot:title={'center':'OverageMinutes'}>,\n",
       "        <AxesSubplot:title={'center':'RoamingCalls'}>,\n",
       "        <AxesSubplot:title={'center':'PercChangeMinutes'}>],\n",
       "       [<AxesSubplot:title={'center':'PercChangeRevenues'}>,\n",
       "        <AxesSubplot:title={'center':'DroppedCalls'}>,\n",
       "        <AxesSubplot:title={'center':'BlockedCalls'}>,\n",
       "        <AxesSubplot:title={'center':'UnansweredCalls'}>,\n",
       "        <AxesSubplot:title={'center':'CustomerCareCalls'}>,\n",
       "        <AxesSubplot:title={'center':'ThreewayCalls'}>,\n",
       "        <AxesSubplot:title={'center':'ReceivedCalls'}>,\n",
       "        <AxesSubplot:title={'center':'OutboundCalls'}>],\n",
       "       [<AxesSubplot:title={'center':'InboundCalls'}>,\n",
       "        <AxesSubplot:title={'center':'PeakCallsInOut'}>,\n",
       "        <AxesSubplot:title={'center':'OffPeakCallsInOut'}>,\n",
       "        <AxesSubplot:title={'center':'DroppedBlockedCalls'}>,\n",
       "        <AxesSubplot:title={'center':'CallForwardingCalls'}>,\n",
       "        <AxesSubplot:title={'center':'CallWaitingCalls'}>,\n",
       "        <AxesSubplot:title={'center':'MonthsInService'}>,\n",
       "        <AxesSubplot:title={'center':'UniqueSubs'}>],\n",
       "       [<AxesSubplot:title={'center':'ActiveSubs'}>,\n",
       "        <AxesSubplot:title={'center':'ServiceArea'}>,\n",
       "        <AxesSubplot:title={'center':'Handsets'}>,\n",
       "        <AxesSubplot:title={'center':'HandsetModels'}>,\n",
       "        <AxesSubplot:title={'center':'CurrentEquipmentDays'}>,\n",
       "        <AxesSubplot:title={'center':'AgeHH1'}>,\n",
       "        <AxesSubplot:title={'center':'AgeHH2'}>,\n",
       "        <AxesSubplot:title={'center':'ChildrenInHH'}>],\n",
       "       [<AxesSubplot:title={'center':'HandsetRefurbished'}>,\n",
       "        <AxesSubplot:title={'center':'HandsetWebCapable'}>,\n",
       "        <AxesSubplot:title={'center':'TruckOwner'}>,\n",
       "        <AxesSubplot:title={'center':'RVOwner'}>,\n",
       "        <AxesSubplot:title={'center':'Homeownership'}>,\n",
       "        <AxesSubplot:title={'center':'BuysViaMailOrder'}>,\n",
       "        <AxesSubplot:title={'center':'RespondsToMailOffers'}>,\n",
       "        <AxesSubplot:title={'center':'OptOutMailings'}>],\n",
       "       [<AxesSubplot:title={'center':'NonUSTravel'}>,\n",
       "        <AxesSubplot:title={'center':'OwnsComputer'}>,\n",
       "        <AxesSubplot:title={'center':'HasCreditCard'}>,\n",
       "        <AxesSubplot:title={'center':'RetentionCalls'}>,\n",
       "        <AxesSubplot:title={'center':'RetentionOffersAccepted'}>,\n",
       "        <AxesSubplot:title={'center':'NewCellphoneUser'}>,\n",
       "        <AxesSubplot:title={'center':'NotNewCellphoneUser'}>,\n",
       "        <AxesSubplot:title={'center':'ReferralsMadeBySubscriber'}>],\n",
       "       [<AxesSubplot:title={'center':'IncomeGroup'}>,\n",
       "        <AxesSubplot:title={'center':'OwnsMotorcycle'}>,\n",
       "        <AxesSubplot:title={'center':'AdjustmentsToCreditRating'}>,\n",
       "        <AxesSubplot:title={'center':'MadeCallToRetentionTeam'}>,\n",
       "        <AxesSubplot:title={'center':'CreditRating'}>,\n",
       "        <AxesSubplot:title={'center':'PrizmCode'}>,\n",
       "        <AxesSubplot:title={'center':'MaritalStatus'}>,\n",
       "        <AxesSubplot:title={'center':'Job_is_Clerical'}>],\n",
       "       [<AxesSubplot:title={'center':'Job_is_Crafts'}>,\n",
       "        <AxesSubplot:title={'center':'Job_is_Homemaker'}>,\n",
       "        <AxesSubplot:title={'center':'Job_is_Other'}>,\n",
       "        <AxesSubplot:title={'center':'Job_is_Professional'}>,\n",
       "        <AxesSubplot:title={'center':'Job_is_Retired'}>,\n",
       "        <AxesSubplot:title={'center':'Job_is_Self'}>,\n",
       "        <AxesSubplot:title={'center':'Job_is_Student'}>, <AxesSubplot:>]],\n",
       "      dtype=object)"
      ]
     },
     "execution_count": 58,
     "metadata": {},
     "output_type": "execute_result"
    },
    {
     "data": {
      "text/plain": [
       "<Figure size 960x640 with 0 Axes>"
      ]
     },
     "metadata": {},
     "output_type": "display_data"
    },
    {
     "data": {
      "image/png": "[encoded data removed]",
      "text/plain": [
       "<Figure size 432x288 with 64 Axes>"
      ]
     },
     "metadata": {
      "needs_background": "light"
     },
     "output_type": "display_data"
    }
   ],
   "source": [
    "plt.figure(figsize=(12,8), dpi=80)\n",
    "df2.hist()"
   ]
  },
  {
   "cell_type": "markdown",
   "metadata": {},
   "source": [
    "# Feature Engineering"
   ]
  },
  {
   "cell_type": "markdown",
   "metadata": {},
   "source": [
    "## Data Transformation"
   ]
  },
  {
   "cell_type": "code",
   "execution_count": 65,
   "metadata": {
    "ExecuteTime": {
     "end_time": "2021-04-11T07:12:29.205219Z",
     "start_time": "2021-04-11T07:12:29.060984Z"
    }
   },
   "outputs": [
    {
     "name": "stdout",
     "output_type": "stream",
     "text": [
      "The transformed data:  [[-0.951 -0.94  -0.862 ... -1.    -1.    -1.   ]\n",
      " [-0.962 -0.997 -0.887 ... -1.    -1.    -1.   ]\n",
      " [-0.928 -0.998 -0.783 ... -1.    -1.    -1.   ]\n",
      " ...\n",
      " [-0.873 -0.803 -0.626 ... -1.    -1.    -1.   ]\n",
      " [-0.799 -0.896 -0.823 ... -1.    -1.    -1.   ]\n",
      " [-0.835 -0.526 -0.552 ... -1.    -1.    -1.   ]]\n"
     ]
    },
    {
     "data": {
      "text/html": [
       "<div>\n",
       "<style scoped>\n",
       "    .dataframe tbody tr th:only-of-type {\n",
       "        vertical-align: middle;\n",
       "    }\n",
       "\n",
       "    .dataframe tbody tr th {\n",
       "        vertical-align: top;\n",
       "    }\n",
       "\n",
       "    .dataframe thead th {\n",
       "        text-align: right;\n",
       "    }\n",
       "</style>\n",
       "<table border=\"1\" class=\"dataframe\">\n",
       "  <thead>\n",
       "    <tr style=\"text-align: right;\">\n",
       "      <th></th>\n",
       "      <th>MonthlyRevenue</th>\n",
       "      <th>MonthlyMinutes</th>\n",
       "      <th>TotalRecurringCharge</th>\n",
       "      <th>DirectorAssistedCalls</th>\n",
       "      <th>OverageMinutes</th>\n",
       "      <th>RoamingCalls</th>\n",
       "      <th>PercChangeMinutes</th>\n",
       "      <th>PercChangeRevenues</th>\n",
       "      <th>DroppedCalls</th>\n",
       "      <th>BlockedCalls</th>\n",
       "      <th>UnansweredCalls</th>\n",
       "      <th>CustomerCareCalls</th>\n",
       "      <th>ThreewayCalls</th>\n",
       "      <th>ReceivedCalls</th>\n",
       "      <th>OutboundCalls</th>\n",
       "      <th>InboundCalls</th>\n",
       "      <th>PeakCallsInOut</th>\n",
       "      <th>OffPeakCallsInOut</th>\n",
       "      <th>DroppedBlockedCalls</th>\n",
       "      <th>CallForwardingCalls</th>\n",
       "      <th>CallWaitingCalls</th>\n",
       "      <th>MonthsInService</th>\n",
       "      <th>UniqueSubs</th>\n",
       "      <th>ActiveSubs</th>\n",
       "      <th>ServiceArea</th>\n",
       "      <th>Handsets</th>\n",
       "      <th>HandsetModels</th>\n",
       "      <th>CurrentEquipmentDays</th>\n",
       "      <th>AgeHH1</th>\n",
       "      <th>AgeHH2</th>\n",
       "      <th>ChildrenInHH</th>\n",
       "      <th>HandsetRefurbished</th>\n",
       "      <th>HandsetWebCapable</th>\n",
       "      <th>TruckOwner</th>\n",
       "      <th>RVOwner</th>\n",
       "      <th>Homeownership</th>\n",
       "      <th>BuysViaMailOrder</th>\n",
       "      <th>RespondsToMailOffers</th>\n",
       "      <th>OptOutMailings</th>\n",
       "      <th>NonUSTravel</th>\n",
       "      <th>OwnsComputer</th>\n",
       "      <th>HasCreditCard</th>\n",
       "      <th>RetentionCalls</th>\n",
       "      <th>RetentionOffersAccepted</th>\n",
       "      <th>NewCellphoneUser</th>\n",
       "      <th>NotNewCellphoneUser</th>\n",
       "      <th>ReferralsMadeBySubscriber</th>\n",
       "      <th>IncomeGroup</th>\n",
       "      <th>OwnsMotorcycle</th>\n",
       "      <th>AdjustmentsToCreditRating</th>\n",
       "      <th>MadeCallToRetentionTeam</th>\n",
       "      <th>CreditRating</th>\n",
       "      <th>PrizmCode</th>\n",
       "      <th>MaritalStatus</th>\n",
       "      <th>Job_is_Clerical</th>\n",
       "      <th>Job_is_Crafts</th>\n",
       "      <th>Job_is_Homemaker</th>\n",
       "      <th>Job_is_Other</th>\n",
       "      <th>Job_is_Professional</th>\n",
       "      <th>Job_is_Retired</th>\n",
       "      <th>Job_is_Self</th>\n",
       "      <th>Job_is_Student</th>\n",
       "    </tr>\n",
       "  </thead>\n",
       "  <tbody>\n",
       "    <tr>\n",
       "      <th>0</th>\n",
       "      <td>-0.951</td>\n",
       "      <td>-0.940</td>\n",
       "      <td>-0.862</td>\n",
       "      <td>-0.997</td>\n",
       "      <td>-1.0</td>\n",
       "      <td>-1.0</td>\n",
       "      <td>-0.180</td>\n",
       "      <td>-0.394</td>\n",
       "      <td>-0.994</td>\n",
       "      <td>-0.996</td>\n",
       "      <td>-0.985</td>\n",
       "      <td>-1.000</td>\n",
       "      <td>-1.000</td>\n",
       "      <td>-0.928</td>\n",
       "      <td>-1.000</td>\n",
       "      <td>-1.000</td>\n",
       "      <td>-0.945</td>\n",
       "      <td>-0.967</td>\n",
       "      <td>-0.992</td>\n",
       "      <td>-1.0</td>\n",
       "      <td>-0.997</td>\n",
       "      <td>1.000</td>\n",
       "      <td>-0.99</td>\n",
       "      <td>-0.962</td>\n",
       "      <td>0.762</td>\n",
       "      <td>-0.913</td>\n",
       "      <td>-0.857</td>\n",
       "      <td>-0.597</td>\n",
       "      <td>0.253</td>\n",
       "      <td>-1.000</td>\n",
       "      <td>-1.0</td>\n",
       "      <td>-1.0</td>\n",
       "      <td>1.0</td>\n",
       "      <td>-1.0</td>\n",
       "      <td>-1.0</td>\n",
       "      <td>1.0</td>\n",
       "      <td>1.0</td>\n",
       "      <td>1.0</td>\n",
       "      <td>-1.0</td>\n",
       "      <td>-1.0</td>\n",
       "      <td>1.0</td>\n",
       "      <td>1.0</td>\n",
       "      <td>-0.5</td>\n",
       "      <td>-1.0</td>\n",
       "      <td>-1.0</td>\n",
       "      <td>-1.0</td>\n",
       "      <td>-1.0</td>\n",
       "      <td>-0.111</td>\n",
       "      <td>-1.0</td>\n",
       "      <td>-1.00</td>\n",
       "      <td>1.0</td>\n",
       "      <td>-1.000</td>\n",
       "      <td>-0.333</td>\n",
       "      <td>-1.0</td>\n",
       "      <td>-1.0</td>\n",
       "      <td>-1.0</td>\n",
       "      <td>-1.0</td>\n",
       "      <td>-1.0</td>\n",
       "      <td>1.0</td>\n",
       "      <td>-1.0</td>\n",
       "      <td>-1.0</td>\n",
       "      <td>-1.0</td>\n",
       "    </tr>\n",
       "    <tr>\n",
       "      <th>1</th>\n",
       "      <td>-0.962</td>\n",
       "      <td>-0.997</td>\n",
       "      <td>-0.887</td>\n",
       "      <td>-1.000</td>\n",
       "      <td>-1.0</td>\n",
       "      <td>-1.0</td>\n",
       "      <td>-0.146</td>\n",
       "      <td>-0.383</td>\n",
       "      <td>-0.997</td>\n",
       "      <td>-1.000</td>\n",
       "      <td>-0.994</td>\n",
       "      <td>-1.000</td>\n",
       "      <td>-1.000</td>\n",
       "      <td>-1.000</td>\n",
       "      <td>-1.000</td>\n",
       "      <td>-1.000</td>\n",
       "      <td>-0.995</td>\n",
       "      <td>-0.999</td>\n",
       "      <td>-0.998</td>\n",
       "      <td>-1.0</td>\n",
       "      <td>-1.000</td>\n",
       "      <td>0.891</td>\n",
       "      <td>-1.00</td>\n",
       "      <td>-0.962</td>\n",
       "      <td>0.633</td>\n",
       "      <td>-0.913</td>\n",
       "      <td>-1.000</td>\n",
       "      <td>0.661</td>\n",
       "      <td>-0.192</td>\n",
       "      <td>-0.152</td>\n",
       "      <td>1.0</td>\n",
       "      <td>-1.0</td>\n",
       "      <td>-1.0</td>\n",
       "      <td>-1.0</td>\n",
       "      <td>-1.0</td>\n",
       "      <td>1.0</td>\n",
       "      <td>1.0</td>\n",
       "      <td>1.0</td>\n",
       "      <td>-1.0</td>\n",
       "      <td>-1.0</td>\n",
       "      <td>1.0</td>\n",
       "      <td>1.0</td>\n",
       "      <td>-1.0</td>\n",
       "      <td>-1.0</td>\n",
       "      <td>1.0</td>\n",
       "      <td>-1.0</td>\n",
       "      <td>-1.0</td>\n",
       "      <td>0.111</td>\n",
       "      <td>-1.0</td>\n",
       "      <td>-1.00</td>\n",
       "      <td>-1.0</td>\n",
       "      <td>0.000</td>\n",
       "      <td>-0.333</td>\n",
       "      <td>1.0</td>\n",
       "      <td>-1.0</td>\n",
       "      <td>-1.0</td>\n",
       "      <td>-1.0</td>\n",
       "      <td>-1.0</td>\n",
       "      <td>1.0</td>\n",
       "      <td>-1.0</td>\n",
       "      <td>-1.0</td>\n",
       "      <td>-1.0</td>\n",
       "    </tr>\n",
       "    <tr>\n",
       "      <th>2</th>\n",
       "      <td>-0.928</td>\n",
       "      <td>-0.998</td>\n",
       "      <td>-0.783</td>\n",
       "      <td>-1.000</td>\n",
       "      <td>-1.0</td>\n",
       "      <td>-1.0</td>\n",
       "      <td>-0.146</td>\n",
       "      <td>-0.383</td>\n",
       "      <td>-1.000</td>\n",
       "      <td>-1.000</td>\n",
       "      <td>-1.000</td>\n",
       "      <td>-1.000</td>\n",
       "      <td>-1.000</td>\n",
       "      <td>-1.000</td>\n",
       "      <td>-0.999</td>\n",
       "      <td>-1.000</td>\n",
       "      <td>-0.999</td>\n",
       "      <td>-0.995</td>\n",
       "      <td>-1.000</td>\n",
       "      <td>-1.0</td>\n",
       "      <td>-1.000</td>\n",
       "      <td>0.964</td>\n",
       "      <td>-1.00</td>\n",
       "      <td>-0.962</td>\n",
       "      <td>-0.058</td>\n",
       "      <td>-1.000</td>\n",
       "      <td>-1.000</td>\n",
       "      <td>1.000</td>\n",
       "      <td>-0.475</td>\n",
       "      <td>-0.475</td>\n",
       "      <td>1.0</td>\n",
       "      <td>-1.0</td>\n",
       "      <td>-1.0</td>\n",
       "      <td>-1.0</td>\n",
       "      <td>-1.0</td>\n",
       "      <td>-1.0</td>\n",
       "      <td>-1.0</td>\n",
       "      <td>-1.0</td>\n",
       "      <td>-1.0</td>\n",
       "      <td>-1.0</td>\n",
       "      <td>-1.0</td>\n",
       "      <td>1.0</td>\n",
       "      <td>-1.0</td>\n",
       "      <td>-1.0</td>\n",
       "      <td>1.0</td>\n",
       "      <td>-1.0</td>\n",
       "      <td>-1.0</td>\n",
       "      <td>0.333</td>\n",
       "      <td>-1.0</td>\n",
       "      <td>-1.00</td>\n",
       "      <td>-1.0</td>\n",
       "      <td>-0.333</td>\n",
       "      <td>-1.000</td>\n",
       "      <td>1.0</td>\n",
       "      <td>-1.0</td>\n",
       "      <td>1.0</td>\n",
       "      <td>-1.0</td>\n",
       "      <td>-1.0</td>\n",
       "      <td>-1.0</td>\n",
       "      <td>-1.0</td>\n",
       "      <td>-1.0</td>\n",
       "      <td>-1.0</td>\n",
       "    </tr>\n",
       "    <tr>\n",
       "      <th>3</th>\n",
       "      <td>-0.856</td>\n",
       "      <td>-0.643</td>\n",
       "      <td>-0.601</td>\n",
       "      <td>-0.984</td>\n",
       "      <td>-1.0</td>\n",
       "      <td>-1.0</td>\n",
       "      <td>-0.111</td>\n",
       "      <td>-0.379</td>\n",
       "      <td>-0.531</td>\n",
       "      <td>-0.953</td>\n",
       "      <td>-0.821</td>\n",
       "      <td>-0.974</td>\n",
       "      <td>-0.961</td>\n",
       "      <td>-0.851</td>\n",
       "      <td>0.149</td>\n",
       "      <td>-0.434</td>\n",
       "      <td>-0.468</td>\n",
       "      <td>-0.588</td>\n",
       "      <td>-0.648</td>\n",
       "      <td>-1.0</td>\n",
       "      <td>-0.787</td>\n",
       "      <td>0.927</td>\n",
       "      <td>-0.99</td>\n",
       "      <td>-0.925</td>\n",
       "      <td>0.633</td>\n",
       "      <td>-0.304</td>\n",
       "      <td>-0.571</td>\n",
       "      <td>-0.490</td>\n",
       "      <td>-0.394</td>\n",
       "      <td>-1.000</td>\n",
       "      <td>-1.0</td>\n",
       "      <td>-1.0</td>\n",
       "      <td>1.0</td>\n",
       "      <td>-1.0</td>\n",
       "      <td>-1.0</td>\n",
       "      <td>1.0</td>\n",
       "      <td>1.0</td>\n",
       "      <td>1.0</td>\n",
       "      <td>-1.0</td>\n",
       "      <td>-1.0</td>\n",
       "      <td>-1.0</td>\n",
       "      <td>1.0</td>\n",
       "      <td>-1.0</td>\n",
       "      <td>-1.0</td>\n",
       "      <td>1.0</td>\n",
       "      <td>-1.0</td>\n",
       "      <td>-1.0</td>\n",
       "      <td>0.333</td>\n",
       "      <td>-1.0</td>\n",
       "      <td>-1.00</td>\n",
       "      <td>-1.0</td>\n",
       "      <td>0.000</td>\n",
       "      <td>1.000</td>\n",
       "      <td>-1.0</td>\n",
       "      <td>-1.0</td>\n",
       "      <td>-1.0</td>\n",
       "      <td>-1.0</td>\n",
       "      <td>1.0</td>\n",
       "      <td>-1.0</td>\n",
       "      <td>-1.0</td>\n",
       "      <td>-1.0</td>\n",
       "      <td>-1.0</td>\n",
       "    </tr>\n",
       "    <tr>\n",
       "      <th>4</th>\n",
       "      <td>-0.962</td>\n",
       "      <td>-1.000</td>\n",
       "      <td>-0.887</td>\n",
       "      <td>-1.000</td>\n",
       "      <td>-1.0</td>\n",
       "      <td>-1.0</td>\n",
       "      <td>-0.145</td>\n",
       "      <td>-0.383</td>\n",
       "      <td>-1.000</td>\n",
       "      <td>-1.000</td>\n",
       "      <td>-1.000</td>\n",
       "      <td>-1.000</td>\n",
       "      <td>-1.000</td>\n",
       "      <td>-1.000</td>\n",
       "      <td>-1.000</td>\n",
       "      <td>-1.000</td>\n",
       "      <td>-1.000</td>\n",
       "      <td>-1.000</td>\n",
       "      <td>-1.000</td>\n",
       "      <td>-1.0</td>\n",
       "      <td>-1.000</td>\n",
       "      <td>0.709</td>\n",
       "      <td>-0.99</td>\n",
       "      <td>-0.925</td>\n",
       "      <td>0.507</td>\n",
       "      <td>-0.739</td>\n",
       "      <td>-0.714</td>\n",
       "      <td>-0.057</td>\n",
       "      <td>-0.071</td>\n",
       "      <td>0.091</td>\n",
       "      <td>-1.0</td>\n",
       "      <td>-1.0</td>\n",
       "      <td>-1.0</td>\n",
       "      <td>-1.0</td>\n",
       "      <td>-1.0</td>\n",
       "      <td>1.0</td>\n",
       "      <td>1.0</td>\n",
       "      <td>1.0</td>\n",
       "      <td>-1.0</td>\n",
       "      <td>-1.0</td>\n",
       "      <td>1.0</td>\n",
       "      <td>1.0</td>\n",
       "      <td>-1.0</td>\n",
       "      <td>-1.0</td>\n",
       "      <td>-1.0</td>\n",
       "      <td>1.0</td>\n",
       "      <td>-1.0</td>\n",
       "      <td>1.000</td>\n",
       "      <td>-1.0</td>\n",
       "      <td>-0.92</td>\n",
       "      <td>-1.0</td>\n",
       "      <td>-1.000</td>\n",
       "      <td>1.000</td>\n",
       "      <td>1.0</td>\n",
       "      <td>-1.0</td>\n",
       "      <td>-1.0</td>\n",
       "      <td>-1.0</td>\n",
       "      <td>-1.0</td>\n",
       "      <td>1.0</td>\n",
       "      <td>-1.0</td>\n",
       "      <td>-1.0</td>\n",
       "      <td>-1.0</td>\n",
       "    </tr>\n",
       "  </tbody>\n",
       "</table>\n",
       "</div>"
      ],
      "text/plain": [
       "   MonthlyRevenue  MonthlyMinutes  TotalRecurringCharge  \\\n",
       "0          -0.951          -0.940                -0.862   \n",
       "1          -0.962          -0.997                -0.887   \n",
       "2          -0.928          -0.998                -0.783   \n",
       "3          -0.856          -0.643                -0.601   \n",
       "4          -0.962          -1.000                -0.887   \n",
       "\n",
       "   DirectorAssistedCalls  OverageMinutes  RoamingCalls  PercChangeMinutes  \\\n",
       "0                 -0.997            -1.0          -1.0             -0.180   \n",
       "1                 -1.000            -1.0          -1.0             -0.146   \n",
       "2                 -1.000            -1.0          -1.0             -0.146   \n",
       "3                 -0.984            -1.0          -1.0             -0.111   \n",
       "4                 -1.000            -1.0          -1.0             -0.145   \n",
       "\n",
       "   PercChangeRevenues  DroppedCalls  BlockedCalls  UnansweredCalls  \\\n",
       "0              -0.394        -0.994        -0.996           -0.985   \n",
       "1              -0.383        -0.997        -1.000           -0.994   \n",
       "2              -0.383        -1.000        -1.000           -1.000   \n",
       "3              -0.379        -0.531        -0.953           -0.821   \n",
       "4              -0.383        -1.000        -1.000           -1.000   \n",
       "\n",
       "   CustomerCareCalls  ThreewayCalls  ReceivedCalls  OutboundCalls  \\\n",
       "0             -1.000         -1.000         -0.928         -1.000   \n",
       "1             -1.000         -1.000         -1.000         -1.000   \n",
       "2             -1.000         -1.000         -1.000         -0.999   \n",
       "3             -0.974         -0.961         -0.851          0.149   \n",
       "4             -1.000         -1.000         -1.000         -1.000   \n",
       "\n",
       "   InboundCalls  PeakCallsInOut  OffPeakCallsInOut  DroppedBlockedCalls  \\\n",
       "0        -1.000          -0.945             -0.967               -0.992   \n",
       "1        -1.000          -0.995             -0.999               -0.998   \n",
       "2        -1.000          -0.999             -0.995               -1.000   \n",
       "3        -0.434          -0.468             -0.588               -0.648   \n",
       "4        -1.000          -1.000             -1.000               -1.000   \n",
       "\n",
       "   CallForwardingCalls  CallWaitingCalls  MonthsInService  UniqueSubs  \\\n",
       "0                 -1.0            -0.997            1.000       -0.99   \n",
       "1                 -1.0            -1.000            0.891       -1.00   \n",
       "2                 -1.0            -1.000            0.964       -1.00   \n",
       "3                 -1.0            -0.787            0.927       -0.99   \n",
       "4                 -1.0            -1.000            0.709       -0.99   \n",
       "\n",
       "   ActiveSubs  ServiceArea  Handsets  HandsetModels  CurrentEquipmentDays  \\\n",
       "0      -0.962        0.762    -0.913         -0.857                -0.597   \n",
       "1      -0.962        0.633    -0.913         -1.000                 0.661   \n",
       "2      -0.962       -0.058    -1.000         -1.000                 1.000   \n",
       "3      -0.925        0.633    -0.304         -0.571                -0.490   \n",
       "4      -0.925        0.507    -0.739         -0.714                -0.057   \n",
       "\n",
       "   AgeHH1  AgeHH2  ChildrenInHH  HandsetRefurbished  HandsetWebCapable  \\\n",
       "0   0.253  -1.000          -1.0                -1.0                1.0   \n",
       "1  -0.192  -0.152           1.0                -1.0               -1.0   \n",
       "2  -0.475  -0.475           1.0                -1.0               -1.0   \n",
       "3  -0.394  -1.000          -1.0                -1.0                1.0   \n",
       "4  -0.071   0.091          -1.0                -1.0               -1.0   \n",
       "\n",
       "   TruckOwner  RVOwner  Homeownership  BuysViaMailOrder  RespondsToMailOffers  \\\n",
       "0        -1.0     -1.0            1.0               1.0                   1.0   \n",
       "1        -1.0     -1.0            1.0               1.0                   1.0   \n",
       "2        -1.0     -1.0           -1.0              -1.0                  -1.0   \n",
       "3        -1.0     -1.0            1.0               1.0                   1.0   \n",
       "4        -1.0     -1.0            1.0               1.0                   1.0   \n",
       "\n",
       "   OptOutMailings  NonUSTravel  OwnsComputer  HasCreditCard  RetentionCalls  \\\n",
       "0            -1.0         -1.0           1.0            1.0            -0.5   \n",
       "1            -1.0         -1.0           1.0            1.0            -1.0   \n",
       "2            -1.0         -1.0          -1.0            1.0            -1.0   \n",
       "3            -1.0         -1.0          -1.0            1.0            -1.0   \n",
       "4            -1.0         -1.0           1.0            1.0            -1.0   \n",
       "\n",
       "   RetentionOffersAccepted  NewCellphoneUser  NotNewCellphoneUser  \\\n",
       "0                     -1.0              -1.0                 -1.0   \n",
       "1                     -1.0               1.0                 -1.0   \n",
       "2                     -1.0               1.0                 -1.0   \n",
       "3                     -1.0               1.0                 -1.0   \n",
       "4                     -1.0              -1.0                  1.0   \n",
       "\n",
       "   ReferralsMadeBySubscriber  IncomeGroup  OwnsMotorcycle  \\\n",
       "0                       -1.0       -0.111            -1.0   \n",
       "1                       -1.0        0.111            -1.0   \n",
       "2                       -1.0        0.333            -1.0   \n",
       "3                       -1.0        0.333            -1.0   \n",
       "4                       -1.0        1.000            -1.0   \n",
       "\n",
       "   AdjustmentsToCreditRating  MadeCallToRetentionTeam  CreditRating  \\\n",
       "0                      -1.00                      1.0        -1.000   \n",
       "1                      -1.00                     -1.0         0.000   \n",
       "2                      -1.00                     -1.0        -0.333   \n",
       "3                      -1.00                     -1.0         0.000   \n",
       "4                      -0.92                     -1.0        -1.000   \n",
       "\n",
       "   PrizmCode  MaritalStatus  Job_is_Clerical  Job_is_Crafts  Job_is_Homemaker  \\\n",
       "0     -0.333           -1.0             -1.0           -1.0              -1.0   \n",
       "1     -0.333            1.0             -1.0           -1.0              -1.0   \n",
       "2     -1.000            1.0             -1.0            1.0              -1.0   \n",
       "3      1.000           -1.0             -1.0           -1.0              -1.0   \n",
       "4      1.000            1.0             -1.0           -1.0              -1.0   \n",
       "\n",
       "   Job_is_Other  Job_is_Professional  Job_is_Retired  Job_is_Self  \\\n",
       "0          -1.0                  1.0            -1.0         -1.0   \n",
       "1          -1.0                  1.0            -1.0         -1.0   \n",
       "2          -1.0                 -1.0            -1.0         -1.0   \n",
       "3           1.0                 -1.0            -1.0         -1.0   \n",
       "4          -1.0                  1.0            -1.0         -1.0   \n",
       "\n",
       "   Job_is_Student  \n",
       "0            -1.0  \n",
       "1            -1.0  \n",
       "2            -1.0  \n",
       "3            -1.0  \n",
       "4            -1.0  "
      ]
     },
     "execution_count": 65,
     "metadata": {},
     "output_type": "execute_result"
    }
   ],
   "source": [
    "# extract features and use min max scaler to rescale the data to the same range\n",
    "features = df2.drop(columns=['Churn'])\n",
    "\n",
    "from sklearn.preprocessing import MinMaxScaler\n",
    "scaler = MinMaxScaler([-1, 1])\n",
    "scaler.fit(features)\n",
    "print(\"The transformed data: \", scaler.transform(features))\n",
    "features = pd.DataFrame(scaler.transform(features), columns=features.columns)\n",
    "features.head()"
   ]
  },
  {
   "cell_type": "markdown",
   "metadata": {},
   "source": [
    "## Dealing with imbalanced data set"
   ]
  },
  {
   "cell_type": "code",
   "execution_count": 70,
   "metadata": {
    "ExecuteTime": {
     "end_time": "2021-04-11T07:47:48.007014Z",
     "start_time": "2021-04-11T07:47:47.849445Z"
    }
   },
   "outputs": [
    {
     "name": "stdout",
     "output_type": "stream",
     "text": [
      "we have imbalanced dataset: 14257 churn vs 35519 non-churn\n"
     ]
    },
    {
     "data": {
      "image/png": "[encoded data removed]",
      "text/plain": [
       "<Figure size 432x288 with 1 Axes>"
      ]
     },
     "metadata": {
      "needs_background": "light"
     },
     "output_type": "display_data"
    }
   ],
   "source": [
    "df2.Churn.hist()\n",
    "print('we have imbalanced dataset: {} churn vs {} non-churn'.format(\n",
    "    len(df2[df2.Churn == 1]), len(df2[df2.Churn == 0])))"
   ]
  },
  {
   "cell_type": "markdown",
   "metadata": {},
   "source": [
    "Again since we have around 14k of data for churn, we can afford to drop additional non-churn data to make the dataset balanced.\n",
    "\n",
    "Why do we need to make dataset balanced? This is to prevent cost function from being optimized towards non-churn data and balanced dataset makes prediction accuracy easier to interpret"
   ]
  },
  {
   "cell_type": "code",
   "execution_count": 82,
   "metadata": {
    "ExecuteTime": {
     "end_time": "2021-04-11T07:58:40.966472Z",
     "start_time": "2021-04-11T07:58:40.904118Z"
    },
    "scrolled": true
   },
   "outputs": [
    {
     "data": {
      "text/plain": [
       "1    14257\n",
       "0    14257\n",
       "Name: Churn, dtype: int64"
      ]
     },
     "execution_count": 82,
     "metadata": {},
     "output_type": "execute_result"
    }
   ],
   "source": [
    "from imblearn.under_sampling import RandomUnderSampler\n",
    "\n",
    "# define undersample strategy\n",
    "rus = RandomUnderSampler(sampling_strategy='majority', random_state=8017)\n",
    "X_resampled, y_resampled = rus.fit_resample(features, df2.Churn)\n",
    "y_resampled.value_counts()"
   ]
  },
  {
   "cell_type": "markdown",
   "metadata": {},
   "source": [
    "## Splitting data into training and testing set"
   ]
  },
  {
   "cell_type": "code",
   "execution_count": null,
   "metadata": {},
   "outputs": [],
   "source": []
  },
  {
   "cell_type": "code",
   "execution_count": null,
   "metadata": {},
   "outputs": [],
   "source": []
  },
  {
   "cell_type": "markdown",
   "metadata": {
    "ExecuteTime": {
     "end_time": "2021-04-11T07:12:18.381530Z",
     "start_time": "2021-04-11T07:12:18.271720Z"
    }
   },
   "source": [
    "## Feature Selection based on feature Importances"
   ]
  },
  {
   "cell_type": "code",
   "execution_count": null,
   "metadata": {},
   "outputs": [],
   "source": []
  },
  {
   "cell_type": "code",
   "execution_count": null,
   "metadata": {},
   "outputs": [],
   "source": []
  },
  {
   "cell_type": "markdown",
   "metadata": {},
   "source": [
    "# Training the model"
   ]
  },
  {
   "cell_type": "markdown",
   "metadata": {},
   "source": [
    "Performance metrics: "
   ]
  },
  {
   "cell_type": "code",
   "execution_count": null,
   "metadata": {},
   "outputs": [],
   "source": []
  },
  {
   "cell_type": "code",
   "execution_count": null,
   "metadata": {},
   "outputs": [],
   "source": []
  },
  {
   "cell_type": "code",
   "execution_count": null,
   "metadata": {},
   "outputs": [],
   "source": []
  },
  {
   "cell_type": "code",
   "execution_count": null,
   "metadata": {},
   "outputs": [],
   "source": []
  },
  {
   "cell_type": "code",
   "execution_count": null,
   "metadata": {},
   "outputs": [],
   "source": []
  },
  {
   "cell_type": "code",
   "execution_count": null,
   "metadata": {},
   "outputs": [],
   "source": []
  }
 ],
 "metadata": {
  "colab": {
   "authorship_tag": "ABX9TyPcyNuTJcplvsJOg+nm4Tuc",
   "collapsed_sections": [],
   "name": "Preliminary Analysis on Churn Data.ipynb",
   "provenance": []
  },
  "kernelspec": {
   "display_name": "Python 3",
   "language": "python",
   "name": "python3"
  },
  "language_info": {
   "codemirror_mode": {
    "name": "ipython",
    "version": 3
   },
   "file_extension": ".py",
   "mimetype": "text/x-python",
   "name": "python",
   "nbconvert_exporter": "python",
   "pygments_lexer": "ipython3",
   "version": "3.6.12"
  },
  "toc": {
   "base_numbering": 1,
   "nav_menu": {},
   "number_sections": true,
   "sideBar": true,
   "skip_h1_title": false,
   "title_cell": "Table of Contents",
   "title_sidebar": "Contents",
   "toc_cell": false,
   "toc_position": {},
   "toc_section_display": true,
   "toc_window_display": true
  }
 },
 "nbformat": 4,
 "nbformat_minor": 1
}
